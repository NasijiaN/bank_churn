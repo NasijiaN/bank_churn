{
 "cells": [
  {
   "cell_type": "markdown",
   "metadata": {
    "toc": true
   },
   "source": [
    "<h1>Содержание<span class=\"tocSkip\"></span></h1>\n",
    "<div class=\"toc\"><ul class=\"toc-item\"><li><span><a href=\"#Загрузка-данных\" data-toc-modified-id=\"Загрузка-данных-1\"><span class=\"toc-item-num\">1&nbsp;&nbsp;</span>Загрузка данных</a></span></li><li><span><a href=\"#Предобработка-данных\" data-toc-modified-id=\"Предобработка-данных-2\"><span class=\"toc-item-num\">2&nbsp;&nbsp;</span>Предобработка данных</a></span><ul class=\"toc-item\"><li><span><a href=\"#Стиль-заголовков\" data-toc-modified-id=\"Стиль-заголовков-2.1\"><span class=\"toc-item-num\">2.1&nbsp;&nbsp;</span>Стиль заголовков</a></span></li><li><span><a href=\"#Пропущенные-значения\" data-toc-modified-id=\"Пропущенные-значения-2.2\"><span class=\"toc-item-num\">2.2&nbsp;&nbsp;</span>Пропущенные значения</a></span></li><li><span><a href=\"#Дубликаты\" data-toc-modified-id=\"Дубликаты-2.3\"><span class=\"toc-item-num\">2.3&nbsp;&nbsp;</span>Дубликаты</a></span></li></ul></li><li><span><a href=\"#Подготовка-данных\" data-toc-modified-id=\"Подготовка-данных-3\"><span class=\"toc-item-num\">3&nbsp;&nbsp;</span>Подготовка данных</a></span><ul class=\"toc-item\"><li><span><a href=\"#Подготовка-датасета\" data-toc-modified-id=\"Подготовка-датасета-3.1\"><span class=\"toc-item-num\">3.1&nbsp;&nbsp;</span>Подготовка датасета</a></span></li><li><span><a href=\"#Выборка\" data-toc-modified-id=\"Выборка-3.2\"><span class=\"toc-item-num\">3.2&nbsp;&nbsp;</span>Выборка</a></span></li><li><span><a href=\"#Масштабирование-признаков\" data-toc-modified-id=\"Масштабирование-признаков-3.3\"><span class=\"toc-item-num\">3.3&nbsp;&nbsp;</span>Масштабирование признаков</a></span></li></ul></li><li><span><a href=\"#Исследование-задачи\" data-toc-modified-id=\"Исследование-задачи-4\"><span class=\"toc-item-num\">4&nbsp;&nbsp;</span>Исследование задачи</a></span><ul class=\"toc-item\"><li><span><a href=\"#Применение-моделей-машинного-обучения\" data-toc-modified-id=\"Применение-моделей-машинного-обучения-4.1\"><span class=\"toc-item-num\">4.1&nbsp;&nbsp;</span>Применение моделей машинного обучения</a></span></li><li><span><a href=\"#Проверка-адекватности-моделей\" data-toc-modified-id=\"Проверка-адекватности-моделей-4.2\"><span class=\"toc-item-num\">4.2&nbsp;&nbsp;</span>Проверка адекватности моделей</a></span></li><li><span><a href=\"#Матрица-ошибок,-recall,-precision-и-F1\" data-toc-modified-id=\"Матрица-ошибок,-recall,-precision-и-F1-4.3\"><span class=\"toc-item-num\">4.3&nbsp;&nbsp;</span>Матрица ошибок, recall, precision и F1</a></span></li></ul></li><li><span><a href=\"#Борьба-с-дисбалансом\" data-toc-modified-id=\"Борьба-с-дисбалансом-5\"><span class=\"toc-item-num\">5&nbsp;&nbsp;</span>Борьба с дисбалансом</a></span><ul class=\"toc-item\"><li><span><a href=\"#Увеличение-выборки-методом-&quot;upsample&quot;\" data-toc-modified-id=\"Увеличение-выборки-методом-&quot;upsample&quot;-5.1\"><span class=\"toc-item-num\">5.1&nbsp;&nbsp;</span>Увеличение выборки методом \"upsample\"</a></span></li><li><span><a href=\"#Балансируем-данные-методом-class_weight='balanced\" data-toc-modified-id=\"Балансируем-данные-методом-class_weight='balanced-5.2\"><span class=\"toc-item-num\">5.2&nbsp;&nbsp;</span>Балансируем данные методом class_weight='balanced</a></span></li><li><span><a href=\"#Проверка-адекватности-модели-&quot;Случайный-лес&quot;\" data-toc-modified-id=\"Проверка-адекватности-модели-&quot;Случайный-лес&quot;-5.3\"><span class=\"toc-item-num\">5.3&nbsp;&nbsp;</span>Проверка адекватности модели \"Случайный лес\"</a></span></li></ul></li><li><span><a href=\"#Тестирование-модели\" data-toc-modified-id=\"Тестирование-модели-6\"><span class=\"toc-item-num\">6&nbsp;&nbsp;</span>Тестирование модели</a></span></li><li><span><a href=\"#Вывод\" data-toc-modified-id=\"Вывод-7\"><span class=\"toc-item-num\">7&nbsp;&nbsp;</span>Вывод</a></span></li></ul></div>"
   ]
  },
  {
   "cell_type": "markdown",
   "metadata": {},
   "source": [
    "# Описание поекта \"Отток клиентов\""
   ]
  },
  {
   "cell_type": "markdown",
   "metadata": {},
   "source": [
    "Заказчиком данного исследования является банк \"Бета-банк\". \n",
    "\n",
    "**Цель исследования** - спрогнозировать вероятность оттока клиентов банка в ближайшее время с помощью обученной модели.Для достижения поставленной цели выполним следующие задачи: \n",
    "\n",
    "* изучим данные и рассмотрим их взаимосвязь\n",
    "* разделим исходные данные на три выборки: обучающую, валидационную и тестовую \n",
    "* выберем лучшую модель по метрике f1 \n",
    "* улучшим качество модели с помощью перебора гиперпараметров \n",
    "* проверим модель на тестовой выборке \n",
    "* проверим модель на адекватность \n",
    "\n",
    "**Ход исследования**\n",
    "\n",
    "Для проведения исследования изучим 1 датасет, который содержит информацию о поведении клиентов и расторжении договоров с банком. \n"
   ]
  },
  {
   "cell_type": "markdown",
   "metadata": {},
   "source": [
    "## Загрузка данных"
   ]
  },
  {
   "cell_type": "code",
   "execution_count": 1,
   "metadata": {},
   "outputs": [
    {
     "name": "stdout",
     "output_type": "stream",
     "text": [
      "Requirement already satisfied: phik in c:\\users\\nasijian\\anaconda3\\envs\\practicum\\lib\\site-packages (0.12.3)\n",
      "Requirement already satisfied: matplotlib>=2.2.3 in c:\\users\\nasijian\\anaconda3\\envs\\practicum\\lib\\site-packages (from phik) (3.3.4)\n",
      "Requirement already satisfied: joblib>=0.14.1 in c:\\users\\nasijian\\anaconda3\\envs\\practicum\\lib\\site-packages (from phik) (1.2.0)\n",
      "Requirement already satisfied: pandas>=0.25.1 in c:\\users\\nasijian\\anaconda3\\envs\\practicum\\lib\\site-packages (from phik) (1.2.4)\n",
      "Requirement already satisfied: scipy>=1.5.2 in c:\\users\\nasijian\\anaconda3\\envs\\practicum\\lib\\site-packages (from phik) (1.8.0)\n",
      "Requirement already satisfied: numpy>=1.18.0 in c:\\users\\nasijian\\anaconda3\\envs\\practicum\\lib\\site-packages (from phik) (1.20.1)\n",
      "Requirement already satisfied: kiwisolver>=1.0.1 in c:\\users\\nasijian\\anaconda3\\envs\\practicum\\lib\\site-packages (from matplotlib>=2.2.3->phik) (1.4.4)\n",
      "Requirement already satisfied: pyparsing!=2.0.4,!=2.1.2,!=2.1.6,>=2.0.3 in c:\\users\\nasijian\\anaconda3\\envs\\practicum\\lib\\site-packages (from matplotlib>=2.2.3->phik) (3.0.9)\n",
      "Requirement already satisfied: pillow>=6.2.0 in c:\\users\\nasijian\\anaconda3\\envs\\practicum\\lib\\site-packages (from matplotlib>=2.2.3->phik) (8.4.0)\n",
      "Requirement already satisfied: cycler>=0.10 in c:\\users\\nasijian\\anaconda3\\envs\\practicum\\lib\\site-packages (from matplotlib>=2.2.3->phik) (0.11.0)\n",
      "Requirement already satisfied: python-dateutil>=2.1 in c:\\users\\nasijian\\anaconda3\\envs\\practicum\\lib\\site-packages (from matplotlib>=2.2.3->phik) (2.8.2)\n",
      "Requirement already satisfied: pytz>=2017.3 in c:\\users\\nasijian\\anaconda3\\envs\\practicum\\lib\\site-packages (from pandas>=0.25.1->phik) (2022.7.1)\n",
      "Requirement already satisfied: six>=1.5 in c:\\users\\nasijian\\anaconda3\\envs\\practicum\\lib\\site-packages (from python-dateutil>=2.1->matplotlib>=2.2.3->phik) (1.16.0)\n",
      "Note: you may need to restart the kernel to use updated packages.\n"
     ]
    }
   ],
   "source": [
    "pip install phik"
   ]
  },
  {
   "cell_type": "code",
   "execution_count": 2,
   "metadata": {},
   "outputs": [],
   "source": [
    "# загружаем все необходимые библиотеки для исследования\n",
    "import pandas as pd\n",
    "import seaborn as sns \n",
    "import matplotlib.pyplot as plt \n",
    "from sklearn.model_selection import train_test_split \n",
    "from sklearn.preprocessing import StandardScaler\n",
    "from sklearn.tree import DecisionTreeClassifier\n",
    "from sklearn.ensemble import RandomForestClassifier \n",
    "from sklearn.linear_model import LogisticRegression \n",
    "from sklearn.metrics import accuracy_score, recall_score, precision_score, f1_score, confusion_matrix, roc_curve, roc_auc_score\n",
    "from sklearn.utils import shuffle\n",
    "\n",
    "import phik\n",
    "from phik.report import plot_correlation_matrix\n",
    "from phik import report"
   ]
  },
  {
   "cell_type": "code",
   "execution_count": 3,
   "metadata": {
    "scrolled": true
   },
   "outputs": [
    {
     "name": "stdout",
     "output_type": "stream",
     "text": [
      "<class 'pandas.core.frame.DataFrame'>\n",
      "RangeIndex: 10000 entries, 0 to 9999\n",
      "Data columns (total 14 columns):\n",
      " #   Column           Non-Null Count  Dtype  \n",
      "---  ------           --------------  -----  \n",
      " 0   RowNumber        10000 non-null  int64  \n",
      " 1   CustomerId       10000 non-null  int64  \n",
      " 2   Surname          10000 non-null  object \n",
      " 3   CreditScore      10000 non-null  int64  \n",
      " 4   Geography        10000 non-null  object \n",
      " 5   Gender           10000 non-null  object \n",
      " 6   Age              10000 non-null  int64  \n",
      " 7   Tenure           9091 non-null   float64\n",
      " 8   Balance          10000 non-null  float64\n",
      " 9   NumOfProducts    10000 non-null  int64  \n",
      " 10  HasCrCard        10000 non-null  int64  \n",
      " 11  IsActiveMember   10000 non-null  int64  \n",
      " 12  EstimatedSalary  10000 non-null  float64\n",
      " 13  Exited           10000 non-null  int64  \n",
      "dtypes: float64(3), int64(8), object(3)\n",
      "memory usage: 1.1+ MB\n"
     ]
    },
    {
     "data": {
      "text/html": [
       "<div>\n",
       "<style scoped>\n",
       "    .dataframe tbody tr th:only-of-type {\n",
       "        vertical-align: middle;\n",
       "    }\n",
       "\n",
       "    .dataframe tbody tr th {\n",
       "        vertical-align: top;\n",
       "    }\n",
       "\n",
       "    .dataframe thead th {\n",
       "        text-align: right;\n",
       "    }\n",
       "</style>\n",
       "<table border=\"1\" class=\"dataframe\">\n",
       "  <thead>\n",
       "    <tr style=\"text-align: right;\">\n",
       "      <th></th>\n",
       "      <th>RowNumber</th>\n",
       "      <th>CustomerId</th>\n",
       "      <th>Surname</th>\n",
       "      <th>CreditScore</th>\n",
       "      <th>Geography</th>\n",
       "      <th>Gender</th>\n",
       "      <th>Age</th>\n",
       "      <th>Tenure</th>\n",
       "      <th>Balance</th>\n",
       "      <th>NumOfProducts</th>\n",
       "      <th>HasCrCard</th>\n",
       "      <th>IsActiveMember</th>\n",
       "      <th>EstimatedSalary</th>\n",
       "      <th>Exited</th>\n",
       "    </tr>\n",
       "  </thead>\n",
       "  <tbody>\n",
       "    <tr>\n",
       "      <th>0</th>\n",
       "      <td>1</td>\n",
       "      <td>15634602</td>\n",
       "      <td>Hargrave</td>\n",
       "      <td>619</td>\n",
       "      <td>France</td>\n",
       "      <td>Female</td>\n",
       "      <td>42</td>\n",
       "      <td>2.0</td>\n",
       "      <td>0.00</td>\n",
       "      <td>1</td>\n",
       "      <td>1</td>\n",
       "      <td>1</td>\n",
       "      <td>101348.88</td>\n",
       "      <td>1</td>\n",
       "    </tr>\n",
       "    <tr>\n",
       "      <th>1</th>\n",
       "      <td>2</td>\n",
       "      <td>15647311</td>\n",
       "      <td>Hill</td>\n",
       "      <td>608</td>\n",
       "      <td>Spain</td>\n",
       "      <td>Female</td>\n",
       "      <td>41</td>\n",
       "      <td>1.0</td>\n",
       "      <td>83807.86</td>\n",
       "      <td>1</td>\n",
       "      <td>0</td>\n",
       "      <td>1</td>\n",
       "      <td>112542.58</td>\n",
       "      <td>0</td>\n",
       "    </tr>\n",
       "    <tr>\n",
       "      <th>2</th>\n",
       "      <td>3</td>\n",
       "      <td>15619304</td>\n",
       "      <td>Onio</td>\n",
       "      <td>502</td>\n",
       "      <td>France</td>\n",
       "      <td>Female</td>\n",
       "      <td>42</td>\n",
       "      <td>8.0</td>\n",
       "      <td>159660.80</td>\n",
       "      <td>3</td>\n",
       "      <td>1</td>\n",
       "      <td>0</td>\n",
       "      <td>113931.57</td>\n",
       "      <td>1</td>\n",
       "    </tr>\n",
       "    <tr>\n",
       "      <th>3</th>\n",
       "      <td>4</td>\n",
       "      <td>15701354</td>\n",
       "      <td>Boni</td>\n",
       "      <td>699</td>\n",
       "      <td>France</td>\n",
       "      <td>Female</td>\n",
       "      <td>39</td>\n",
       "      <td>1.0</td>\n",
       "      <td>0.00</td>\n",
       "      <td>2</td>\n",
       "      <td>0</td>\n",
       "      <td>0</td>\n",
       "      <td>93826.63</td>\n",
       "      <td>0</td>\n",
       "    </tr>\n",
       "    <tr>\n",
       "      <th>4</th>\n",
       "      <td>5</td>\n",
       "      <td>15737888</td>\n",
       "      <td>Mitchell</td>\n",
       "      <td>850</td>\n",
       "      <td>Spain</td>\n",
       "      <td>Female</td>\n",
       "      <td>43</td>\n",
       "      <td>2.0</td>\n",
       "      <td>125510.82</td>\n",
       "      <td>1</td>\n",
       "      <td>1</td>\n",
       "      <td>1</td>\n",
       "      <td>79084.10</td>\n",
       "      <td>0</td>\n",
       "    </tr>\n",
       "  </tbody>\n",
       "</table>\n",
       "</div>"
      ],
      "text/plain": [
       "   RowNumber  CustomerId   Surname  CreditScore Geography  Gender  Age  \\\n",
       "0          1    15634602  Hargrave          619    France  Female   42   \n",
       "1          2    15647311      Hill          608     Spain  Female   41   \n",
       "2          3    15619304      Onio          502    France  Female   42   \n",
       "3          4    15701354      Boni          699    France  Female   39   \n",
       "4          5    15737888  Mitchell          850     Spain  Female   43   \n",
       "\n",
       "   Tenure    Balance  NumOfProducts  HasCrCard  IsActiveMember  \\\n",
       "0     2.0       0.00              1          1               1   \n",
       "1     1.0   83807.86              1          0               1   \n",
       "2     8.0  159660.80              3          1               0   \n",
       "3     1.0       0.00              2          0               0   \n",
       "4     2.0  125510.82              1          1               1   \n",
       "\n",
       "   EstimatedSalary  Exited  \n",
       "0        101348.88       1  \n",
       "1        112542.58       0  \n",
       "2        113931.57       1  \n",
       "3         93826.63       0  \n",
       "4         79084.10       0  "
      ]
     },
     "execution_count": 3,
     "metadata": {},
     "output_type": "execute_result"
    }
   ],
   "source": [
    "# загружаем данные \n",
    "df = pd.read_csv('D:/yandex_projects/supervised_learning/Churn.csv')\n",
    "\n",
    "# посмотрим общую информацию о данных и выведем 5 строчек таблицы\n",
    "df.info() \n",
    "df.head()"
   ]
  },
  {
   "cell_type": "code",
   "execution_count": 4,
   "metadata": {},
   "outputs": [
    {
     "data": {
      "image/png": "[encoded data removed]",
      "text/plain": [
       "<Figure size 1000x800 with 2 Axes>"
      ]
     },
     "metadata": {},
     "output_type": "display_data"
    }
   ],
   "source": [
    "# создадим матрицу корреляции, используем матрицу phik, так как в датасете есть категориальные переменные\n",
    "\n",
    "# подготовим отдельную таблицу, отбросив столбцы `RowNumber`, `CustomerId`, `Surname`\n",
    "cols_to_keep = ['CreditScore', 'Geography','Gender', 'Age', 'Tenure', \n",
    "                'Balance', 'NumOfProducts', 'HasCrCard',\n",
    "                'IsActiveMember', 'EstimatedSalary', 'Exited']\n",
    "df_matrix = df[cols_to_keep]\n",
    "\n",
    "# подготовим отдельно столбцы с интервальными данными \n",
    "interval_cols = ['CreditScore', 'Age', 'Tenure', \n",
    "                'Balance', 'NumOfProducts', 'EstimatedSalary']\n",
    "\n",
    "# создадим матрицу\n",
    "phik_overview = df_matrix.phik_matrix(interval_cols=interval_cols)\n",
    "\n",
    "plot_correlation_matrix(phik_overview.values, \n",
    "                        x_labels=phik_overview.columns, \n",
    "                        y_labels=phik_overview.index, \n",
    "                        vmin=0, vmax=1, color_map=\"Greens\", \n",
    "                        title=r\"correlation $\\phi_K$\", \n",
    "                        fontsize_factor=1.5, \n",
    "                        figsize=(10, 8))\n",
    "# выводим матрицу\n",
    "plt.tight_layout()"
   ]
  },
  {
   "cell_type": "markdown",
   "metadata": {},
   "source": [
    "**Вывод**\n",
    "\n",
    "Согласно документации в датасете содержится следующая информация:\n",
    "\n",
    "* `RowNumber` — индекс строки в данных\n",
    "* `CustomerId` — уникальный идентификатор клиента\n",
    "* `Surname` — фамилия\n",
    "* `CreditScore` — кредитный рейтинг\n",
    "* `Geography` — страна проживания\n",
    "* `Gender` — пол\n",
    "* `Age` — возраст\n",
    "* `Tenure` — сколько лет человек является клиентом банка\n",
    "* `Balance` — баланс на счёте\n",
    "* `NumOfProducts` — количество продуктов банка, используемых клиентом\n",
    "* `HasCrCard` — наличие кредитной карты\n",
    "* `IsActiveMember` — активность клиента\n",
    "* `EstimatedSalary` — предполагаемая зарплата\n",
    "* `Exited` — факт ухода клиента\n",
    "\n",
    "Данные необходимо предобработать, так как видим, что есть пропуски в столбце `Tenure`, а также необходимо изменить стиль заголовков: сделать змеиный регистр и сделать буквы строчными. \n",
    "\n",
    "Нашей целью исследования является прогноз возможного оттока клиентов, в связи с этим возоможно получить только один из двух вариантов: клиент может либо продолжить пользоваться услугами банка, либо рассторгнуть договор с ним. Таким образом, в данном исследовании мы решаем задачу бинарной классификации. \n",
    "\n",
    "За целевой признак берем значения из столбца `Exited`. Остальные признаки понадобятся для предсказания решения по выбранному столбцу. \n",
    "\n",
    "По матрице корреляций видим, что значения некоторых признаков имеют значительно больше разброс, поэтому, возможно, некоторые признаки могут восприниматься моделью как более значимыми.\n",
    "\n",
    "В данном исследовании мы применим три модели: \"Дерево решений\", \"Случайный лес\" и \"Логистическая регрессия\". Для того, чтобы модели сработали нам нужно преобразовать категориальные признаки в числовые техникой OHE."
   ]
  },
  {
   "cell_type": "markdown",
   "metadata": {},
   "source": [
    "## Предобработка данных"
   ]
  },
  {
   "cell_type": "markdown",
   "metadata": {},
   "source": [
    "На данном этапе приступим к предобработке данных: заменим стиль заголовков, заменим пропуски и проверим наличие дубликатов. "
   ]
  },
  {
   "cell_type": "markdown",
   "metadata": {},
   "source": [
    "### Стиль заголовков "
   ]
  },
  {
   "cell_type": "code",
   "execution_count": 5,
   "metadata": {
    "scrolled": true
   },
   "outputs": [
    {
     "data": {
      "text/plain": [
       "Index(['row_number', 'customer_id', 'surname', 'credit_score', 'geography',\n",
       "       'gender', 'age', 'tenure', 'balance', 'num_of_products', 'has_cr_card',\n",
       "       'is_active_member', 'estimated_salary', 'exited'],\n",
       "      dtype='object')"
      ]
     },
     "execution_count": 5,
     "metadata": {},
     "output_type": "execute_result"
    }
   ],
   "source": [
    "# переменуем названия столбцов \n",
    "df = df.rename(columns={'RowNumber':'row_number', 'CustomerId': 'customer_id', \n",
    "                        'CreditScore': 'credit_score', 'NumOfProducts': 'num_of_products', \n",
    "                       'HasCrCard': 'has_cr_card', 'IsActiveMember': 'is_active_member', \n",
    "                        'EstimatedSalary':'estimated_salary'})\n",
    "\n",
    "#сделаем названия колонок в нижнем регистре \n",
    "df.columns = df.columns.str.lower()\n",
    "\n",
    "# проверим их новое название \n",
    "df.columns"
   ]
  },
  {
   "cell_type": "markdown",
   "metadata": {},
   "source": [
    "### Пропущенные значения "
   ]
  },
  {
   "cell_type": "code",
   "execution_count": 6,
   "metadata": {
    "scrolled": true
   },
   "outputs": [
    {
     "data": {
      "text/plain": [
       "tenure              0.0909\n",
       "row_number          0.0000\n",
       "customer_id         0.0000\n",
       "surname             0.0000\n",
       "credit_score        0.0000\n",
       "geography           0.0000\n",
       "gender              0.0000\n",
       "age                 0.0000\n",
       "balance             0.0000\n",
       "num_of_products     0.0000\n",
       "has_cr_card         0.0000\n",
       "is_active_member    0.0000\n",
       "estimated_salary    0.0000\n",
       "exited              0.0000\n",
       "dtype: float64"
      ]
     },
     "execution_count": 6,
     "metadata": {},
     "output_type": "execute_result"
    }
   ],
   "source": [
    "# изучим пропуски \n",
    "df.isna().mean().sort_values(ascending=False)"
   ]
  },
  {
   "cell_type": "code",
   "execution_count": 7,
   "metadata": {
    "scrolled": false
   },
   "outputs": [
    {
     "data": {
      "text/html": [
       "<div>\n",
       "<style scoped>\n",
       "    .dataframe tbody tr th:only-of-type {\n",
       "        vertical-align: middle;\n",
       "    }\n",
       "\n",
       "    .dataframe tbody tr th {\n",
       "        vertical-align: top;\n",
       "    }\n",
       "\n",
       "    .dataframe thead th {\n",
       "        text-align: right;\n",
       "    }\n",
       "</style>\n",
       "<table border=\"1\" class=\"dataframe\">\n",
       "  <thead>\n",
       "    <tr style=\"text-align: right;\">\n",
       "      <th></th>\n",
       "      <th>row_number</th>\n",
       "      <th>customer_id</th>\n",
       "      <th>surname</th>\n",
       "      <th>credit_score</th>\n",
       "      <th>geography</th>\n",
       "      <th>gender</th>\n",
       "      <th>age</th>\n",
       "      <th>tenure</th>\n",
       "      <th>balance</th>\n",
       "      <th>num_of_products</th>\n",
       "      <th>has_cr_card</th>\n",
       "      <th>is_active_member</th>\n",
       "      <th>estimated_salary</th>\n",
       "      <th>exited</th>\n",
       "    </tr>\n",
       "  </thead>\n",
       "  <tbody>\n",
       "    <tr>\n",
       "      <th>30</th>\n",
       "      <td>31</td>\n",
       "      <td>15589475</td>\n",
       "      <td>Azikiwe</td>\n",
       "      <td>591</td>\n",
       "      <td>Spain</td>\n",
       "      <td>Female</td>\n",
       "      <td>39</td>\n",
       "      <td>NaN</td>\n",
       "      <td>0.00</td>\n",
       "      <td>3</td>\n",
       "      <td>1</td>\n",
       "      <td>0</td>\n",
       "      <td>140469.38</td>\n",
       "      <td>1</td>\n",
       "    </tr>\n",
       "    <tr>\n",
       "      <th>48</th>\n",
       "      <td>49</td>\n",
       "      <td>15766205</td>\n",
       "      <td>Yin</td>\n",
       "      <td>550</td>\n",
       "      <td>Germany</td>\n",
       "      <td>Male</td>\n",
       "      <td>38</td>\n",
       "      <td>NaN</td>\n",
       "      <td>103391.38</td>\n",
       "      <td>1</td>\n",
       "      <td>0</td>\n",
       "      <td>1</td>\n",
       "      <td>90878.13</td>\n",
       "      <td>0</td>\n",
       "    </tr>\n",
       "    <tr>\n",
       "      <th>51</th>\n",
       "      <td>52</td>\n",
       "      <td>15768193</td>\n",
       "      <td>Trevisani</td>\n",
       "      <td>585</td>\n",
       "      <td>Germany</td>\n",
       "      <td>Male</td>\n",
       "      <td>36</td>\n",
       "      <td>NaN</td>\n",
       "      <td>146050.97</td>\n",
       "      <td>2</td>\n",
       "      <td>0</td>\n",
       "      <td>0</td>\n",
       "      <td>86424.57</td>\n",
       "      <td>0</td>\n",
       "    </tr>\n",
       "    <tr>\n",
       "      <th>53</th>\n",
       "      <td>54</td>\n",
       "      <td>15702298</td>\n",
       "      <td>Parkhill</td>\n",
       "      <td>655</td>\n",
       "      <td>Germany</td>\n",
       "      <td>Male</td>\n",
       "      <td>41</td>\n",
       "      <td>NaN</td>\n",
       "      <td>125561.97</td>\n",
       "      <td>1</td>\n",
       "      <td>0</td>\n",
       "      <td>0</td>\n",
       "      <td>164040.94</td>\n",
       "      <td>1</td>\n",
       "    </tr>\n",
       "    <tr>\n",
       "      <th>60</th>\n",
       "      <td>61</td>\n",
       "      <td>15651280</td>\n",
       "      <td>Hunter</td>\n",
       "      <td>742</td>\n",
       "      <td>Germany</td>\n",
       "      <td>Male</td>\n",
       "      <td>35</td>\n",
       "      <td>NaN</td>\n",
       "      <td>136857.00</td>\n",
       "      <td>1</td>\n",
       "      <td>0</td>\n",
       "      <td>0</td>\n",
       "      <td>84509.57</td>\n",
       "      <td>0</td>\n",
       "    </tr>\n",
       "    <tr>\n",
       "      <th>...</th>\n",
       "      <td>...</td>\n",
       "      <td>...</td>\n",
       "      <td>...</td>\n",
       "      <td>...</td>\n",
       "      <td>...</td>\n",
       "      <td>...</td>\n",
       "      <td>...</td>\n",
       "      <td>...</td>\n",
       "      <td>...</td>\n",
       "      <td>...</td>\n",
       "      <td>...</td>\n",
       "      <td>...</td>\n",
       "      <td>...</td>\n",
       "      <td>...</td>\n",
       "    </tr>\n",
       "    <tr>\n",
       "      <th>9944</th>\n",
       "      <td>9945</td>\n",
       "      <td>15703923</td>\n",
       "      <td>Cameron</td>\n",
       "      <td>744</td>\n",
       "      <td>Germany</td>\n",
       "      <td>Male</td>\n",
       "      <td>41</td>\n",
       "      <td>NaN</td>\n",
       "      <td>190409.34</td>\n",
       "      <td>2</td>\n",
       "      <td>1</td>\n",
       "      <td>1</td>\n",
       "      <td>138361.48</td>\n",
       "      <td>0</td>\n",
       "    </tr>\n",
       "    <tr>\n",
       "      <th>9956</th>\n",
       "      <td>9957</td>\n",
       "      <td>15707861</td>\n",
       "      <td>Nucci</td>\n",
       "      <td>520</td>\n",
       "      <td>France</td>\n",
       "      <td>Female</td>\n",
       "      <td>46</td>\n",
       "      <td>NaN</td>\n",
       "      <td>85216.61</td>\n",
       "      <td>1</td>\n",
       "      <td>1</td>\n",
       "      <td>0</td>\n",
       "      <td>117369.52</td>\n",
       "      <td>1</td>\n",
       "    </tr>\n",
       "    <tr>\n",
       "      <th>9964</th>\n",
       "      <td>9965</td>\n",
       "      <td>15642785</td>\n",
       "      <td>Douglas</td>\n",
       "      <td>479</td>\n",
       "      <td>France</td>\n",
       "      <td>Male</td>\n",
       "      <td>34</td>\n",
       "      <td>NaN</td>\n",
       "      <td>117593.48</td>\n",
       "      <td>2</td>\n",
       "      <td>0</td>\n",
       "      <td>0</td>\n",
       "      <td>113308.29</td>\n",
       "      <td>0</td>\n",
       "    </tr>\n",
       "    <tr>\n",
       "      <th>9985</th>\n",
       "      <td>9986</td>\n",
       "      <td>15586914</td>\n",
       "      <td>Nepean</td>\n",
       "      <td>659</td>\n",
       "      <td>France</td>\n",
       "      <td>Male</td>\n",
       "      <td>36</td>\n",
       "      <td>NaN</td>\n",
       "      <td>123841.49</td>\n",
       "      <td>2</td>\n",
       "      <td>1</td>\n",
       "      <td>0</td>\n",
       "      <td>96833.00</td>\n",
       "      <td>0</td>\n",
       "    </tr>\n",
       "    <tr>\n",
       "      <th>9999</th>\n",
       "      <td>10000</td>\n",
       "      <td>15628319</td>\n",
       "      <td>Walker</td>\n",
       "      <td>792</td>\n",
       "      <td>France</td>\n",
       "      <td>Female</td>\n",
       "      <td>28</td>\n",
       "      <td>NaN</td>\n",
       "      <td>130142.79</td>\n",
       "      <td>1</td>\n",
       "      <td>1</td>\n",
       "      <td>0</td>\n",
       "      <td>38190.78</td>\n",
       "      <td>0</td>\n",
       "    </tr>\n",
       "  </tbody>\n",
       "</table>\n",
       "<p>909 rows × 14 columns</p>\n",
       "</div>"
      ],
      "text/plain": [
       "      row_number  customer_id    surname  credit_score geography  gender  age  \\\n",
       "30            31     15589475    Azikiwe           591     Spain  Female   39   \n",
       "48            49     15766205        Yin           550   Germany    Male   38   \n",
       "51            52     15768193  Trevisani           585   Germany    Male   36   \n",
       "53            54     15702298   Parkhill           655   Germany    Male   41   \n",
       "60            61     15651280     Hunter           742   Germany    Male   35   \n",
       "...          ...          ...        ...           ...       ...     ...  ...   \n",
       "9944        9945     15703923    Cameron           744   Germany    Male   41   \n",
       "9956        9957     15707861      Nucci           520    France  Female   46   \n",
       "9964        9965     15642785    Douglas           479    France    Male   34   \n",
       "9985        9986     15586914     Nepean           659    France    Male   36   \n",
       "9999       10000     15628319     Walker           792    France  Female   28   \n",
       "\n",
       "      tenure    balance  num_of_products  has_cr_card  is_active_member  \\\n",
       "30       NaN       0.00                3            1                 0   \n",
       "48       NaN  103391.38                1            0                 1   \n",
       "51       NaN  146050.97                2            0                 0   \n",
       "53       NaN  125561.97                1            0                 0   \n",
       "60       NaN  136857.00                1            0                 0   \n",
       "...      ...        ...              ...          ...               ...   \n",
       "9944     NaN  190409.34                2            1                 1   \n",
       "9956     NaN   85216.61                1            1                 0   \n",
       "9964     NaN  117593.48                2            0                 0   \n",
       "9985     NaN  123841.49                2            1                 0   \n",
       "9999     NaN  130142.79                1            1                 0   \n",
       "\n",
       "      estimated_salary  exited  \n",
       "30           140469.38       1  \n",
       "48            90878.13       0  \n",
       "51            86424.57       0  \n",
       "53           164040.94       1  \n",
       "60            84509.57       0  \n",
       "...                ...     ...  \n",
       "9944         138361.48       0  \n",
       "9956         117369.52       1  \n",
       "9964         113308.29       0  \n",
       "9985          96833.00       0  \n",
       "9999          38190.78       0  \n",
       "\n",
       "[909 rows x 14 columns]"
      ]
     },
     "execution_count": 7,
     "metadata": {},
     "output_type": "execute_result"
    }
   ],
   "source": [
    "# сделаем срез по пропущенным значениям в столбце `Tenure`\n",
    "df.query('tenure.isnull()', engine='python')"
   ]
  },
  {
   "cell_type": "markdown",
   "metadata": {},
   "source": [
    "Пропущенные значения составляют 9% в данном столбце. Возможно, что в таблице появились пропущенные значения из-за человеческого фактора - не заполнянили количество лет, т.к. человек является клиентом банка не более года, но данную информацию проверить не можем, поэтому пропуски удалим во избажение искажения распределения. "
   ]
  },
  {
   "cell_type": "code",
   "execution_count": 8,
   "metadata": {},
   "outputs": [
    {
     "name": "stdout",
     "output_type": "stream",
     "text": [
      "Количество пропусков: 0\n"
     ]
    }
   ],
   "source": [
    "# удаляем пропущенные значения\n",
    "df = df.dropna().reset_index(drop=True)\n",
    "\n",
    "# проверяем, остались ли еще пропуски в столбце `tenure`\n",
    "print('Количество пропусков:', df['tenure'].isna().sum())"
   ]
  },
  {
   "cell_type": "markdown",
   "metadata": {},
   "source": [
    "### Дубликаты "
   ]
  },
  {
   "cell_type": "markdown",
   "metadata": {},
   "source": [
    "На данном этапе проверим наличие явных и неявных дубликатов. \n",
    "\n",
    "Наличие явных дубликатов проверим по всему датасету, а неявных дубликатов проверим в следующих столбцах: `customer_id`, `geography`, `gender`. "
   ]
  },
  {
   "cell_type": "code",
   "execution_count": 9,
   "metadata": {
    "scrolled": true
   },
   "outputs": [
    {
     "data": {
      "text/plain": [
       "0"
      ]
     },
     "execution_count": 9,
     "metadata": {},
     "output_type": "execute_result"
    }
   ],
   "source": [
    "# проверим наличие явных дубликатов \n",
    "df.duplicated().sum()"
   ]
  },
  {
   "cell_type": "markdown",
   "metadata": {},
   "source": [
    "Ниже проверим наличие неявных дубликатов "
   ]
  },
  {
   "cell_type": "code",
   "execution_count": 10,
   "metadata": {},
   "outputs": [
    {
     "name": "stdout",
     "output_type": "stream",
     "text": [
      "0\n"
     ]
    }
   ],
   "source": [
    "# в столбце `customer_id`\n",
    "print( df['customer_id'].duplicated().sum())"
   ]
  },
  {
   "cell_type": "code",
   "execution_count": 11,
   "metadata": {
    "scrolled": true
   },
   "outputs": [
    {
     "data": {
      "text/plain": [
       "France     4550\n",
       "Germany    2293\n",
       "Spain      2248\n",
       "Name: geography, dtype: int64"
      ]
     },
     "execution_count": 11,
     "metadata": {},
     "output_type": "execute_result"
    }
   ],
   "source": [
    "# в столбце `geography`\n",
    "df['geography'].value_counts()"
   ]
  },
  {
   "cell_type": "code",
   "execution_count": 12,
   "metadata": {},
   "outputs": [
    {
     "name": "stdout",
     "output_type": "stream",
     "text": [
      "Male      4974\n",
      "Female    4117\n",
      "Name: gender, dtype: int64\n"
     ]
    }
   ],
   "source": [
    "# в столбце `gender`\n",
    "print(df['gender'].value_counts())"
   ]
  },
  {
   "cell_type": "markdown",
   "metadata": {},
   "source": [
    "**Вывод** \n",
    "\n",
    "Стили заголовок изменили на змеинный регистр и сделали все буквы строчными. \n",
    "\n",
    "Пропущенные значения в столбце `tenure` заменили на 0, предполагая, что пропуски возникли из-за человеческого фактора. \n",
    "\n",
    "В таблице не обнаружено явных и неявных дубликатов. "
   ]
  },
  {
   "cell_type": "markdown",
   "metadata": {},
   "source": [
    "## Подготовка данных"
   ]
  },
  {
   "cell_type": "markdown",
   "metadata": {},
   "source": [
    "### Подготовка датасета "
   ]
  },
  {
   "cell_type": "markdown",
   "metadata": {},
   "source": [
    "Для дальнейшего исследования отбросим несколько столбцов, которые не понадобятся для обучения алгоритма и функцию pd.get_dummies для преобразования категориальных признаков в числовые. Перечисленные столбцы не потребуются в решении поставленной задачи, так как они нам неважны с точки зрения признаков, т.е. уход клиента не зависит от его id, имени или идентификационного номера. "
   ]
  },
  {
   "cell_type": "code",
   "execution_count": 13,
   "metadata": {},
   "outputs": [
    {
     "data": {
      "text/plain": [
       "(9091, 11)"
      ]
     },
     "execution_count": 13,
     "metadata": {},
     "output_type": "execute_result"
    }
   ],
   "source": [
    "# создадим новый датасет и отбросим столбцы `row_number`, 'customer_id', 'surname'\n",
    "churn = df.drop(['row_number', 'customer_id', 'surname'], axis=1)\n",
    "\n",
    "churn.shape"
   ]
  },
  {
   "cell_type": "markdown",
   "metadata": {},
   "source": [
    "В столбцах `gender` и `geography` содержатся категориальные признаки. Для того, чтобы обучить модель \"Логистическая регрессия\" преобразуем категориальные признаки в численные и во избежание фиктивных признаков отбросим первую колонку. "
   ]
  },
  {
   "cell_type": "code",
   "execution_count": 14,
   "metadata": {},
   "outputs": [
    {
     "data": {
      "text/plain": [
       "(9091, 12)"
      ]
     },
     "execution_count": 14,
     "metadata": {},
     "output_type": "execute_result"
    }
   ],
   "source": [
    "# применим функцию get_dummies и добавим аргумент drop_first \n",
    "churn_dummies = pd.get_dummies(churn, drop_first=True)\n",
    "\n",
    "# проверим размер таблицы \n",
    "churn_dummies.shape"
   ]
  },
  {
   "cell_type": "markdown",
   "metadata": {},
   "source": [
    "После применения метода get_dummies в новом датафрейме мы получили 12 столбцов. Данное количество мы получили из-за того, что в столбце `gender` содержится 2 класса, а в столбце `geography` - 3 класса. Таким образом, мы получили 3 новых стоблца, что позволяет нам в дальнейшем избежать дамми-ловушки. "
   ]
  },
  {
   "cell_type": "markdown",
   "metadata": {},
   "source": [
    "### Выборка "
   ]
  },
  {
   "cell_type": "markdown",
   "metadata": {},
   "source": [
    "Выделяем целевой и остальные признаки в отдельные переменные и разобьем данные на три выборки: обучающую, валидационную и тестовую с соотношении 3/1/1.   "
   ]
  },
  {
   "cell_type": "code",
   "execution_count": 15,
   "metadata": {},
   "outputs": [
    {
     "name": "stdout",
     "output_type": "stream",
     "text": [
      "Размер обучающей выборки: (5454, 11)\n",
      "Размер валидационной выборки: (1819, 11)\n",
      "Размер тестовой выборки: (1818, 11)\n"
     ]
    }
   ],
   "source": [
    "# выделяем целевой и остальные признаки в отдельные переменные `target` и `features`\n",
    "features = churn_dummies.drop('exited', axis=1)\n",
    "target = churn_dummies['exited']\n",
    "\n",
    "#разбиваем датасет на три выборки \n",
    "train_test_features, valid_features, train_test_target, valid_target = train_test_split(\n",
    "    features, target, test_size=0.2, random_state=12345)\n",
    "\n",
    "train_features, test_features, train_target, test_target = train_test_split(\n",
    "    train_test_features, train_test_target, test_size=0.25, random_state=12345)\n",
    "\n",
    "print(f'Размер обучающей выборки: {train_features.shape}')\n",
    "print(f'Размер валидационной выборки: {valid_features.shape}')\n",
    "print(f'Размер тестовой выборки: {test_features.shape}')"
   ]
  },
  {
   "cell_type": "markdown",
   "metadata": {},
   "source": [
    "В результате разделения мы получили три выборки: \n",
    "\n",
    "* Обучающая выборка (train_features) - 60% \n",
    "* Валидационная выборка (valid_features) - 20% \n",
    "* Тестовая выборка (test_features) - 20% "
   ]
  },
  {
   "cell_type": "markdown",
   "metadata": {},
   "source": [
    "### Масштабирование признаков "
   ]
  },
  {
   "cell_type": "markdown",
   "metadata": {},
   "source": [
    "Значения в столбцах `credit_score`, `age`, `tenure`, `balance`, `num_of_products`, `estimated_salary`, разбросаны, поэтому чтобы при обучении модель в равной степени оценивала численные признаки, мы масштабируем их.  "
   ]
  },
  {
   "cell_type": "code",
   "execution_count": 16,
   "metadata": {
    "scrolled": true
   },
   "outputs": [],
   "source": [
    "# создаем список численных признаков \n",
    "numeric = ['credit_score', 'age', 'tenure', 'balance', 'num_of_products', 'estimated_salary']\n",
    "\n",
    "# создаем объект структуры StandardScaler и настраиваем на обучающих данных \n",
    "scaler = StandardScaler()\n",
    "scaler.fit(train_features[numeric])\n",
    "\n",
    "pd.options.mode.chained_assignment = None"
   ]
  },
  {
   "cell_type": "code",
   "execution_count": 17,
   "metadata": {},
   "outputs": [
    {
     "data": {
      "text/html": [
       "<div>\n",
       "<style scoped>\n",
       "    .dataframe tbody tr th:only-of-type {\n",
       "        vertical-align: middle;\n",
       "    }\n",
       "\n",
       "    .dataframe tbody tr th {\n",
       "        vertical-align: top;\n",
       "    }\n",
       "\n",
       "    .dataframe thead th {\n",
       "        text-align: right;\n",
       "    }\n",
       "</style>\n",
       "<table border=\"1\" class=\"dataframe\">\n",
       "  <thead>\n",
       "    <tr style=\"text-align: right;\">\n",
       "      <th></th>\n",
       "      <th>credit_score</th>\n",
       "      <th>age</th>\n",
       "      <th>tenure</th>\n",
       "      <th>balance</th>\n",
       "      <th>num_of_products</th>\n",
       "      <th>has_cr_card</th>\n",
       "      <th>is_active_member</th>\n",
       "      <th>estimated_salary</th>\n",
       "      <th>geography_Germany</th>\n",
       "      <th>geography_Spain</th>\n",
       "      <th>gender_Male</th>\n",
       "    </tr>\n",
       "  </thead>\n",
       "  <tbody>\n",
       "    <tr>\n",
       "      <th>3353</th>\n",
       "      <td>-0.203819</td>\n",
       "      <td>0.471273</td>\n",
       "      <td>0.352316</td>\n",
       "      <td>0.786022</td>\n",
       "      <td>0.782369</td>\n",
       "      <td>0</td>\n",
       "      <td>0</td>\n",
       "      <td>-0.357205</td>\n",
       "      <td>0</td>\n",
       "      <td>1</td>\n",
       "      <td>0</td>\n",
       "    </tr>\n",
       "    <tr>\n",
       "      <th>6176</th>\n",
       "      <td>-0.357513</td>\n",
       "      <td>-0.384930</td>\n",
       "      <td>-1.373506</td>\n",
       "      <td>-1.230577</td>\n",
       "      <td>0.782369</td>\n",
       "      <td>1</td>\n",
       "      <td>1</td>\n",
       "      <td>-1.671048</td>\n",
       "      <td>0</td>\n",
       "      <td>0</td>\n",
       "      <td>0</td>\n",
       "    </tr>\n",
       "    <tr>\n",
       "      <th>4020</th>\n",
       "      <td>0.175290</td>\n",
       "      <td>-0.289797</td>\n",
       "      <td>-0.683177</td>\n",
       "      <td>-1.230577</td>\n",
       "      <td>0.782369</td>\n",
       "      <td>1</td>\n",
       "      <td>0</td>\n",
       "      <td>-1.119181</td>\n",
       "      <td>0</td>\n",
       "      <td>0</td>\n",
       "      <td>1</td>\n",
       "    </tr>\n",
       "    <tr>\n",
       "      <th>535</th>\n",
       "      <td>0.349476</td>\n",
       "      <td>1.708010</td>\n",
       "      <td>0.007151</td>\n",
       "      <td>1.379462</td>\n",
       "      <td>-0.914942</td>\n",
       "      <td>0</td>\n",
       "      <td>0</td>\n",
       "      <td>-1.569064</td>\n",
       "      <td>1</td>\n",
       "      <td>0</td>\n",
       "      <td>0</td>\n",
       "    </tr>\n",
       "    <tr>\n",
       "      <th>1661</th>\n",
       "      <td>0.902771</td>\n",
       "      <td>-0.289797</td>\n",
       "      <td>1.387809</td>\n",
       "      <td>-1.230577</td>\n",
       "      <td>-0.914942</td>\n",
       "      <td>0</td>\n",
       "      <td>1</td>\n",
       "      <td>1.543790</td>\n",
       "      <td>0</td>\n",
       "      <td>0</td>\n",
       "      <td>1</td>\n",
       "    </tr>\n",
       "  </tbody>\n",
       "</table>\n",
       "</div>"
      ],
      "text/plain": [
       "      credit_score       age    tenure   balance  num_of_products  \\\n",
       "3353     -0.203819  0.471273  0.352316  0.786022         0.782369   \n",
       "6176     -0.357513 -0.384930 -1.373506 -1.230577         0.782369   \n",
       "4020      0.175290 -0.289797 -0.683177 -1.230577         0.782369   \n",
       "535       0.349476  1.708010  0.007151  1.379462        -0.914942   \n",
       "1661      0.902771 -0.289797  1.387809 -1.230577        -0.914942   \n",
       "\n",
       "      has_cr_card  is_active_member  estimated_salary  geography_Germany  \\\n",
       "3353            0                 0         -0.357205                  0   \n",
       "6176            1                 1         -1.671048                  0   \n",
       "4020            1                 0         -1.119181                  0   \n",
       "535             0                 0         -1.569064                  1   \n",
       "1661            0                 1          1.543790                  0   \n",
       "\n",
       "      geography_Spain  gender_Male  \n",
       "3353                1            0  \n",
       "6176                0            0  \n",
       "4020                0            1  \n",
       "535                 0            0  \n",
       "1661                0            1  "
      ]
     },
     "execution_count": 17,
     "metadata": {},
     "output_type": "execute_result"
    }
   ],
   "source": [
    "# масштабируем числовые признаки обучающей выборки \n",
    "train_features[numeric] = scaler.transform(train_features[numeric])\n",
    "train_features.head()"
   ]
  },
  {
   "cell_type": "code",
   "execution_count": 18,
   "metadata": {},
   "outputs": [
    {
     "data": {
      "text/html": [
       "<div>\n",
       "<style scoped>\n",
       "    .dataframe tbody tr th:only-of-type {\n",
       "        vertical-align: middle;\n",
       "    }\n",
       "\n",
       "    .dataframe tbody tr th {\n",
       "        vertical-align: top;\n",
       "    }\n",
       "\n",
       "    .dataframe thead th {\n",
       "        text-align: right;\n",
       "    }\n",
       "</style>\n",
       "<table border=\"1\" class=\"dataframe\">\n",
       "  <thead>\n",
       "    <tr style=\"text-align: right;\">\n",
       "      <th></th>\n",
       "      <th>credit_score</th>\n",
       "      <th>age</th>\n",
       "      <th>tenure</th>\n",
       "      <th>balance</th>\n",
       "      <th>num_of_products</th>\n",
       "      <th>has_cr_card</th>\n",
       "      <th>is_active_member</th>\n",
       "      <th>estimated_salary</th>\n",
       "      <th>geography_Germany</th>\n",
       "      <th>geography_Spain</th>\n",
       "      <th>gender_Male</th>\n",
       "    </tr>\n",
       "  </thead>\n",
       "  <tbody>\n",
       "    <tr>\n",
       "      <th>769</th>\n",
       "      <td>0.779816</td>\n",
       "      <td>0.185872</td>\n",
       "      <td>0.697480</td>\n",
       "      <td>0.600726</td>\n",
       "      <td>-0.914942</td>\n",
       "      <td>1</td>\n",
       "      <td>1</td>\n",
       "      <td>0.295405</td>\n",
       "      <td>0</td>\n",
       "      <td>0</td>\n",
       "      <td>1</td>\n",
       "    </tr>\n",
       "    <tr>\n",
       "      <th>8841</th>\n",
       "      <td>-1.218194</td>\n",
       "      <td>0.566406</td>\n",
       "      <td>-1.373506</td>\n",
       "      <td>-1.230577</td>\n",
       "      <td>-0.914942</td>\n",
       "      <td>0</td>\n",
       "      <td>1</td>\n",
       "      <td>1.578362</td>\n",
       "      <td>0</td>\n",
       "      <td>0</td>\n",
       "      <td>0</td>\n",
       "    </tr>\n",
       "    <tr>\n",
       "      <th>1548</th>\n",
       "      <td>0.595385</td>\n",
       "      <td>-0.384930</td>\n",
       "      <td>-0.683177</td>\n",
       "      <td>-0.319996</td>\n",
       "      <td>-0.914942</td>\n",
       "      <td>1</td>\n",
       "      <td>0</td>\n",
       "      <td>-1.417009</td>\n",
       "      <td>0</td>\n",
       "      <td>1</td>\n",
       "      <td>0</td>\n",
       "    </tr>\n",
       "    <tr>\n",
       "      <th>7842</th>\n",
       "      <td>0.831047</td>\n",
       "      <td>-0.670331</td>\n",
       "      <td>1.387809</td>\n",
       "      <td>0.820545</td>\n",
       "      <td>-0.914942</td>\n",
       "      <td>0</td>\n",
       "      <td>0</td>\n",
       "      <td>-0.672521</td>\n",
       "      <td>0</td>\n",
       "      <td>0</td>\n",
       "      <td>0</td>\n",
       "    </tr>\n",
       "    <tr>\n",
       "      <th>4796</th>\n",
       "      <td>-0.685391</td>\n",
       "      <td>-0.860599</td>\n",
       "      <td>-1.028342</td>\n",
       "      <td>-1.230577</td>\n",
       "      <td>0.782369</td>\n",
       "      <td>1</td>\n",
       "      <td>1</td>\n",
       "      <td>0.561255</td>\n",
       "      <td>0</td>\n",
       "      <td>0</td>\n",
       "      <td>1</td>\n",
       "    </tr>\n",
       "  </tbody>\n",
       "</table>\n",
       "</div>"
      ],
      "text/plain": [
       "      credit_score       age    tenure   balance  num_of_products  \\\n",
       "769       0.779816  0.185872  0.697480  0.600726        -0.914942   \n",
       "8841     -1.218194  0.566406 -1.373506 -1.230577        -0.914942   \n",
       "1548      0.595385 -0.384930 -0.683177 -0.319996        -0.914942   \n",
       "7842      0.831047 -0.670331  1.387809  0.820545        -0.914942   \n",
       "4796     -0.685391 -0.860599 -1.028342 -1.230577         0.782369   \n",
       "\n",
       "      has_cr_card  is_active_member  estimated_salary  geography_Germany  \\\n",
       "769             1                 1          0.295405                  0   \n",
       "8841            0                 1          1.578362                  0   \n",
       "1548            1                 0         -1.417009                  0   \n",
       "7842            0                 0         -0.672521                  0   \n",
       "4796            1                 1          0.561255                  0   \n",
       "\n",
       "      geography_Spain  gender_Male  \n",
       "769                 0            1  \n",
       "8841                0            0  \n",
       "1548                1            0  \n",
       "7842                0            0  \n",
       "4796                0            1  "
      ]
     },
     "execution_count": 18,
     "metadata": {},
     "output_type": "execute_result"
    }
   ],
   "source": [
    "# масштабируем числовые признаки валидационной выборки \n",
    "valid_features[numeric] = scaler.transform(valid_features[numeric])\n",
    "valid_features.head()"
   ]
  },
  {
   "cell_type": "code",
   "execution_count": 19,
   "metadata": {
    "scrolled": true
   },
   "outputs": [
    {
     "data": {
      "text/html": [
       "<div>\n",
       "<style scoped>\n",
       "    .dataframe tbody tr th:only-of-type {\n",
       "        vertical-align: middle;\n",
       "    }\n",
       "\n",
       "    .dataframe tbody tr th {\n",
       "        vertical-align: top;\n",
       "    }\n",
       "\n",
       "    .dataframe thead th {\n",
       "        text-align: right;\n",
       "    }\n",
       "</style>\n",
       "<table border=\"1\" class=\"dataframe\">\n",
       "  <thead>\n",
       "    <tr style=\"text-align: right;\">\n",
       "      <th></th>\n",
       "      <th>credit_score</th>\n",
       "      <th>age</th>\n",
       "      <th>tenure</th>\n",
       "      <th>balance</th>\n",
       "      <th>num_of_products</th>\n",
       "      <th>has_cr_card</th>\n",
       "      <th>is_active_member</th>\n",
       "      <th>estimated_salary</th>\n",
       "      <th>geography_Germany</th>\n",
       "      <th>geography_Spain</th>\n",
       "      <th>gender_Male</th>\n",
       "    </tr>\n",
       "  </thead>\n",
       "  <tbody>\n",
       "    <tr>\n",
       "      <th>4350</th>\n",
       "      <td>-1.003024</td>\n",
       "      <td>1.232342</td>\n",
       "      <td>-1.373506</td>\n",
       "      <td>-1.230577</td>\n",
       "      <td>-0.914942</td>\n",
       "      <td>0</td>\n",
       "      <td>0</td>\n",
       "      <td>-0.626048</td>\n",
       "      <td>0</td>\n",
       "      <td>0</td>\n",
       "      <td>1</td>\n",
       "    </tr>\n",
       "    <tr>\n",
       "      <th>357</th>\n",
       "      <td>-0.941546</td>\n",
       "      <td>-0.575198</td>\n",
       "      <td>-0.683177</td>\n",
       "      <td>-0.354876</td>\n",
       "      <td>-0.914942</td>\n",
       "      <td>1</td>\n",
       "      <td>1</td>\n",
       "      <td>-1.722595</td>\n",
       "      <td>0</td>\n",
       "      <td>0</td>\n",
       "      <td>1</td>\n",
       "    </tr>\n",
       "    <tr>\n",
       "      <th>4660</th>\n",
       "      <td>-1.679273</td>\n",
       "      <td>-1.336267</td>\n",
       "      <td>-0.683177</td>\n",
       "      <td>0.929889</td>\n",
       "      <td>-0.914942</td>\n",
       "      <td>1</td>\n",
       "      <td>1</td>\n",
       "      <td>0.235764</td>\n",
       "      <td>0</td>\n",
       "      <td>0</td>\n",
       "      <td>0</td>\n",
       "    </tr>\n",
       "    <tr>\n",
       "      <th>8837</th>\n",
       "      <td>-1.259179</td>\n",
       "      <td>-0.670331</td>\n",
       "      <td>0.697480</td>\n",
       "      <td>0.786457</td>\n",
       "      <td>-0.914942</td>\n",
       "      <td>0</td>\n",
       "      <td>0</td>\n",
       "      <td>-0.223572</td>\n",
       "      <td>0</td>\n",
       "      <td>0</td>\n",
       "      <td>1</td>\n",
       "    </tr>\n",
       "    <tr>\n",
       "      <th>1805</th>\n",
       "      <td>-0.162835</td>\n",
       "      <td>0.376139</td>\n",
       "      <td>-0.683177</td>\n",
       "      <td>1.085690</td>\n",
       "      <td>-0.914942</td>\n",
       "      <td>1</td>\n",
       "      <td>1</td>\n",
       "      <td>1.022964</td>\n",
       "      <td>1</td>\n",
       "      <td>0</td>\n",
       "      <td>1</td>\n",
       "    </tr>\n",
       "  </tbody>\n",
       "</table>\n",
       "</div>"
      ],
      "text/plain": [
       "      credit_score       age    tenure   balance  num_of_products  \\\n",
       "4350     -1.003024  1.232342 -1.373506 -1.230577        -0.914942   \n",
       "357      -0.941546 -0.575198 -0.683177 -0.354876        -0.914942   \n",
       "4660     -1.679273 -1.336267 -0.683177  0.929889        -0.914942   \n",
       "8837     -1.259179 -0.670331  0.697480  0.786457        -0.914942   \n",
       "1805     -0.162835  0.376139 -0.683177  1.085690        -0.914942   \n",
       "\n",
       "      has_cr_card  is_active_member  estimated_salary  geography_Germany  \\\n",
       "4350            0                 0         -0.626048                  0   \n",
       "357             1                 1         -1.722595                  0   \n",
       "4660            1                 1          0.235764                  0   \n",
       "8837            0                 0         -0.223572                  0   \n",
       "1805            1                 1          1.022964                  1   \n",
       "\n",
       "      geography_Spain  gender_Male  \n",
       "4350                0            1  \n",
       "357                 0            1  \n",
       "4660                0            0  \n",
       "8837                0            1  \n",
       "1805                0            1  "
      ]
     },
     "execution_count": 19,
     "metadata": {},
     "output_type": "execute_result"
    }
   ],
   "source": [
    "# масштабируем числовые признаки тестовой выборки \n",
    "test_features[numeric] = scaler.transform(test_features[numeric])\n",
    "test_features.head()"
   ]
  },
  {
   "cell_type": "markdown",
   "metadata": {},
   "source": [
    "**Вывод**\n",
    "\n",
    "Мы подготовили датасет для обучения:  \n",
    "\n",
    "* отбросили столбцы, такие как: `row_number`, `customer_id`, `surname`, так как для обучения модели они нам не потребуются. \n",
    "\n",
    "* Мы выделили переменные для целевого и остальных признаков и разделили данные на три выборки с соотношением 60/20/20. \n",
    "Данные из обучающией выборки, `train_features` (60%), будем использовать для обучения модели. Валидация будет осуществляться на данных из валидационной выборки, `valid_features` (20%), а проверка качества модели - на данных из тестовой выборки, `test_features`(20%). \n",
    "\n",
    "* Масштабировали признаки для всех трех выборок. \n"
   ]
  },
  {
   "cell_type": "markdown",
   "metadata": {},
   "source": [
    "## Исследование задачи"
   ]
  },
  {
   "cell_type": "markdown",
   "metadata": {},
   "source": [
    "### Применение моделей машинного обучения"
   ]
  },
  {
   "cell_type": "markdown",
   "metadata": {},
   "source": [
    "На данном этапе применим несколько моделей и рассчитаем долю правильных ответов: \n",
    "\n",
    "* Дерево решений \n",
    "* Случайный лес\n",
    "* Логистическая регрессия \n",
    "\n",
    "Проверим адекватность моделей и посчитаем несколько метрик для каждой модели. "
   ]
  },
  {
   "cell_type": "code",
   "execution_count": 20,
   "metadata": {
    "scrolled": false
   },
   "outputs": [
    {
     "name": "stdout",
     "output_type": "stream",
     "text": [
      " \n",
      "Лучший результат f1: 0.5963302752293578 \n",
      "Лучшая глубина: 8\n",
      "Минимальное число объектов листьев: 34\n",
      "Значение Accuracy: 0.8521165475536009\n",
      "\n"
     ]
    }
   ],
   "source": [
    "# рассчитаем точность и f1 каждой модели \n",
    "\n",
    "# модель \"Дерево решений\"\n",
    "\n",
    "best_model_tree = None \n",
    "best_depth_tree = 0\n",
    "best_f1_tree = 0 \n",
    "best_min_samples_leaf_tree = 0\n",
    "\n",
    "for leaf in range(1, 60, 1):\n",
    "    for depth in range(1, 20, 1): \n",
    "        model_tree = DecisionTreeClassifier(random_state = 12345, max_depth=depth, min_samples_leaf=leaf)\n",
    "        predictions_tree = model_tree.fit(train_features, train_target).predict(valid_features)\n",
    "        f1 = f1_score(valid_target, predictions_tree)\n",
    "        if f1 > best_f1_tree: \n",
    "            best_model_tree = model_tree\n",
    "            best_f1_tree = f1 \n",
    "            best_depth_tree = depth \n",
    "            best_min_samples_leaf_tree = leaf\n",
    "        \n",
    "print(f''' \n",
    "Лучший результат f1: {best_f1_tree} \n",
    "Лучшая глубина: {best_depth_tree}\n",
    "Минимальное число объектов листьев: {best_min_samples_leaf_tree}\n",
    "Значение Accuracy: {accuracy_score(valid_target, model_tree.fit(train_features, train_target).predict(valid_features))}\n",
    "''')"
   ]
  },
  {
   "cell_type": "code",
   "execution_count": 21,
   "metadata": {},
   "outputs": [
    {
     "name": "stdout",
     "output_type": "stream",
     "text": [
      "\n",
      "Лучший результат f1: 0.5588752196836555 \n",
      "Лучшая глубина: 10 \n",
      "Лучшее количество деревьев: 160\n",
      "Значение Accuracy: 0.8587135788894997\n",
      "\n"
     ]
    }
   ],
   "source": [
    "# Случайный лес \n",
    "\n",
    "best_model_forest = None \n",
    "best_depth_forest = 0\n",
    "best_est = 0\n",
    "best_f1_forest = 0 \n",
    "\n",
    "for depth in range(1, 16, 1):\n",
    "    for est in range(60, 201, 10): \n",
    "        model_forest = RandomForestClassifier(random_state=12345, max_depth=depth, n_estimators=est)\n",
    "        predictions_forest = model_forest.fit(train_features, train_target).predict(valid_features)\n",
    "        f1 = f1_score(valid_target, predictions_forest) \n",
    "        if f1 > best_f1_forest: \n",
    "            best_model_forest = model_forest\n",
    "            best_f1_forest = f1 \n",
    "            best_depth_forest = depth\n",
    "            best_est = est\n",
    "        \n",
    "print(f'''\n",
    "Лучший результат f1: {best_f1_forest} \n",
    "Лучшая глубина: {best_depth_forest} \n",
    "Лучшее количество деревьев: {best_est}\n",
    "Значение Accuracy: {accuracy_score(valid_target, model_forest.fit(train_features, train_target).predict(valid_features))}\n",
    "''')"
   ]
  },
  {
   "cell_type": "code",
   "execution_count": 22,
   "metadata": {},
   "outputs": [
    {
     "name": "stdout",
     "output_type": "stream",
     "text": [
      "Значение f1: 0.329938900203666\n",
      "Значение Accuracy \"Логистической регрессии\": 0.8191313908741067\n"
     ]
    }
   ],
   "source": [
    "# Проверим модель \"Логистическая регрессия\" с алгоритмом liblinear\n",
    "model_log_lib = LogisticRegression(solver='liblinear', max_iter=1000, random_state=12345)\n",
    "predictions_log_lib = model_log_lib.fit(train_features, train_target).predict(valid_features)\n",
    "\n",
    "# напечатаем результат \n",
    "f1_score_log_lib = f1_score(valid_target, predictions_log_lib)\n",
    "print(f'Значение f1: {f1_score_log_lib}')\n",
    "accuracy_log_lib = accuracy_score(valid_target, predictions_log_lib)\n",
    "print(f'Значение Accuracy \"Логистической регрессии\": {accuracy_log_lib}')"
   ]
  },
  {
   "cell_type": "markdown",
   "metadata": {},
   "source": [
    "Создадим собственную функцию для построения графика Roc-кривой и расчета метрики AUC-ROC "
   ]
  },
  {
   "cell_type": "code",
   "execution_count": 23,
   "metadata": {},
   "outputs": [],
   "source": [
    "# сделаем расчет вероятности для построения кривой ROC \n",
    "\n",
    "def roc_auc(model, features, target):\n",
    "    probabilities_valid = model.predict_proba(features)\n",
    "    probabilities_one_valid = probabilities_valid[:, 1] \n",
    "    fpr, tpr, thresholds = roc_curve(target, probabilities_one_valid)\n",
    "    \n",
    "    # строим график ROC-кривой\n",
    "    plt.figure(figsize=(6,6))\n",
    "    plt.plot(fpr, tpr)\n",
    "    plt.plot([0, 1], [0, 1], linestyle='--')\n",
    "    plt.ylim([0.0, 1.0])\n",
    "    plt.xlim([0.0, 1.0])\n",
    "    plt.xlabel('False Positive Rate')\n",
    "    plt.ylabel('True Positive Rate')\n",
    "    plt.title('ROC-кривая')\n",
    "    plt.show()\n",
    "    \n",
    "    # рассчитаем AUC-ROC\n",
    "    auc_roc = roc_auc_score(target, probabilities_one_valid, average=None)\n",
    "    \n",
    "    return auc_roc"
   ]
  },
  {
   "cell_type": "code",
   "execution_count": 24,
   "metadata": {
    "scrolled": true
   },
   "outputs": [
    {
     "data": {
      "image/png": "[encoded data removed]",
      "text/plain": [
       "<Figure size 600x600 with 1 Axes>"
      ]
     },
     "metadata": {},
     "output_type": "display_data"
    },
    {
     "name": "stdout",
     "output_type": "stream",
     "text": [
      "0.8305083637043266\n"
     ]
    }
   ],
   "source": [
    "# график ROC-кривой и значение ROC-AUC модели \"Дерево решений\"\n",
    "print(roc_auc(best_model_tree, valid_features, valid_target))"
   ]
  },
  {
   "cell_type": "code",
   "execution_count": 25,
   "metadata": {
    "scrolled": true
   },
   "outputs": [
    {
     "data": {
      "image/png": "[encoded data removed]",
      "text/plain": [
       "<Figure size 600x600 with 1 Axes>"
      ]
     },
     "metadata": {},
     "output_type": "display_data"
    },
    {
     "name": "stdout",
     "output_type": "stream",
     "text": [
      "0.865175217269414\n"
     ]
    }
   ],
   "source": [
    "# график ROC-кривой и значение ROC-AUC модели \"Случайный лес\"\n",
    "print(roc_auc(best_model_forest, valid_features, valid_target))"
   ]
  },
  {
   "cell_type": "code",
   "execution_count": 26,
   "metadata": {
    "scrolled": true
   },
   "outputs": [
    {
     "data": {
      "image/png": "[encoded data removed]",
      "text/plain": [
       "<Figure size 600x600 with 1 Axes>"
      ]
     },
     "metadata": {},
     "output_type": "display_data"
    },
    {
     "name": "stdout",
     "output_type": "stream",
     "text": [
      "0.7882347444164097\n"
     ]
    }
   ],
   "source": [
    "# график ROC-кривой и значение ROC-AUC модели \"Логистическая регрессия\"\n",
    "print(roc_auc(model_log_lib, valid_features, valid_target))"
   ]
  },
  {
   "cell_type": "markdown",
   "metadata": {},
   "source": [
    "**Вывод** \n",
    "\n",
    "Наибольший результат метрики \"AUC-ROC\" у модели \"Случайный лес\", но наилучший результат метрики f1 показала модель \"Дерево решений\". \n",
    "\n",
    "На следующем этапе проверим каждую модель на адекватность. "
   ]
  },
  {
   "cell_type": "markdown",
   "metadata": {},
   "source": [
    "### Проверка адекватности моделей "
   ]
  },
  {
   "cell_type": "code",
   "execution_count": 27,
   "metadata": {
    "scrolled": false
   },
   "outputs": [
    {
     "name": "stdout",
     "output_type": "stream",
     "text": [
      "0    0.796062\n",
      "1    0.203938\n",
      "Name: exited, dtype: float64\n"
     ]
    },
    {
     "data": {
      "text/plain": [
       "<AxesSubplot:>"
      ]
     },
     "execution_count": 27,
     "metadata": {},
     "output_type": "execute_result"
    },
    {
     "data": {
      "image/png": "[encoded data removed]",
      "text/plain": [
       "<Figure size 640x480 with 1 Axes>"
      ]
     },
     "metadata": {},
     "output_type": "display_data"
    }
   ],
   "source": [
    "# проверим баланс классов выборки \n",
    "class_frequency = churn_dummies['exited'].value_counts(normalize=True)\n",
    "\n",
    "print(class_frequency)\n",
    "class_frequency.plot(kind='bar')"
   ]
  },
  {
   "cell_type": "markdown",
   "metadata": {},
   "source": [
    "По графику видим, что целевой признак показывает ориентировочно 80% отрицательных и только 20% положительных ответов. Таким образом, можем утверждать, что в данных наблюдается дисбаланс. "
   ]
  },
  {
   "cell_type": "code",
   "execution_count": 28,
   "metadata": {
    "scrolled": true
   },
   "outputs": [
    {
     "name": "stdout",
     "output_type": "stream",
     "text": [
      "Частота класса\n",
      "\n",
      "Дерево решений: \n",
      "0    0.843321\n",
      "1    0.156679\n",
      "dtype: float64\n",
      "\n",
      "\n",
      "Случайный лес: \n",
      "0    0.890049\n",
      "1    0.109951\n",
      "dtype: float64\n",
      "\n",
      "\n",
      "Логистическая регрессия: \n",
      "0    0.93293\n",
      "1    0.06707\n",
      "dtype: float64\n"
     ]
    }
   ],
   "source": [
    "# также рассчитаем частоты классов каждой модели \n",
    "\n",
    "print('Частота класса')\n",
    "\n",
    "# Дерево решений\n",
    "freq_valid_tree = pd.Series(best_model_tree.predict(valid_features)).value_counts(normalize=True)\n",
    "print(f'''\n",
    "Дерево решений: \n",
    "{freq_valid_tree}\n",
    "''')\n",
    "\n",
    "# Случайный лес\n",
    "freq_valid_forest = pd.Series(best_model_forest.predict(valid_features)).value_counts(normalize=True)\n",
    "print(f'''\n",
    "Случайный лес: \n",
    "{freq_valid_forest}\n",
    "''')\n",
    "\n",
    "# Логистическая регрессия\n",
    "freq_valid_log = pd.Series(model_log_lib.predict(valid_features)).value_counts(normalize=True)\n",
    "print(f'''\n",
    "Логистическая регрессия: \n",
    "{freq_valid_log}''')"
   ]
  },
  {
   "cell_type": "markdown",
   "metadata": {},
   "source": [
    "Исходя из полученных данных видим, что модель \"Логистическая регрессия\" склонна показывать результат, равный 0, а самое высокое значение accuracy у модели \"Случайный лес\". \n",
    "\n",
    "Сравним результаты выбранных моделей с константной моделью. За константу пример значение 0. "
   ]
  },
  {
   "cell_type": "code",
   "execution_count": 29,
   "metadata": {
    "scrolled": true
   },
   "outputs": [
    {
     "name": "stdout",
     "output_type": "stream",
     "text": [
      "0.7971412864211105\n"
     ]
    }
   ],
   "source": [
    "# создаем константную модель для проверки адекватности \n",
    "target_pred_constant = pd.Series(0, index=valid_target.index)\n",
    "print(accuracy_score(valid_target, target_pred_constant))"
   ]
  },
  {
   "cell_type": "markdown",
   "metadata": {},
   "source": [
    "**Вывод** \n",
    "\n",
    "Напомним, что точность каждой модели соствляет: \n",
    "\n",
    "* Точность модели \"Дерево решений\" ~ 0.79\n",
    "* Точность модели \"Случайного леса\" ~ 0.86\n",
    "* Точность модели \"Логистической регрессии\" ~ 0.82\n",
    "\n",
    "Точность константной модели незначительно отличается от обученных,а это также говорит нам о проблеме дисбаланса классов в данных.    \n",
    "\n",
    "Для дальнейшего исследования проблемы дисбаланса классов изучим матрицу ошибок. "
   ]
  },
  {
   "cell_type": "markdown",
   "metadata": {},
   "source": [
    "### Матрица ошибок, recall, precision и F1"
   ]
  },
  {
   "cell_type": "code",
   "execution_count": 30,
   "metadata": {},
   "outputs": [
    {
     "data": {
      "text/plain": [
       "array([[1360,   90],\n",
       "       [ 174,  195]], dtype=int64)"
      ]
     },
     "execution_count": 30,
     "metadata": {},
     "output_type": "execute_result"
    }
   ],
   "source": [
    "# матрица ошибок \"Дерево решений\"\n",
    "confusion_matrix(valid_target, best_model_tree.predict(valid_features))"
   ]
  },
  {
   "cell_type": "code",
   "execution_count": 31,
   "metadata": {},
   "outputs": [
    {
     "data": {
      "text/plain": [
       "array([[1409,   41],\n",
       "       [ 210,  159]], dtype=int64)"
      ]
     },
     "execution_count": 31,
     "metadata": {},
     "output_type": "execute_result"
    }
   ],
   "source": [
    "# матрица ошибок \"Случайный лес\"\n",
    "confusion_matrix(valid_target, best_model_forest.predict(valid_features))"
   ]
  },
  {
   "cell_type": "code",
   "execution_count": 32,
   "metadata": {},
   "outputs": [
    {
     "data": {
      "text/plain": [
       "array([[1409,   41],\n",
       "       [ 288,   81]], dtype=int64)"
      ]
     },
     "execution_count": 32,
     "metadata": {},
     "output_type": "execute_result"
    }
   ],
   "source": [
    "# матрица ошибок \"Логистическая регрессия\"\n",
    "confusion_matrix(valid_target, model_log_lib.predict(valid_features))"
   ]
  },
  {
   "cell_type": "markdown",
   "metadata": {},
   "source": [
    "Модели склонны предсказывать отрицательный результат. \n",
    "\n",
    "\n",
    "Изучим метрики полноты, точности и F1 для каждой модели. "
   ]
  },
  {
   "cell_type": "code",
   "execution_count": 33,
   "metadata": {},
   "outputs": [],
   "source": [
    "# создадим собственную функцию для подсчета полноты, точности и F1 \n",
    "def recall_precision_f1 (target_valid, predictions): \n",
    "    print(f'Полнота: {recall_score(target_valid, predictions)}')\n",
    "    print(f'Точность: {precision_score(target_valid, predictions)}')\n",
    "    print(f'f1: {f1_score(target_valid, predictions)}')"
   ]
  },
  {
   "cell_type": "code",
   "execution_count": 34,
   "metadata": {
    "scrolled": true
   },
   "outputs": [
    {
     "name": "stdout",
     "output_type": "stream",
     "text": [
      "Полнота: 0.5284552845528455\n",
      "Точность: 0.6842105263157895\n",
      "f1: 0.5963302752293578\n"
     ]
    }
   ],
   "source": [
    "# подсчет точности, полноты и F1 для модели \"Дерево решений\"\n",
    "recall_precision_f1(valid_target, best_model_tree.predict(valid_features))"
   ]
  },
  {
   "cell_type": "code",
   "execution_count": 35,
   "metadata": {},
   "outputs": [
    {
     "name": "stdout",
     "output_type": "stream",
     "text": [
      "Полнота: 0.43089430894308944\n",
      "Точность: 0.795\n",
      "f1: 0.5588752196836555\n"
     ]
    }
   ],
   "source": [
    "# подсчет точности, полноты и F1 для модели \"Случайный лес\"\n",
    "recall_precision_f1(valid_target, best_model_forest.predict(valid_features))"
   ]
  },
  {
   "cell_type": "code",
   "execution_count": 36,
   "metadata": {
    "scrolled": false
   },
   "outputs": [
    {
     "name": "stdout",
     "output_type": "stream",
     "text": [
      "Полнота: 0.21951219512195122\n",
      "Точность: 0.6639344262295082\n",
      "f1: 0.329938900203666\n"
     ]
    }
   ],
   "source": [
    "# подсчет точности, полноты и F1 для модели \"Логистическая регрессия\"\n",
    "recall_precision_f1(valid_target, model_log_lib.predict(valid_features))"
   ]
  },
  {
   "cell_type": "markdown",
   "metadata": {},
   "source": [
    "**Вывод**\n",
    "\n",
    "Исходя из полученных данных видим, что модели чаще предсказывают отрицательный результат. \n",
    "\n",
    "Самую высокую точность показала модель Логистической регрессии, далее Случайный лес и Дерево решений. Это также означает, что модели стремятся с большой вероятностью выдавать результат 0. \n",
    "\n",
    "Предполагаем,что это также вызвано дисбалансом классов и попробуем устранить данную проблему. "
   ]
  },
  {
   "cell_type": "markdown",
   "metadata": {},
   "source": [
    "## Борьба с дисбалансом"
   ]
  },
  {
   "cell_type": "markdown",
   "metadata": {},
   "source": [
    "### Увеличение выборки методом \"upsample\""
   ]
  },
  {
   "cell_type": "code",
   "execution_count": 37,
   "metadata": {},
   "outputs": [],
   "source": [
    "# увеличим выборку методом upsample \n",
    "\n",
    "def upsample(features, target, repeat): \n",
    "    features_zeros = features[target == 0]\n",
    "    features_ones = features[target == 1]\n",
    "    target_zeros = target[target == 0]\n",
    "    target_ones = target[target == 1]\n",
    "\n",
    "    features_upsampled = pd.concat([features_zeros] + [features_ones] * repeat)\n",
    "    target_upsampled = pd.concat([target_zeros] + [target_ones] * repeat)\n",
    "    \n",
    "    features_upsampled, target_upsampled = shuffle(\n",
    "        features_upsampled, target_upsampled, random_state=12345)\n",
    "    \n",
    "    return features_upsampled, target_upsampled\n",
    "\n",
    "features_upsampled, target_upsampled = upsample(train_features, train_target, 4) "
   ]
  },
  {
   "cell_type": "code",
   "execution_count": 38,
   "metadata": {},
   "outputs": [
    {
     "name": "stdout",
     "output_type": "stream",
     "text": [
      "1    0.508001\n",
      "0    0.491999\n",
      "Name: exited, dtype: float64\n"
     ]
    },
    {
     "data": {
      "text/plain": [
       "<AxesSubplot:>"
      ]
     },
     "execution_count": 38,
     "metadata": {},
     "output_type": "execute_result"
    },
    {
     "data": {
      "image/png": "[encoded data removed]",
      "text/plain": [
       "<Figure size 640x480 with 1 Axes>"
      ]
     },
     "metadata": {},
     "output_type": "display_data"
    }
   ],
   "source": [
    "# проверим баланс классов выборки после применения метода upsample \n",
    "class_frequency_upsampled = target_upsampled.value_counts(normalize=True)\n",
    "\n",
    "print(class_frequency_upsampled)\n",
    "class_frequency_upsampled.plot(kind='bar')"
   ]
  },
  {
   "cell_type": "markdown",
   "metadata": {},
   "source": [
    "Обучение моделей на новой выборке без дисбаланса"
   ]
  },
  {
   "cell_type": "code",
   "execution_count": 39,
   "metadata": {
    "scrolled": true
   },
   "outputs": [
    {
     "name": "stdout",
     "output_type": "stream",
     "text": [
      "\n",
      "Лучший результат f1: 0.5783132530120483 \n",
      "Лучшая глубина: 6\n",
      "Минимальное количество листьев: 34\n",
      "\n"
     ]
    },
    {
     "data": {
      "image/png": "[encoded data removed]",
      "text/plain": [
       "<Figure size 600x600 with 1 Axes>"
      ]
     },
     "metadata": {},
     "output_type": "display_data"
    },
    {
     "name": "stdout",
     "output_type": "stream",
     "text": [
      "0.8330520512101673\n"
     ]
    }
   ],
   "source": [
    "# Дерево решений с нарощенной выборкой\n",
    "\n",
    "best_model_tree = None \n",
    "best_depth_tree = 0\n",
    "best_f1_tree = 0 \n",
    "best_min_samples_leaf_tree = 0\n",
    "\n",
    "for leaf in range(1, 60, 1):\n",
    "    for depth in range(1, 20, 1): \n",
    "        model_tree = DecisionTreeClassifier(random_state=12345, max_depth=depth, min_samples_leaf=leaf)\n",
    "        predictions_tree = model_tree.fit(features_upsampled, target_upsampled).predict(valid_features)\n",
    "        f1 = f1_score(valid_target, predictions_tree)\n",
    "        if f1 > best_f1_tree: \n",
    "            best_model_tree = model_tree\n",
    "            best_f1_tree = f1 \n",
    "            best_depth_tree = depth \n",
    "            best_min_samples_leaf_tree = leaf\n",
    "        \n",
    "print(f'''\n",
    "Лучший результат f1: {best_f1_tree} \n",
    "Лучшая глубина: {best_depth_tree}\n",
    "Минимальное количество листьев: {best_min_samples_leaf_tree}\n",
    "''')\n",
    "print(roc_auc(best_model_tree, valid_features, valid_target))"
   ]
  },
  {
   "cell_type": "code",
   "execution_count": 40,
   "metadata": {
    "scrolled": true
   },
   "outputs": [
    {
     "name": "stdout",
     "output_type": "stream",
     "text": [
      "\n",
      "Лучший результат f1: 0.6171428571428572 \n",
      "Лучшая глубина: 7 \n",
      "Лучшее количество деревьев: 10\n",
      "\n"
     ]
    },
    {
     "data": {
      "image/png": "[encoded data removed]",
      "text/plain": [
       "<Figure size 600x600 with 1 Axes>"
      ]
     },
     "metadata": {},
     "output_type": "display_data"
    },
    {
     "name": "stdout",
     "output_type": "stream",
     "text": [
      "0.8578889823380993\n"
     ]
    }
   ],
   "source": [
    "# Случайный лес с нарощенной выборкой\n",
    "best_model_forest = None \n",
    "best_depth_forest = 0\n",
    "best_est = 0\n",
    "best_f1_forest = 0 \n",
    "\n",
    "for depth in range(1, 16, 1):\n",
    "    for est in range(10, 201, 10): \n",
    "        model_forest = RandomForestClassifier(random_state=12345, max_depth=depth, n_estimators=est)\n",
    "        predictions_forest = model_forest.fit(features_upsampled, target_upsampled).predict(valid_features)\n",
    "        f1 = f1_score(valid_target, predictions_forest) \n",
    "        if f1 > best_f1_forest: \n",
    "            best_model_forest = model_forest\n",
    "            best_f1_forest = f1 \n",
    "            best_depth_forest = depth\n",
    "            best_est = est\n",
    "        \n",
    "print(f'''\n",
    "Лучший результат f1: {best_f1_forest} \n",
    "Лучшая глубина: {best_depth_forest} \n",
    "Лучшее количество деревьев: {best_est}\n",
    "''')\n",
    "print(roc_auc(best_model_forest, valid_features, valid_target))"
   ]
  },
  {
   "cell_type": "code",
   "execution_count": 41,
   "metadata": {
    "scrolled": true
   },
   "outputs": [
    {
     "name": "stdout",
     "output_type": "stream",
     "text": [
      "Лучший результат f1: 0.5085714285714286\n"
     ]
    },
    {
     "data": {
      "image/png": "[encoded data removed]",
      "text/plain": [
       "<Figure size 600x600 with 1 Axes>"
      ]
     },
     "metadata": {},
     "output_type": "display_data"
    },
    {
     "name": "stdout",
     "output_type": "stream",
     "text": [
      "0.7880927016166713\n"
     ]
    }
   ],
   "source": [
    "# Логистическая регрессия с нарощенной выборкой\n",
    "model_log = LogisticRegression(solver='liblinear')\n",
    "predictions_log = model_log.fit(features_upsampled, target_upsampled).predict(valid_features)\n",
    "print(f'Лучший результат f1: {f1_score(valid_target, predictions_log)}')\n",
    "print(roc_auc(model_log, valid_features, valid_target))"
   ]
  },
  {
   "cell_type": "markdown",
   "metadata": {
    "scrolled": false
   },
   "source": [
    "### Балансируем данные методом class_weight='balanced"
   ]
  },
  {
   "cell_type": "markdown",
   "metadata": {},
   "source": [
    "Обучение моделей на изначальной тренировочной выборке с изменением гиперпараметра class_weight='balanced'"
   ]
  },
  {
   "cell_type": "code",
   "execution_count": 42,
   "metadata": {},
   "outputs": [
    {
     "name": "stdout",
     "output_type": "stream",
     "text": [
      "\n",
      "Лучший результат f1: 0.5782092772384034 \n",
      "Лучшая глубина: 6\n",
      "Минимальное количество листьев: 16\n",
      "\n"
     ]
    },
    {
     "data": {
      "image/png": "[encoded data removed]",
      "text/plain": [
       "<Figure size 600x600 with 1 Axes>"
      ]
     },
     "metadata": {},
     "output_type": "display_data"
    },
    {
     "name": "stdout",
     "output_type": "stream",
     "text": [
      "0.8354807961872722\n"
     ]
    }
   ],
   "source": [
    "# Дерево решений с class_weight='balanced'\n",
    "\n",
    "best_model_tree = None \n",
    "best_depth_tree = 0\n",
    "best_f1_tree = 0 \n",
    "best_min_samples_leaf_tree = 0\n",
    "\n",
    "for leaf in range(1, 60, 1):\n",
    "    for depth in range(1, 16, 1): \n",
    "        model_tree = DecisionTreeClassifier(random_state = 12345, max_depth=depth, \n",
    "                                            min_samples_leaf=leaf, class_weight='balanced')\n",
    "        predictions_tree = model_tree.fit(train_features, train_target).predict(valid_features)\n",
    "        f1 = f1_score(valid_target, predictions_tree)\n",
    "        if f1 > best_f1_tree: \n",
    "            best_model_tree = model_tree\n",
    "            best_f1_tree = f1 \n",
    "            best_depth_tree = depth \n",
    "            best_min_samples_leaf_tree = leaf\n",
    "        \n",
    "print(f'''\n",
    "Лучший результат f1: {best_f1_tree} \n",
    "Лучшая глубина: {best_depth_tree}\n",
    "Минимальное количество листьев: {best_min_samples_leaf_tree}\n",
    "''')\n",
    "print(roc_auc(best_model_tree, valid_features, valid_target))"
   ]
  },
  {
   "cell_type": "code",
   "execution_count": 43,
   "metadata": {
    "scrolled": true
   },
   "outputs": [
    {
     "name": "stdout",
     "output_type": "stream",
     "text": [
      "\n",
      "Лучший результат f1: 0.6151603498542274\n",
      "Лучшая глубина: 11\n",
      "Лучшее количество деревьев: 150\n",
      "\n"
     ]
    },
    {
     "data": {
      "image/png": "[encoded data removed]",
      "text/plain": [
       "<Figure size 600x600 with 1 Axes>"
      ]
     },
     "metadata": {},
     "output_type": "display_data"
    },
    {
     "name": "stdout",
     "output_type": "stream",
     "text": [
      "0.8563423979067376\n"
     ]
    }
   ],
   "source": [
    "# Случайный лес с class_weight='balanced'\n",
    "best_model_forest_balanced = None \n",
    "best_depth_forest = 0\n",
    "best_est = 0\n",
    "best_f1_forest = 0 \n",
    "\n",
    "for depth in range(1, 16, 1):\n",
    "    for est in range(10, 201, 10): \n",
    "        model_forest = RandomForestClassifier(random_state=12345, max_depth=depth, n_estimators=est, class_weight='balanced')\n",
    "        predictions_forest = model_forest.fit(train_features, train_target).predict(valid_features)\n",
    "        f1 = f1_score(valid_target, predictions_forest) \n",
    "        if f1 > best_f1_forest: \n",
    "            best_model_forest_balanced = model_forest\n",
    "            best_f1_forest = f1 \n",
    "            best_depth_forest = depth\n",
    "            best_est = est\n",
    "        \n",
    "print(f'''\n",
    "Лучший результат f1: {best_f1_forest}\n",
    "Лучшая глубина: {best_depth_forest}\n",
    "Лучшее количество деревьев: {best_est}\n",
    "''')\n",
    "print(roc_auc(best_model_forest_balanced, valid_features, valid_target))"
   ]
  },
  {
   "cell_type": "code",
   "execution_count": 44,
   "metadata": {},
   "outputs": [
    {
     "name": "stdout",
     "output_type": "stream",
     "text": [
      "Лучший результат f1: 0.5092322643343051\n"
     ]
    },
    {
     "data": {
      "image/png": "[encoded data removed]",
      "text/plain": [
       "<Figure size 600x600 with 1 Axes>"
      ]
     },
     "metadata": {},
     "output_type": "display_data"
    },
    {
     "name": "stdout",
     "output_type": "stream",
     "text": [
      "0.7880870946640501\n"
     ]
    }
   ],
   "source": [
    "# Логистическая регрессия с class_weight='balanced'\n",
    "model_log = LogisticRegression(solver='liblinear', class_weight='balanced')\n",
    "predictions_log = model_log.fit(train_features, train_target).predict(valid_features)\n",
    "print(f'Лучший результат f1: {f1_score(valid_target, predictions_log)}')\n",
    "print(roc_auc(model_log, valid_features, valid_target))"
   ]
  },
  {
   "cell_type": "markdown",
   "metadata": {},
   "source": [
    "Показатели всех моделей улучшились после балансировки классов. \n",
    "\n",
    "Балансировка весов классов дала наилучший результат у модели \"Дерево решений\" в сравнении с методом upsample, но лучшие показатели у модели \"Случайный лес\" при увеличении выборки методом upsample. \n",
    "\n",
    "Таким образом, для дальнейшего исследования берем модель \"Случайный лес\" и применим к ней данные, полученные в результате метода upsample, так как она показала наилучшие результаты без перебора гиперпараметров. "
   ]
  },
  {
   "cell_type": "markdown",
   "metadata": {},
   "source": [
    "### Проверка адекватности модели \"Случайный лес\""
   ]
  },
  {
   "cell_type": "code",
   "execution_count": 45,
   "metadata": {
    "scrolled": true
   },
   "outputs": [
    {
     "name": "stdout",
     "output_type": "stream",
     "text": [
      "Accuracy константной модели: 0.7971412864211105\n",
      "Accuracy модели \"Случайный лес\": 0.8158328752061572\n"
     ]
    }
   ],
   "source": [
    "# сравним показатели точности  \n",
    "print(f'Accuracy константной модели: {accuracy_score(valid_target, target_pred_constant)}')\n",
    "print(f'Accuracy модели \"Случайный лес\": {accuracy_score(valid_target, best_model_forest.predict(valid_features))}')"
   ]
  },
  {
   "cell_type": "markdown",
   "metadata": {},
   "source": [
    "**Вывод** \n",
    "\n",
    "Наилучший результат метрики F1, равной ~0.62, модель показала при следующих гиперпараметрах: \n",
    "\n",
    "* Глубина дерева - 7 \n",
    "* Количество деревьев - 10 \n",
    "\n",
    "Модель \"Случайный лес\" показала результат по метрике \"accuracy\" лучше, чем у константной модели, а значит ее можно считать адекватной. "
   ]
  },
  {
   "cell_type": "markdown",
   "metadata": {},
   "source": [
    "## Тестирование модели"
   ]
  },
  {
   "cell_type": "code",
   "execution_count": 46,
   "metadata": {
    "scrolled": true
   },
   "outputs": [],
   "source": [
    "# обучим модель с выбранными наилучшими параметрами и применим ее на тестовой выборке\n",
    "model_forest_final = RandomForestClassifier(random_state=12345, n_estimators=10, max_depth=7)\n",
    "predictions_forest_final = model_forest_final.fit(features_upsampled, target_upsampled).predict(test_features)"
   ]
  },
  {
   "cell_type": "code",
   "execution_count": 47,
   "metadata": {},
   "outputs": [
    {
     "name": "stdout",
     "output_type": "stream",
     "text": [
      "Полнота: 0.6994535519125683\n",
      "Точность: 0.5140562248995983\n",
      "f1: 0.5925925925925924\n",
      "Accuracy: 0.8063806380638063\n"
     ]
    }
   ],
   "source": [
    "# сделаем расчет точности, полноты и F1 для модели \"Случайный лес\"\n",
    "recall_precision_f1(test_target, predictions_forest_final)\n",
    "# посчитаем также accuracy \n",
    "print(f'Accuracy: {accuracy_score(test_target, predictions_forest_final)}')"
   ]
  },
  {
   "cell_type": "markdown",
   "metadata": {},
   "source": [
    "Метрика AUC-ROC "
   ]
  },
  {
   "cell_type": "code",
   "execution_count": 48,
   "metadata": {
    "scrolled": true
   },
   "outputs": [
    {
     "data": {
      "image/png": "[encoded data removed]",
      "text/plain": [
       "<Figure size 600x600 with 1 Axes>"
      ]
     },
     "metadata": {},
     "output_type": "display_data"
    },
    {
     "name": "stdout",
     "output_type": "stream",
     "text": [
      "AUC-ROC: 0.8444156543076067\n"
     ]
    }
   ],
   "source": [
    "# сделаем расчет вероятности для построения кривой ROC \n",
    "probabilities_valid = model_forest_final.predict_proba(test_features)\n",
    "probabilities_one_valid = probabilities_valid[:, 1] \n",
    "\n",
    "fpr, tpr, thresholds = roc_curve(test_target, probabilities_one_valid)\n",
    "\n",
    "# строим график ROC-кривой\n",
    "plt.figure(figsize=(6,6))\n",
    "plt.plot(fpr, tpr)\n",
    "plt.plot([0, 1], [0, 1], linestyle='--')\n",
    "plt.ylim([0.0, 1.0])\n",
    "plt.xlim([0.0, 1.0])\n",
    "plt.xlabel('False Positive Rate')\n",
    "plt.ylabel('True Positive Rate')\n",
    "plt.title('ROC-кривая')\n",
    "plt.show()\n",
    "\n",
    "# рассчитаем AUC-ROC\n",
    "auc_roc = roc_auc_score(test_target, probabilities_one_valid, average=None)\n",
    "\n",
    "print(f'AUC-ROC: {auc_roc}')"
   ]
  },
  {
   "cell_type": "markdown",
   "metadata": {},
   "source": [
    "## Вывод"
   ]
  },
  {
   "cell_type": "markdown",
   "metadata": {},
   "source": [
    "В данной работе были применены модели \"Дерево решений\", \"Случайный лес\" и \"Логистическая регрессия\". \n",
    "\n",
    "Перед исследованием и применением моделей были почищены данные: избавились от пропущенных значений и проверили данные на наличие дубликатов, а также преобразовали категориальные переменные в числовые и применили масштабирование.  \n",
    "\n",
    "При применении моделей в данных наблюдался дисбаланс, большинство ответов были негативными и из-за чего модели не проходили проверку адекватности. Устранили данную проблему методом upsample, увеличив долю позитивных ответов в 4 раза. \n",
    "\n",
    "Благодаря устранению дисбаланса в дальнейшем модели выдавали результаты лучше. Наиболее высокие результаты показала модель \"Случайный лес\", поэтому мы ее использовали в дальнейшем нашем исследовании. \n",
    "\n",
    "Для того, чтобы увеличить качество модели \"Случайный лес\" мы перебрали значения нескольких гиперпараметров и получили следующий результат: \n",
    "\n",
    "* `Полнота` ~ 0.70\n",
    "* `Точность` ~ 0.51\n",
    "* `F1` ~ 0.59\n",
    "* `Auc_roc` ~ 0.84"
   ]
  }
 ],
 "metadata": {
  "ExecuteTimeLog": [
   {
    "duration": 47,
    "start_time": "2023-01-11T15:22:43.378Z"
   },
   {
    "duration": 366,
    "start_time": "2023-01-11T15:22:46.973Z"
   },
   {
    "duration": 162,
    "start_time": "2023-01-11T15:22:48.326Z"
   },
   {
    "duration": 48,
    "start_time": "2023-01-11T15:23:00.610Z"
   },
   {
    "duration": 10,
    "start_time": "2023-01-11T15:24:50.333Z"
   },
   {
    "duration": 194,
    "start_time": "2023-01-11T15:40:13.621Z"
   },
   {
    "duration": 203,
    "start_time": "2023-01-11T15:52:22.891Z"
   },
   {
    "duration": 2,
    "start_time": "2023-01-11T15:54:57.829Z"
   },
   {
    "duration": 67,
    "start_time": "2023-01-11T15:54:57.833Z"
   },
   {
    "duration": 18,
    "start_time": "2023-01-11T15:54:57.902Z"
   },
   {
    "duration": 47,
    "start_time": "2023-01-14T09:12:35.284Z"
   },
   {
    "duration": 407,
    "start_time": "2023-01-14T09:12:41.304Z"
   },
   {
    "duration": 107,
    "start_time": "2023-01-14T09:12:41.713Z"
   },
   {
    "duration": 58,
    "start_time": "2023-01-14T09:12:51.504Z"
   },
   {
    "duration": 54,
    "start_time": "2023-01-14T09:13:06.995Z"
   },
   {
    "duration": 49,
    "start_time": "2023-01-14T09:13:18.245Z"
   },
   {
    "duration": 8,
    "start_time": "2023-01-14T09:13:25.717Z"
   },
   {
    "duration": 18,
    "start_time": "2023-01-14T09:19:13.339Z"
   },
   {
    "duration": 24,
    "start_time": "2023-01-14T09:20:44.499Z"
   },
   {
    "duration": 25,
    "start_time": "2023-01-14T09:22:49.258Z"
   },
   {
    "duration": 29,
    "start_time": "2023-01-14T09:24:03.842Z"
   },
   {
    "duration": 29,
    "start_time": "2023-01-14T09:24:08.988Z"
   },
   {
    "duration": 10,
    "start_time": "2023-01-14T09:24:27.553Z"
   },
   {
    "duration": 6,
    "start_time": "2023-01-14T09:24:31.511Z"
   },
   {
    "duration": 11,
    "start_time": "2023-01-14T09:24:40.913Z"
   },
   {
    "duration": 7,
    "start_time": "2023-01-14T09:24:48.673Z"
   },
   {
    "duration": 7,
    "start_time": "2023-01-14T09:28:14.007Z"
   },
   {
    "duration": 59,
    "start_time": "2023-01-14T09:36:27.986Z"
   },
   {
    "duration": 14,
    "start_time": "2023-01-14T09:36:36.850Z"
   },
   {
    "duration": 11,
    "start_time": "2023-01-14T09:40:54.892Z"
   },
   {
    "duration": 24,
    "start_time": "2023-01-14T09:43:00.489Z"
   },
   {
    "duration": 62,
    "start_time": "2023-01-14T09:43:35.985Z"
   },
   {
    "duration": 57,
    "start_time": "2023-01-14T09:43:58.843Z"
   },
   {
    "duration": 4,
    "start_time": "2023-01-14T09:53:26.276Z"
   },
   {
    "duration": 11,
    "start_time": "2023-01-14T09:53:36.275Z"
   },
   {
    "duration": 6,
    "start_time": "2023-01-14T09:53:40.567Z"
   },
   {
    "duration": 6,
    "start_time": "2023-01-14T09:56:03.936Z"
   },
   {
    "duration": 8,
    "start_time": "2023-01-14T09:56:25.614Z"
   },
   {
    "duration": 2,
    "start_time": "2023-01-14T09:56:33.035Z"
   },
   {
    "duration": 83,
    "start_time": "2023-01-14T09:56:33.039Z"
   },
   {
    "duration": 7,
    "start_time": "2023-01-14T09:56:35.493Z"
   },
   {
    "duration": 45,
    "start_time": "2023-01-14T10:00:14.467Z"
   },
   {
    "duration": 24,
    "start_time": "2023-01-14T10:00:21.362Z"
   },
   {
    "duration": 7,
    "start_time": "2023-01-14T10:20:03.422Z"
   },
   {
    "duration": 13,
    "start_time": "2023-01-14T10:20:11.015Z"
   },
   {
    "duration": 6,
    "start_time": "2023-01-14T10:22:09.504Z"
   },
   {
    "duration": 1067,
    "start_time": "2023-01-14T10:22:18.850Z"
   },
   {
    "duration": 8,
    "start_time": "2023-01-14T10:22:25.545Z"
   },
   {
    "duration": 7,
    "start_time": "2023-01-14T10:23:34.992Z"
   },
   {
    "duration": 25,
    "start_time": "2023-01-14T10:37:58.936Z"
   },
   {
    "duration": 6,
    "start_time": "2023-01-14T10:41:40.150Z"
   },
   {
    "duration": 4,
    "start_time": "2023-01-14T10:41:56.280Z"
   },
   {
    "duration": 9,
    "start_time": "2023-01-14T10:42:15.549Z"
   },
   {
    "duration": 13,
    "start_time": "2023-01-14T10:42:33.141Z"
   },
   {
    "duration": 49,
    "start_time": "2023-01-14T10:43:39.845Z"
   },
   {
    "duration": 6,
    "start_time": "2023-01-14T10:43:47.014Z"
   },
   {
    "duration": 385,
    "start_time": "2023-01-14T10:45:27.404Z"
   },
   {
    "duration": 72,
    "start_time": "2023-01-14T10:45:27.792Z"
   },
   {
    "duration": 7,
    "start_time": "2023-01-14T10:45:27.867Z"
   },
   {
    "duration": 13,
    "start_time": "2023-01-14T10:45:27.876Z"
   },
   {
    "duration": 52,
    "start_time": "2023-01-14T10:45:27.891Z"
   },
   {
    "duration": 5,
    "start_time": "2023-01-14T10:45:27.951Z"
   },
   {
    "duration": 20,
    "start_time": "2023-01-14T10:45:27.958Z"
   },
   {
    "duration": 6,
    "start_time": "2023-01-14T10:45:27.980Z"
   },
   {
    "duration": 2,
    "start_time": "2023-01-14T11:50:11.373Z"
   },
   {
    "duration": 77,
    "start_time": "2023-01-14T11:50:11.377Z"
   },
   {
    "duration": 7,
    "start_time": "2023-01-14T11:50:11.456Z"
   },
   {
    "duration": 18,
    "start_time": "2023-01-14T11:50:11.464Z"
   },
   {
    "duration": 23,
    "start_time": "2023-01-14T11:50:11.484Z"
   },
   {
    "duration": 5,
    "start_time": "2023-01-14T11:50:11.509Z"
   },
   {
    "duration": 13,
    "start_time": "2023-01-14T11:50:11.536Z"
   },
   {
    "duration": 4,
    "start_time": "2023-01-14T11:50:11.551Z"
   },
   {
    "duration": 5,
    "start_time": "2023-01-14T11:50:18.877Z"
   },
   {
    "duration": 17,
    "start_time": "2023-01-14T11:56:09.753Z"
   },
   {
    "duration": 10,
    "start_time": "2023-01-14T11:56:15.478Z"
   },
   {
    "duration": 3,
    "start_time": "2023-01-14T11:56:26.916Z"
   },
   {
    "duration": 74,
    "start_time": "2023-01-14T11:56:26.921Z"
   },
   {
    "duration": 6,
    "start_time": "2023-01-14T11:56:26.997Z"
   },
   {
    "duration": 14,
    "start_time": "2023-01-14T11:56:27.005Z"
   },
   {
    "duration": 27,
    "start_time": "2023-01-14T11:56:27.021Z"
   },
   {
    "duration": 5,
    "start_time": "2023-01-14T11:56:27.049Z"
   },
   {
    "duration": 21,
    "start_time": "2023-01-14T11:56:27.056Z"
   },
   {
    "duration": 6,
    "start_time": "2023-01-14T11:56:27.079Z"
   },
   {
    "duration": 66,
    "start_time": "2023-01-14T11:58:45.356Z"
   },
   {
    "duration": 930,
    "start_time": "2023-01-14T11:59:00.424Z"
   },
   {
    "duration": 61,
    "start_time": "2023-01-14T11:59:01.356Z"
   },
   {
    "duration": 57447,
    "start_time": "2023-01-14T11:59:01.418Z"
   },
   {
    "duration": 7,
    "start_time": "2023-01-14T11:59:58.868Z"
   },
   {
    "duration": 16,
    "start_time": "2023-01-14T11:59:58.877Z"
   },
   {
    "duration": 49,
    "start_time": "2023-01-14T11:59:58.894Z"
   },
   {
    "duration": 5,
    "start_time": "2023-01-14T11:59:58.945Z"
   },
   {
    "duration": 18,
    "start_time": "2023-01-14T11:59:58.952Z"
   },
   {
    "duration": 7,
    "start_time": "2023-01-14T11:59:58.972Z"
   },
   {
    "duration": 45,
    "start_time": "2023-01-14T12:24:13.565Z"
   },
   {
    "duration": 6,
    "start_time": "2023-01-14T12:24:17.523Z"
   },
   {
    "duration": 6,
    "start_time": "2023-01-14T12:31:06.812Z"
   },
   {
    "duration": 5,
    "start_time": "2023-01-14T12:31:44.868Z"
   },
   {
    "duration": 8,
    "start_time": "2023-01-14T12:35:25.640Z"
   },
   {
    "duration": 11,
    "start_time": "2023-01-14T12:35:31.917Z"
   },
   {
    "duration": 37342,
    "start_time": "2023-01-14T12:42:09.677Z"
   },
   {
    "duration": 3,
    "start_time": "2023-01-14T12:43:59.537Z"
   },
   {
    "duration": 73,
    "start_time": "2023-01-14T12:43:59.542Z"
   },
   {
    "duration": 9248,
    "start_time": "2023-01-14T12:43:59.616Z"
   },
   {
    "duration": 0,
    "start_time": "2023-01-14T12:44:08.866Z"
   },
   {
    "duration": 0,
    "start_time": "2023-01-14T12:44:08.868Z"
   },
   {
    "duration": 0,
    "start_time": "2023-01-14T12:44:08.870Z"
   },
   {
    "duration": 0,
    "start_time": "2023-01-14T12:44:08.871Z"
   },
   {
    "duration": 0,
    "start_time": "2023-01-14T12:44:08.873Z"
   },
   {
    "duration": 0,
    "start_time": "2023-01-14T12:44:08.874Z"
   },
   {
    "duration": 0,
    "start_time": "2023-01-14T12:44:08.876Z"
   },
   {
    "duration": 0,
    "start_time": "2023-01-14T12:44:08.876Z"
   },
   {
    "duration": 0,
    "start_time": "2023-01-14T12:44:08.877Z"
   },
   {
    "duration": 0,
    "start_time": "2023-01-14T12:44:08.879Z"
   },
   {
    "duration": 3,
    "start_time": "2023-01-14T12:44:16.168Z"
   },
   {
    "duration": 79,
    "start_time": "2023-01-14T12:44:16.173Z"
   },
   {
    "duration": 62534,
    "start_time": "2023-01-14T12:44:16.254Z"
   },
   {
    "duration": 8,
    "start_time": "2023-01-14T12:45:18.789Z"
   },
   {
    "duration": 43,
    "start_time": "2023-01-14T12:45:18.799Z"
   },
   {
    "duration": 35,
    "start_time": "2023-01-14T12:45:18.843Z"
   },
   {
    "duration": 5,
    "start_time": "2023-01-14T12:45:18.879Z"
   },
   {
    "duration": 25,
    "start_time": "2023-01-14T12:45:18.886Z"
   },
   {
    "duration": 23,
    "start_time": "2023-01-14T12:45:18.913Z"
   },
   {
    "duration": 22,
    "start_time": "2023-01-14T12:45:18.938Z"
   },
   {
    "duration": 31,
    "start_time": "2023-01-14T12:45:18.962Z"
   },
   {
    "duration": 7,
    "start_time": "2023-01-14T12:45:18.995Z"
   },
   {
    "duration": 17,
    "start_time": "2023-01-14T12:45:19.004Z"
   },
   {
    "duration": 23,
    "start_time": "2023-01-14T12:46:03.881Z"
   },
   {
    "duration": 16,
    "start_time": "2023-01-14T12:53:56.400Z"
   },
   {
    "duration": 3,
    "start_time": "2023-01-14T12:54:16.574Z"
   },
   {
    "duration": 73,
    "start_time": "2023-01-14T12:54:16.579Z"
   },
   {
    "duration": 22,
    "start_time": "2023-01-14T12:54:16.655Z"
   },
   {
    "duration": 9,
    "start_time": "2023-01-14T12:54:16.680Z"
   },
   {
    "duration": 24,
    "start_time": "2023-01-14T12:54:16.692Z"
   },
   {
    "duration": 47,
    "start_time": "2023-01-14T12:54:16.717Z"
   },
   {
    "duration": 7,
    "start_time": "2023-01-14T12:54:16.766Z"
   },
   {
    "duration": 22,
    "start_time": "2023-01-14T12:54:16.774Z"
   },
   {
    "duration": 10,
    "start_time": "2023-01-14T12:54:16.798Z"
   },
   {
    "duration": 30,
    "start_time": "2023-01-14T12:54:16.810Z"
   },
   {
    "duration": 21,
    "start_time": "2023-01-14T12:54:16.842Z"
   },
   {
    "duration": 23,
    "start_time": "2023-01-14T12:54:16.864Z"
   },
   {
    "duration": 26,
    "start_time": "2023-01-14T12:54:16.890Z"
   },
   {
    "duration": 21,
    "start_time": "2023-01-14T12:54:16.917Z"
   },
   {
    "duration": 9,
    "start_time": "2023-01-14T12:56:02.306Z"
   },
   {
    "duration": 12,
    "start_time": "2023-01-14T12:56:10.402Z"
   },
   {
    "duration": 5,
    "start_time": "2023-01-14T12:56:27.211Z"
   },
   {
    "duration": 51,
    "start_time": "2023-01-14T13:03:25.292Z"
   },
   {
    "duration": 246,
    "start_time": "2023-01-14T13:03:37.045Z"
   },
   {
    "duration": 60,
    "start_time": "2023-01-14T13:03:37.293Z"
   },
   {
    "duration": 21,
    "start_time": "2023-01-14T13:03:37.355Z"
   },
   {
    "duration": 7,
    "start_time": "2023-01-14T13:03:37.379Z"
   },
   {
    "duration": 14,
    "start_time": "2023-01-14T13:03:37.388Z"
   },
   {
    "duration": 52,
    "start_time": "2023-01-14T13:03:37.404Z"
   },
   {
    "duration": 5,
    "start_time": "2023-01-14T13:03:37.458Z"
   },
   {
    "duration": 13,
    "start_time": "2023-01-14T13:03:37.465Z"
   },
   {
    "duration": 6,
    "start_time": "2023-01-14T13:03:37.479Z"
   },
   {
    "duration": 15,
    "start_time": "2023-01-14T13:03:37.487Z"
   },
   {
    "duration": 34,
    "start_time": "2023-01-14T13:03:37.503Z"
   },
   {
    "duration": 38,
    "start_time": "2023-01-14T13:03:37.539Z"
   },
   {
    "duration": 17,
    "start_time": "2023-01-14T13:03:37.579Z"
   },
   {
    "duration": 47,
    "start_time": "2023-01-14T13:03:37.598Z"
   },
   {
    "duration": 12,
    "start_time": "2023-01-14T13:04:07.066Z"
   },
   {
    "duration": 2,
    "start_time": "2023-01-14T13:36:39.535Z"
   },
   {
    "duration": 3,
    "start_time": "2023-01-14T13:44:34.260Z"
   },
   {
    "duration": 63,
    "start_time": "2023-01-14T13:44:34.265Z"
   },
   {
    "duration": 20,
    "start_time": "2023-01-14T13:44:34.330Z"
   },
   {
    "duration": 7,
    "start_time": "2023-01-14T13:44:34.351Z"
   },
   {
    "duration": 10,
    "start_time": "2023-01-14T13:44:34.360Z"
   },
   {
    "duration": 23,
    "start_time": "2023-01-14T13:44:34.371Z"
   },
   {
    "duration": 4,
    "start_time": "2023-01-14T13:44:34.396Z"
   },
   {
    "duration": 11,
    "start_time": "2023-01-14T13:44:34.436Z"
   },
   {
    "duration": 5,
    "start_time": "2023-01-14T13:44:34.449Z"
   },
   {
    "duration": 13,
    "start_time": "2023-01-14T13:44:34.455Z"
   },
   {
    "duration": 11,
    "start_time": "2023-01-14T13:44:34.469Z"
   },
   {
    "duration": 7,
    "start_time": "2023-01-14T13:44:34.482Z"
   },
   {
    "duration": 13,
    "start_time": "2023-01-14T13:44:34.491Z"
   },
   {
    "duration": 37,
    "start_time": "2023-01-14T13:44:34.506Z"
   },
   {
    "duration": 11,
    "start_time": "2023-01-14T13:44:34.544Z"
   },
   {
    "duration": 8,
    "start_time": "2023-01-14T13:46:49.415Z"
   },
   {
    "duration": 8,
    "start_time": "2023-01-14T13:49:57.871Z"
   },
   {
    "duration": 16,
    "start_time": "2023-01-14T13:50:11.818Z"
   },
   {
    "duration": 20,
    "start_time": "2023-01-14T13:50:16.792Z"
   },
   {
    "duration": 48,
    "start_time": "2023-01-14T13:50:45.298Z"
   },
   {
    "duration": 6,
    "start_time": "2023-01-14T13:50:58.567Z"
   },
   {
    "duration": 18,
    "start_time": "2023-01-14T13:51:03.030Z"
   },
   {
    "duration": 17,
    "start_time": "2023-01-14T13:52:46.331Z"
   },
   {
    "duration": 19,
    "start_time": "2023-01-14T13:53:48.504Z"
   },
   {
    "duration": 19,
    "start_time": "2023-01-14T13:53:50.502Z"
   },
   {
    "duration": 32,
    "start_time": "2023-01-14T13:53:52.247Z"
   },
   {
    "duration": 68,
    "start_time": "2023-01-14T14:33:17.082Z"
   },
   {
    "duration": 11,
    "start_time": "2023-01-14T14:33:33.685Z"
   },
   {
    "duration": 3,
    "start_time": "2023-01-14T14:33:45.594Z"
   },
   {
    "duration": 4,
    "start_time": "2023-01-14T14:33:55.774Z"
   },
   {
    "duration": 66,
    "start_time": "2023-01-14T14:33:55.780Z"
   },
   {
    "duration": 20,
    "start_time": "2023-01-14T14:33:55.847Z"
   },
   {
    "duration": 6,
    "start_time": "2023-01-14T14:33:55.869Z"
   },
   {
    "duration": 31,
    "start_time": "2023-01-14T14:33:55.877Z"
   },
   {
    "duration": 29,
    "start_time": "2023-01-14T14:33:55.910Z"
   },
   {
    "duration": 6,
    "start_time": "2023-01-14T14:33:55.941Z"
   },
   {
    "duration": 20,
    "start_time": "2023-01-14T14:33:55.948Z"
   },
   {
    "duration": 5,
    "start_time": "2023-01-14T14:33:55.971Z"
   },
   {
    "duration": 16,
    "start_time": "2023-01-14T14:33:55.977Z"
   },
   {
    "duration": 26,
    "start_time": "2023-01-14T14:33:55.994Z"
   },
   {
    "duration": 15,
    "start_time": "2023-01-14T14:33:56.022Z"
   },
   {
    "duration": 16,
    "start_time": "2023-01-14T14:33:56.039Z"
   },
   {
    "duration": 16,
    "start_time": "2023-01-14T14:33:56.057Z"
   },
   {
    "duration": 11,
    "start_time": "2023-01-14T14:33:56.075Z"
   },
   {
    "duration": 43,
    "start_time": "2023-01-14T14:33:56.088Z"
   },
   {
    "duration": 17,
    "start_time": "2023-01-14T14:33:56.133Z"
   },
   {
    "duration": 18,
    "start_time": "2023-01-14T14:33:56.152Z"
   },
   {
    "duration": 793,
    "start_time": "2023-01-14T14:57:47.463Z"
   },
   {
    "duration": 790,
    "start_time": "2023-01-14T14:59:08.965Z"
   },
   {
    "duration": 887,
    "start_time": "2023-01-14T14:59:26.694Z"
   },
   {
    "duration": 797,
    "start_time": "2023-01-14T15:00:10.648Z"
   },
   {
    "duration": 883,
    "start_time": "2023-01-14T15:00:19.654Z"
   },
   {
    "duration": 844,
    "start_time": "2023-01-14T15:01:07.897Z"
   },
   {
    "duration": 2,
    "start_time": "2023-01-14T15:03:11.288Z"
   },
   {
    "duration": 125,
    "start_time": "2023-01-14T15:09:58.513Z"
   },
   {
    "duration": 121,
    "start_time": "2023-01-14T15:30:58.209Z"
   },
   {
    "duration": 135,
    "start_time": "2023-01-14T15:50:05.701Z"
   },
   {
    "duration": 74,
    "start_time": "2023-01-14T15:50:31.762Z"
   },
   {
    "duration": 63,
    "start_time": "2023-01-14T15:51:03.505Z"
   },
   {
    "duration": 65,
    "start_time": "2023-01-14T15:51:12.009Z"
   },
   {
    "duration": 72,
    "start_time": "2023-01-14T16:00:39.985Z"
   },
   {
    "duration": 5,
    "start_time": "2023-01-14T16:06:13.706Z"
   },
   {
    "duration": 4,
    "start_time": "2023-01-14T18:03:06.371Z"
   },
   {
    "duration": 63,
    "start_time": "2023-01-14T18:04:57.971Z"
   },
   {
    "duration": 62,
    "start_time": "2023-01-14T18:05:37.975Z"
   },
   {
    "duration": 14,
    "start_time": "2023-01-14T18:06:02.800Z"
   },
   {
    "duration": 19,
    "start_time": "2023-01-14T18:06:14.996Z"
   },
   {
    "duration": 9,
    "start_time": "2023-01-14T18:06:22.238Z"
   },
   {
    "duration": 97,
    "start_time": "2023-01-14T18:06:22.250Z"
   },
   {
    "duration": 24,
    "start_time": "2023-01-14T18:06:22.351Z"
   },
   {
    "duration": 9,
    "start_time": "2023-01-14T18:06:22.377Z"
   },
   {
    "duration": 26,
    "start_time": "2023-01-14T18:06:22.388Z"
   },
   {
    "duration": 67,
    "start_time": "2023-01-14T18:06:22.443Z"
   },
   {
    "duration": 17,
    "start_time": "2023-01-14T18:06:22.513Z"
   },
   {
    "duration": 53,
    "start_time": "2023-01-14T18:06:22.541Z"
   },
   {
    "duration": 9,
    "start_time": "2023-01-14T18:06:22.596Z"
   },
   {
    "duration": 12,
    "start_time": "2023-01-14T18:06:22.608Z"
   },
   {
    "duration": 52,
    "start_time": "2023-01-14T18:06:22.625Z"
   },
   {
    "duration": 11,
    "start_time": "2023-01-14T18:06:22.680Z"
   },
   {
    "duration": 16,
    "start_time": "2023-01-14T18:06:22.694Z"
   },
   {
    "duration": 18,
    "start_time": "2023-01-14T18:06:22.713Z"
   },
   {
    "duration": 9,
    "start_time": "2023-01-14T18:06:22.734Z"
   },
   {
    "duration": 85,
    "start_time": "2023-01-14T18:06:22.745Z"
   },
   {
    "duration": 33,
    "start_time": "2023-01-14T18:06:22.833Z"
   },
   {
    "duration": 36,
    "start_time": "2023-01-14T18:06:22.868Z"
   },
   {
    "duration": 948,
    "start_time": "2023-01-14T18:06:22.906Z"
   },
   {
    "duration": 239,
    "start_time": "2023-01-14T18:06:23.856Z"
   },
   {
    "duration": 148,
    "start_time": "2023-01-14T18:06:24.097Z"
   },
   {
    "duration": 89,
    "start_time": "2023-01-14T18:06:24.247Z"
   },
   {
    "duration": 9,
    "start_time": "2023-01-14T18:06:24.344Z"
   },
   {
    "duration": 20,
    "start_time": "2023-01-14T18:06:24.360Z"
   },
   {
    "duration": 5,
    "start_time": "2023-01-14T18:06:50.596Z"
   },
   {
    "duration": 25,
    "start_time": "2023-01-14T18:06:51.624Z"
   },
   {
    "duration": 17,
    "start_time": "2023-01-14T18:07:18.659Z"
   },
   {
    "duration": 4,
    "start_time": "2023-01-14T18:07:26.084Z"
   },
   {
    "duration": 19,
    "start_time": "2023-01-14T18:07:27.892Z"
   },
   {
    "duration": 10,
    "start_time": "2023-01-14T18:11:25.295Z"
   },
   {
    "duration": 10,
    "start_time": "2023-01-14T18:11:27.525Z"
   },
   {
    "duration": 18,
    "start_time": "2023-01-14T18:11:30.224Z"
   },
   {
    "duration": 1600,
    "start_time": "2023-01-16T10:53:42.461Z"
   },
   {
    "duration": 202,
    "start_time": "2023-01-16T10:53:44.063Z"
   },
   {
    "duration": 23,
    "start_time": "2023-01-16T10:53:44.266Z"
   },
   {
    "duration": 6,
    "start_time": "2023-01-16T10:53:44.292Z"
   },
   {
    "duration": 13,
    "start_time": "2023-01-16T10:53:44.299Z"
   },
   {
    "duration": 25,
    "start_time": "2023-01-16T10:53:44.314Z"
   },
   {
    "duration": 5,
    "start_time": "2023-01-16T10:53:44.340Z"
   },
   {
    "duration": 19,
    "start_time": "2023-01-16T10:53:44.347Z"
   },
   {
    "duration": 5,
    "start_time": "2023-01-16T10:53:44.367Z"
   },
   {
    "duration": 6,
    "start_time": "2023-01-16T10:53:44.374Z"
   },
   {
    "duration": 31,
    "start_time": "2023-01-16T10:53:44.382Z"
   },
   {
    "duration": 10,
    "start_time": "2023-01-16T10:53:44.415Z"
   },
   {
    "duration": 16,
    "start_time": "2023-01-16T10:53:44.427Z"
   },
   {
    "duration": 116,
    "start_time": "2023-01-16T10:53:44.444Z"
   },
   {
    "duration": 0,
    "start_time": "2023-01-16T10:53:44.561Z"
   },
   {
    "duration": 0,
    "start_time": "2023-01-16T10:53:44.563Z"
   },
   {
    "duration": 0,
    "start_time": "2023-01-16T10:53:44.564Z"
   },
   {
    "duration": 0,
    "start_time": "2023-01-16T10:53:44.565Z"
   },
   {
    "duration": 0,
    "start_time": "2023-01-16T10:53:44.566Z"
   },
   {
    "duration": 0,
    "start_time": "2023-01-16T10:53:44.567Z"
   },
   {
    "duration": 0,
    "start_time": "2023-01-16T10:53:44.568Z"
   },
   {
    "duration": 0,
    "start_time": "2023-01-16T10:53:44.569Z"
   },
   {
    "duration": 0,
    "start_time": "2023-01-16T10:53:44.570Z"
   },
   {
    "duration": 0,
    "start_time": "2023-01-16T10:53:44.571Z"
   },
   {
    "duration": 0,
    "start_time": "2023-01-16T10:53:44.572Z"
   },
   {
    "duration": 0,
    "start_time": "2023-01-16T10:53:44.573Z"
   },
   {
    "duration": 5,
    "start_time": "2023-01-16T10:54:25.561Z"
   },
   {
    "duration": 75,
    "start_time": "2023-01-16T10:54:25.568Z"
   },
   {
    "duration": 21,
    "start_time": "2023-01-16T10:54:25.645Z"
   },
   {
    "duration": 7,
    "start_time": "2023-01-16T10:54:25.668Z"
   },
   {
    "duration": 37,
    "start_time": "2023-01-16T10:54:25.679Z"
   },
   {
    "duration": 25,
    "start_time": "2023-01-16T10:54:25.718Z"
   },
   {
    "duration": 5,
    "start_time": "2023-01-16T10:54:25.746Z"
   },
   {
    "duration": 25,
    "start_time": "2023-01-16T10:54:25.752Z"
   },
   {
    "duration": 13,
    "start_time": "2023-01-16T10:54:25.779Z"
   },
   {
    "duration": 28,
    "start_time": "2023-01-16T10:54:25.794Z"
   },
   {
    "duration": 30,
    "start_time": "2023-01-16T10:54:25.824Z"
   },
   {
    "duration": 21,
    "start_time": "2023-01-16T10:54:25.857Z"
   },
   {
    "duration": 26,
    "start_time": "2023-01-16T10:54:25.880Z"
   },
   {
    "duration": 33,
    "start_time": "2023-01-16T10:54:25.909Z"
   },
   {
    "duration": 0,
    "start_time": "2023-01-16T10:54:25.944Z"
   },
   {
    "duration": 0,
    "start_time": "2023-01-16T10:54:25.946Z"
   },
   {
    "duration": 0,
    "start_time": "2023-01-16T10:54:25.947Z"
   },
   {
    "duration": 0,
    "start_time": "2023-01-16T10:54:25.948Z"
   },
   {
    "duration": 0,
    "start_time": "2023-01-16T10:54:25.949Z"
   },
   {
    "duration": 1,
    "start_time": "2023-01-16T10:54:25.949Z"
   },
   {
    "duration": 1,
    "start_time": "2023-01-16T10:54:25.950Z"
   },
   {
    "duration": 1,
    "start_time": "2023-01-16T10:54:25.951Z"
   },
   {
    "duration": 0,
    "start_time": "2023-01-16T10:54:25.953Z"
   },
   {
    "duration": 0,
    "start_time": "2023-01-16T10:54:25.954Z"
   },
   {
    "duration": 0,
    "start_time": "2023-01-16T10:54:25.955Z"
   },
   {
    "duration": 0,
    "start_time": "2023-01-16T10:54:25.957Z"
   },
   {
    "duration": 3,
    "start_time": "2023-01-16T10:54:58.158Z"
   },
   {
    "duration": 60,
    "start_time": "2023-01-16T10:54:58.163Z"
   },
   {
    "duration": 20,
    "start_time": "2023-01-16T10:54:58.224Z"
   },
   {
    "duration": 6,
    "start_time": "2023-01-16T10:54:58.245Z"
   },
   {
    "duration": 14,
    "start_time": "2023-01-16T10:54:58.253Z"
   },
   {
    "duration": 27,
    "start_time": "2023-01-16T10:54:58.269Z"
   },
   {
    "duration": 5,
    "start_time": "2023-01-16T10:54:58.313Z"
   },
   {
    "duration": 11,
    "start_time": "2023-01-16T10:54:58.320Z"
   },
   {
    "duration": 3,
    "start_time": "2023-01-16T10:54:58.333Z"
   },
   {
    "duration": 7,
    "start_time": "2023-01-16T10:54:58.338Z"
   },
   {
    "duration": 8,
    "start_time": "2023-01-16T10:54:58.347Z"
   },
   {
    "duration": 7,
    "start_time": "2023-01-16T10:54:58.356Z"
   },
   {
    "duration": 12,
    "start_time": "2023-01-16T10:54:58.365Z"
   },
   {
    "duration": 40,
    "start_time": "2023-01-16T10:54:58.379Z"
   },
   {
    "duration": 7,
    "start_time": "2023-01-16T10:54:58.421Z"
   },
   {
    "duration": 20,
    "start_time": "2023-01-16T10:54:58.429Z"
   },
   {
    "duration": 17,
    "start_time": "2023-01-16T10:54:58.451Z"
   },
   {
    "duration": 51,
    "start_time": "2023-01-16T10:54:58.470Z"
   },
   {
    "duration": 731,
    "start_time": "2023-01-16T10:54:58.522Z"
   },
   {
    "duration": 233,
    "start_time": "2023-01-16T10:54:59.313Z"
   },
   {
    "duration": 70,
    "start_time": "2023-01-16T10:54:59.547Z"
   },
   {
    "duration": 5,
    "start_time": "2023-01-16T10:54:59.619Z"
   },
   {
    "duration": 102,
    "start_time": "2023-01-16T10:54:59.714Z"
   },
   {
    "duration": 19,
    "start_time": "2023-01-16T10:54:59.817Z"
   },
   {
    "duration": 9,
    "start_time": "2023-01-16T10:54:59.837Z"
   },
   {
    "duration": 9,
    "start_time": "2023-01-16T10:54:59.847Z"
   },
   {
    "duration": 293,
    "start_time": "2023-01-16T11:28:42.855Z"
   },
   {
    "duration": 683,
    "start_time": "2023-01-16T11:28:55.781Z"
   },
   {
    "duration": 289,
    "start_time": "2023-01-16T11:31:21.713Z"
   },
   {
    "duration": 290,
    "start_time": "2023-01-16T11:31:33.535Z"
   },
   {
    "duration": 7022,
    "start_time": "2023-01-16T11:32:42.766Z"
   },
   {
    "duration": 7086,
    "start_time": "2023-01-16T11:33:10.744Z"
   },
   {
    "duration": 7140,
    "start_time": "2023-01-16T11:33:49.721Z"
   },
   {
    "duration": 7081,
    "start_time": "2023-01-16T11:34:29.235Z"
   },
   {
    "duration": 21060,
    "start_time": "2023-01-16T11:37:24.667Z"
   },
   {
    "duration": 21858,
    "start_time": "2023-01-16T11:38:06.292Z"
   },
   {
    "duration": 29102,
    "start_time": "2023-01-16T11:38:42.891Z"
   },
   {
    "duration": 4,
    "start_time": "2023-01-16T11:41:02.591Z"
   },
   {
    "duration": 72,
    "start_time": "2023-01-16T11:41:02.597Z"
   },
   {
    "duration": 20,
    "start_time": "2023-01-16T11:41:02.671Z"
   },
   {
    "duration": 5,
    "start_time": "2023-01-16T11:41:02.693Z"
   },
   {
    "duration": 17,
    "start_time": "2023-01-16T11:41:02.700Z"
   },
   {
    "duration": 29,
    "start_time": "2023-01-16T11:41:02.719Z"
   },
   {
    "duration": 6,
    "start_time": "2023-01-16T11:41:02.750Z"
   },
   {
    "duration": 13,
    "start_time": "2023-01-16T11:41:02.757Z"
   },
   {
    "duration": 4,
    "start_time": "2023-01-16T11:41:02.772Z"
   },
   {
    "duration": 6,
    "start_time": "2023-01-16T11:41:02.778Z"
   },
   {
    "duration": 7,
    "start_time": "2023-01-16T11:41:02.812Z"
   },
   {
    "duration": 8,
    "start_time": "2023-01-16T11:41:02.820Z"
   },
   {
    "duration": 15,
    "start_time": "2023-01-16T11:41:02.830Z"
   },
   {
    "duration": 10,
    "start_time": "2023-01-16T11:41:02.846Z"
   },
   {
    "duration": 11,
    "start_time": "2023-01-16T11:41:02.857Z"
   },
   {
    "duration": 23,
    "start_time": "2023-01-16T11:41:02.869Z"
   },
   {
    "duration": 16,
    "start_time": "2023-01-16T11:41:02.911Z"
   },
   {
    "duration": 19,
    "start_time": "2023-01-16T11:41:02.929Z"
   },
   {
    "duration": 299,
    "start_time": "2023-01-16T11:41:02.950Z"
   },
   {
    "duration": 28490,
    "start_time": "2023-01-16T11:41:03.251Z"
   },
   {
    "duration": 73,
    "start_time": "2023-01-16T11:41:31.742Z"
   },
   {
    "duration": 210,
    "start_time": "2023-01-16T11:41:31.816Z"
   },
   {
    "duration": 88,
    "start_time": "2023-01-16T11:41:32.028Z"
   },
   {
    "duration": 93,
    "start_time": "2023-01-16T11:41:32.120Z"
   },
   {
    "duration": 10,
    "start_time": "2023-01-16T11:41:32.215Z"
   },
   {
    "duration": 21,
    "start_time": "2023-01-16T11:41:32.227Z"
   },
   {
    "duration": 16,
    "start_time": "2023-01-16T11:41:32.250Z"
   },
   {
    "duration": 21,
    "start_time": "2023-01-16T11:41:32.267Z"
   },
   {
    "duration": 794,
    "start_time": "2023-01-16T11:55:50.232Z"
   },
   {
    "duration": 62,
    "start_time": "2023-01-16T12:06:58.114Z"
   },
   {
    "duration": 13,
    "start_time": "2023-01-16T12:07:02.744Z"
   },
   {
    "duration": 3,
    "start_time": "2023-01-16T12:07:10.144Z"
   },
   {
    "duration": 64,
    "start_time": "2023-01-16T12:07:10.149Z"
   },
   {
    "duration": 20,
    "start_time": "2023-01-16T12:07:10.215Z"
   },
   {
    "duration": 6,
    "start_time": "2023-01-16T12:07:10.237Z"
   },
   {
    "duration": 18,
    "start_time": "2023-01-16T12:07:10.245Z"
   },
   {
    "duration": 24,
    "start_time": "2023-01-16T12:07:10.265Z"
   },
   {
    "duration": 24,
    "start_time": "2023-01-16T12:07:10.291Z"
   },
   {
    "duration": 14,
    "start_time": "2023-01-16T12:07:10.317Z"
   },
   {
    "duration": 4,
    "start_time": "2023-01-16T12:07:10.334Z"
   },
   {
    "duration": 8,
    "start_time": "2023-01-16T12:07:10.340Z"
   },
   {
    "duration": 14,
    "start_time": "2023-01-16T12:07:10.350Z"
   },
   {
    "duration": 9,
    "start_time": "2023-01-16T12:07:10.366Z"
   },
   {
    "duration": 42,
    "start_time": "2023-01-16T12:07:10.377Z"
   },
   {
    "duration": 14,
    "start_time": "2023-01-16T12:07:10.422Z"
   },
   {
    "duration": 14,
    "start_time": "2023-01-16T12:07:10.438Z"
   },
   {
    "duration": 22,
    "start_time": "2023-01-16T12:07:10.454Z"
   },
   {
    "duration": 46,
    "start_time": "2023-01-16T12:07:10.477Z"
   },
   {
    "duration": 20,
    "start_time": "2023-01-16T12:07:10.524Z"
   },
   {
    "duration": 871,
    "start_time": "2023-01-16T12:07:10.546Z"
   },
   {
    "duration": 256,
    "start_time": "2023-01-16T12:07:11.418Z"
   },
   {
    "duration": 143,
    "start_time": "2023-01-16T12:07:11.676Z"
   },
   {
    "duration": 6,
    "start_time": "2023-01-16T12:07:11.821Z"
   },
   {
    "duration": 27,
    "start_time": "2023-01-16T12:07:11.912Z"
   },
   {
    "duration": 0,
    "start_time": "2023-01-16T12:07:11.942Z"
   },
   {
    "duration": 0,
    "start_time": "2023-01-16T12:07:11.943Z"
   },
   {
    "duration": 0,
    "start_time": "2023-01-16T12:07:11.945Z"
   },
   {
    "duration": 0,
    "start_time": "2023-01-16T12:07:11.946Z"
   },
   {
    "duration": 7,
    "start_time": "2023-01-16T12:07:22.394Z"
   },
   {
    "duration": 5,
    "start_time": "2023-01-16T12:07:35.298Z"
   },
   {
    "duration": 6,
    "start_time": "2023-01-16T12:07:38.196Z"
   },
   {
    "duration": 6,
    "start_time": "2023-01-16T12:08:31.152Z"
   },
   {
    "duration": 7,
    "start_time": "2023-01-16T12:09:16.309Z"
   },
   {
    "duration": 4,
    "start_time": "2023-01-16T12:10:26.616Z"
   },
   {
    "duration": 9,
    "start_time": "2023-01-16T12:10:27.572Z"
   },
   {
    "duration": 9,
    "start_time": "2023-01-16T12:10:28.761Z"
   },
   {
    "duration": 10,
    "start_time": "2023-01-16T12:10:29.929Z"
   },
   {
    "duration": 3,
    "start_time": "2023-01-16T14:41:28.407Z"
   },
   {
    "duration": 60,
    "start_time": "2023-01-16T14:41:28.412Z"
   },
   {
    "duration": 20,
    "start_time": "2023-01-16T14:41:28.473Z"
   },
   {
    "duration": 6,
    "start_time": "2023-01-16T14:41:28.495Z"
   },
   {
    "duration": 17,
    "start_time": "2023-01-16T14:41:28.502Z"
   },
   {
    "duration": 22,
    "start_time": "2023-01-16T14:41:28.521Z"
   },
   {
    "duration": 5,
    "start_time": "2023-01-16T14:41:28.544Z"
   },
   {
    "duration": 14,
    "start_time": "2023-01-16T14:41:28.550Z"
   },
   {
    "duration": 4,
    "start_time": "2023-01-16T14:41:28.565Z"
   },
   {
    "duration": 5,
    "start_time": "2023-01-16T14:41:28.571Z"
   },
   {
    "duration": 39,
    "start_time": "2023-01-16T14:41:28.578Z"
   },
   {
    "duration": 13,
    "start_time": "2023-01-16T14:41:28.618Z"
   },
   {
    "duration": 11,
    "start_time": "2023-01-16T14:41:28.632Z"
   },
   {
    "duration": 11,
    "start_time": "2023-01-16T14:41:28.644Z"
   },
   {
    "duration": 6,
    "start_time": "2023-01-16T14:41:28.657Z"
   },
   {
    "duration": 18,
    "start_time": "2023-01-16T14:41:28.665Z"
   },
   {
    "duration": 43,
    "start_time": "2023-01-16T14:41:28.684Z"
   },
   {
    "duration": 15,
    "start_time": "2023-01-16T14:41:28.729Z"
   },
   {
    "duration": 770,
    "start_time": "2023-01-16T14:41:28.746Z"
   },
   {
    "duration": 214,
    "start_time": "2023-01-16T14:41:29.517Z"
   },
   {
    "duration": 80,
    "start_time": "2023-01-16T14:41:29.734Z"
   },
   {
    "duration": 96,
    "start_time": "2023-01-16T14:41:29.820Z"
   },
   {
    "duration": 14,
    "start_time": "2023-01-16T14:41:29.918Z"
   },
   {
    "duration": 80,
    "start_time": "2023-01-16T14:41:29.934Z"
   },
   {
    "duration": 6,
    "start_time": "2023-01-16T14:41:30.016Z"
   },
   {
    "duration": 9,
    "start_time": "2023-01-16T14:41:30.024Z"
   },
   {
    "duration": 14,
    "start_time": "2023-01-16T14:41:30.035Z"
   },
   {
    "duration": 8,
    "start_time": "2023-01-16T14:41:30.052Z"
   },
   {
    "duration": 10,
    "start_time": "2023-01-16T14:41:30.062Z"
   },
   {
    "duration": 11,
    "start_time": "2023-01-16T14:43:27.142Z"
   },
   {
    "duration": 22,
    "start_time": "2023-01-16T14:43:47.505Z"
   },
   {
    "duration": 3,
    "start_time": "2023-01-16T14:44:11.492Z"
   },
   {
    "duration": 61,
    "start_time": "2023-01-16T14:44:11.497Z"
   },
   {
    "duration": 20,
    "start_time": "2023-01-16T14:44:11.560Z"
   },
   {
    "duration": 7,
    "start_time": "2023-01-16T14:44:11.582Z"
   },
   {
    "duration": 24,
    "start_time": "2023-01-16T14:44:11.592Z"
   },
   {
    "duration": 26,
    "start_time": "2023-01-16T14:44:11.618Z"
   },
   {
    "duration": 6,
    "start_time": "2023-01-16T14:44:11.647Z"
   },
   {
    "duration": 17,
    "start_time": "2023-01-16T14:44:11.655Z"
   },
   {
    "duration": 6,
    "start_time": "2023-01-16T14:44:11.674Z"
   },
   {
    "duration": 6,
    "start_time": "2023-01-16T14:44:11.713Z"
   },
   {
    "duration": 8,
    "start_time": "2023-01-16T14:44:11.721Z"
   },
   {
    "duration": 8,
    "start_time": "2023-01-16T14:44:11.731Z"
   },
   {
    "duration": 12,
    "start_time": "2023-01-16T14:44:11.741Z"
   },
   {
    "duration": 11,
    "start_time": "2023-01-16T14:44:11.757Z"
   },
   {
    "duration": 42,
    "start_time": "2023-01-16T14:44:11.770Z"
   },
   {
    "duration": 20,
    "start_time": "2023-01-16T14:44:11.815Z"
   },
   {
    "duration": 18,
    "start_time": "2023-01-16T14:44:11.837Z"
   },
   {
    "duration": 19,
    "start_time": "2023-01-16T14:44:11.856Z"
   },
   {
    "duration": 838,
    "start_time": "2023-01-16T14:44:11.877Z"
   },
   {
    "duration": 266,
    "start_time": "2023-01-16T14:44:12.716Z"
   },
   {
    "duration": 79,
    "start_time": "2023-01-16T14:44:12.984Z"
   },
   {
    "duration": 53,
    "start_time": "2023-01-16T14:44:13.064Z"
   },
   {
    "duration": 102,
    "start_time": "2023-01-16T14:44:13.120Z"
   },
   {
    "duration": 6,
    "start_time": "2023-01-16T14:44:13.223Z"
   },
   {
    "duration": 8,
    "start_time": "2023-01-16T14:44:13.231Z"
   },
   {
    "duration": 8,
    "start_time": "2023-01-16T14:44:13.241Z"
   },
   {
    "duration": 11,
    "start_time": "2023-01-16T14:44:13.251Z"
   },
   {
    "duration": 8,
    "start_time": "2023-01-16T14:44:13.264Z"
   },
   {
    "duration": 42,
    "start_time": "2023-01-16T14:44:13.273Z"
   },
   {
    "duration": 14,
    "start_time": "2023-01-16T14:44:13.316Z"
   },
   {
    "duration": 31,
    "start_time": "2023-01-16T14:50:15.846Z"
   },
   {
    "duration": 60,
    "start_time": "2023-01-16T14:52:24.105Z"
   },
   {
    "duration": 1367,
    "start_time": "2023-01-16T14:53:36.701Z"
   },
   {
    "duration": 1404,
    "start_time": "2023-01-16T14:54:02.628Z"
   },
   {
    "duration": 1607,
    "start_time": "2023-01-16T14:54:56.511Z"
   },
   {
    "duration": 12,
    "start_time": "2023-01-16T14:55:23.408Z"
   },
   {
    "duration": 1170,
    "start_time": "2023-01-16T14:55:25.845Z"
   },
   {
    "duration": 1198,
    "start_time": "2023-01-16T14:56:14.817Z"
   },
   {
    "duration": 897,
    "start_time": "2023-01-16T15:00:51.422Z"
   },
   {
    "duration": 851,
    "start_time": "2023-01-16T15:01:07.565Z"
   },
   {
    "duration": 9875,
    "start_time": "2023-01-16T15:09:07.243Z"
   },
   {
    "duration": 8878,
    "start_time": "2023-01-16T15:11:00.361Z"
   },
   {
    "duration": 9005,
    "start_time": "2023-01-16T15:11:27.728Z"
   },
   {
    "duration": 792,
    "start_time": "2023-01-16T15:14:08.722Z"
   },
   {
    "duration": 11,
    "start_time": "2023-01-16T15:29:12.839Z"
   },
   {
    "duration": 0,
    "start_time": "2023-01-16T15:29:12.853Z"
   },
   {
    "duration": 0,
    "start_time": "2023-01-16T15:29:12.853Z"
   },
   {
    "duration": 0,
    "start_time": "2023-01-16T15:29:12.855Z"
   },
   {
    "duration": 0,
    "start_time": "2023-01-16T15:29:12.856Z"
   },
   {
    "duration": 0,
    "start_time": "2023-01-16T15:29:12.857Z"
   },
   {
    "duration": 0,
    "start_time": "2023-01-16T15:29:12.858Z"
   },
   {
    "duration": 0,
    "start_time": "2023-01-16T15:29:12.859Z"
   },
   {
    "duration": 0,
    "start_time": "2023-01-16T15:29:12.860Z"
   },
   {
    "duration": 0,
    "start_time": "2023-01-16T15:29:12.861Z"
   },
   {
    "duration": 0,
    "start_time": "2023-01-16T15:29:12.862Z"
   },
   {
    "duration": 0,
    "start_time": "2023-01-16T15:29:12.864Z"
   },
   {
    "duration": 0,
    "start_time": "2023-01-16T15:29:12.865Z"
   },
   {
    "duration": 0,
    "start_time": "2023-01-16T15:29:12.866Z"
   },
   {
    "duration": 0,
    "start_time": "2023-01-16T15:29:12.867Z"
   },
   {
    "duration": 0,
    "start_time": "2023-01-16T15:29:12.868Z"
   },
   {
    "duration": 0,
    "start_time": "2023-01-16T15:29:12.868Z"
   },
   {
    "duration": 0,
    "start_time": "2023-01-16T15:29:12.869Z"
   },
   {
    "duration": 942,
    "start_time": "2023-01-16T15:29:12.873Z"
   },
   {
    "duration": 208,
    "start_time": "2023-01-16T15:29:13.817Z"
   },
   {
    "duration": 90,
    "start_time": "2023-01-16T15:29:14.026Z"
   },
   {
    "duration": 96,
    "start_time": "2023-01-16T15:29:14.118Z"
   },
   {
    "duration": 24,
    "start_time": "2023-01-16T15:29:14.216Z"
   },
   {
    "duration": 45,
    "start_time": "2023-01-16T15:29:14.242Z"
   },
   {
    "duration": 37,
    "start_time": "2023-01-16T15:29:14.288Z"
   },
   {
    "duration": 20,
    "start_time": "2023-01-16T15:29:14.327Z"
   },
   {
    "duration": 21,
    "start_time": "2023-01-16T15:29:14.349Z"
   },
   {
    "duration": 31,
    "start_time": "2023-01-16T15:29:14.371Z"
   },
   {
    "duration": 39,
    "start_time": "2023-01-16T15:29:14.404Z"
   },
   {
    "duration": 33,
    "start_time": "2023-01-16T15:29:14.445Z"
   },
   {
    "duration": 1142,
    "start_time": "2023-01-16T15:29:14.480Z"
   },
   {
    "duration": 815,
    "start_time": "2023-01-16T15:29:15.714Z"
   },
   {
    "duration": 10030,
    "start_time": "2023-01-16T15:29:16.531Z"
   },
   {
    "duration": 8885,
    "start_time": "2023-01-16T15:29:26.564Z"
   },
   {
    "duration": 814,
    "start_time": "2023-01-16T15:29:35.451Z"
   },
   {
    "duration": 49,
    "start_time": "2023-01-16T15:29:36.267Z"
   },
   {
    "duration": 57,
    "start_time": "2023-01-16T15:29:48.254Z"
   },
   {
    "duration": 58,
    "start_time": "2023-01-16T15:30:08.008Z"
   },
   {
    "duration": 56,
    "start_time": "2023-01-16T15:30:37.959Z"
   },
   {
    "duration": 21,
    "start_time": "2023-01-16T15:30:41.145Z"
   },
   {
    "duration": 0,
    "start_time": "2023-01-16T15:30:41.168Z"
   },
   {
    "duration": 0,
    "start_time": "2023-01-16T15:30:41.169Z"
   },
   {
    "duration": 0,
    "start_time": "2023-01-16T15:30:41.170Z"
   },
   {
    "duration": 0,
    "start_time": "2023-01-16T15:30:41.172Z"
   },
   {
    "duration": 0,
    "start_time": "2023-01-16T15:30:41.172Z"
   },
   {
    "duration": 0,
    "start_time": "2023-01-16T15:30:41.173Z"
   },
   {
    "duration": 0,
    "start_time": "2023-01-16T15:30:41.175Z"
   },
   {
    "duration": 0,
    "start_time": "2023-01-16T15:30:41.176Z"
   },
   {
    "duration": 0,
    "start_time": "2023-01-16T15:30:41.178Z"
   },
   {
    "duration": 0,
    "start_time": "2023-01-16T15:30:41.179Z"
   },
   {
    "duration": 0,
    "start_time": "2023-01-16T15:30:41.180Z"
   },
   {
    "duration": 0,
    "start_time": "2023-01-16T15:30:41.182Z"
   },
   {
    "duration": 0,
    "start_time": "2023-01-16T15:30:41.184Z"
   },
   {
    "duration": 0,
    "start_time": "2023-01-16T15:30:41.185Z"
   },
   {
    "duration": 0,
    "start_time": "2023-01-16T15:30:41.187Z"
   },
   {
    "duration": 0,
    "start_time": "2023-01-16T15:30:41.188Z"
   },
   {
    "duration": 0,
    "start_time": "2023-01-16T15:30:41.190Z"
   },
   {
    "duration": 0,
    "start_time": "2023-01-16T15:30:41.191Z"
   },
   {
    "duration": 0,
    "start_time": "2023-01-16T15:30:41.193Z"
   },
   {
    "duration": 194,
    "start_time": "2023-01-16T15:30:41.218Z"
   },
   {
    "duration": 98,
    "start_time": "2023-01-16T15:30:41.414Z"
   },
   {
    "duration": 8,
    "start_time": "2023-01-16T15:30:41.514Z"
   },
   {
    "duration": 7,
    "start_time": "2023-01-16T15:30:41.525Z"
   },
   {
    "duration": 7,
    "start_time": "2023-01-16T15:30:41.534Z"
   },
   {
    "duration": 3,
    "start_time": "2023-01-16T15:30:41.543Z"
   },
   {
    "duration": 12,
    "start_time": "2023-01-16T15:30:41.548Z"
   },
   {
    "duration": 11,
    "start_time": "2023-01-16T15:30:41.561Z"
   },
   {
    "duration": 10,
    "start_time": "2023-01-16T15:30:41.611Z"
   },
   {
    "duration": 12,
    "start_time": "2023-01-16T15:30:41.623Z"
   },
   {
    "duration": 1076,
    "start_time": "2023-01-16T15:30:41.637Z"
   },
   {
    "duration": 898,
    "start_time": "2023-01-16T15:30:42.715Z"
   },
   {
    "duration": 10042,
    "start_time": "2023-01-16T15:30:43.615Z"
   },
   {
    "duration": 8760,
    "start_time": "2023-01-16T15:30:53.659Z"
   },
   {
    "duration": 818,
    "start_time": "2023-01-16T15:31:02.421Z"
   },
   {
    "duration": 59,
    "start_time": "2023-01-16T15:31:03.240Z"
   },
   {
    "duration": 4,
    "start_time": "2023-01-16T15:31:19.922Z"
   },
   {
    "duration": 4,
    "start_time": "2023-01-16T15:31:23.512Z"
   },
   {
    "duration": 81,
    "start_time": "2023-01-16T15:31:23.519Z"
   },
   {
    "duration": 19,
    "start_time": "2023-01-16T15:31:23.602Z"
   },
   {
    "duration": 12,
    "start_time": "2023-01-16T15:31:23.623Z"
   },
   {
    "duration": 33,
    "start_time": "2023-01-16T15:31:23.637Z"
   },
   {
    "duration": 37,
    "start_time": "2023-01-16T15:31:23.672Z"
   },
   {
    "duration": 5,
    "start_time": "2023-01-16T15:31:23.711Z"
   },
   {
    "duration": 14,
    "start_time": "2023-01-16T15:31:23.718Z"
   },
   {
    "duration": 10,
    "start_time": "2023-01-16T15:31:23.734Z"
   },
   {
    "duration": 20,
    "start_time": "2023-01-16T15:31:23.746Z"
   },
   {
    "duration": 10,
    "start_time": "2023-01-16T15:31:23.768Z"
   },
   {
    "duration": 16,
    "start_time": "2023-01-16T15:31:23.780Z"
   },
   {
    "duration": 16,
    "start_time": "2023-01-16T15:31:23.798Z"
   },
   {
    "duration": 12,
    "start_time": "2023-01-16T15:31:23.817Z"
   },
   {
    "duration": 7,
    "start_time": "2023-01-16T15:31:23.831Z"
   },
   {
    "duration": 40,
    "start_time": "2023-01-16T15:31:23.840Z"
   },
   {
    "duration": 19,
    "start_time": "2023-01-16T15:31:23.882Z"
   },
   {
    "duration": 18,
    "start_time": "2023-01-16T15:31:23.911Z"
   },
   {
    "duration": 881,
    "start_time": "2023-01-16T15:31:23.931Z"
   },
   {
    "duration": 220,
    "start_time": "2023-01-16T15:31:24.814Z"
   },
   {
    "duration": 80,
    "start_time": "2023-01-16T15:31:25.036Z"
   },
   {
    "duration": 95,
    "start_time": "2023-01-16T15:31:25.119Z"
   },
   {
    "duration": 97,
    "start_time": "2023-01-16T15:31:25.216Z"
   },
   {
    "duration": 7,
    "start_time": "2023-01-16T15:31:25.315Z"
   },
   {
    "duration": 9,
    "start_time": "2023-01-16T15:31:25.324Z"
   },
   {
    "duration": 3,
    "start_time": "2023-01-16T15:31:25.335Z"
   },
   {
    "duration": 11,
    "start_time": "2023-01-16T15:31:25.339Z"
   },
   {
    "duration": 9,
    "start_time": "2023-01-16T15:31:25.352Z"
   },
   {
    "duration": 9,
    "start_time": "2023-01-16T15:31:25.363Z"
   },
   {
    "duration": 11,
    "start_time": "2023-01-16T15:31:25.413Z"
   },
   {
    "duration": 1091,
    "start_time": "2023-01-16T15:31:25.426Z"
   },
   {
    "duration": 997,
    "start_time": "2023-01-16T15:31:26.520Z"
   },
   {
    "duration": 9953,
    "start_time": "2023-01-16T15:31:27.519Z"
   },
   {
    "duration": 8849,
    "start_time": "2023-01-16T15:31:37.474Z"
   },
   {
    "duration": 848,
    "start_time": "2023-01-16T15:31:46.325Z"
   },
   {
    "duration": 188,
    "start_time": "2023-01-16T15:31:47.175Z"
   },
   {
    "duration": 9,
    "start_time": "2023-01-16T15:33:44.552Z"
   },
   {
    "duration": 5,
    "start_time": "2023-01-16T15:33:48.281Z"
   },
   {
    "duration": 64,
    "start_time": "2023-01-16T15:33:48.288Z"
   },
   {
    "duration": 19,
    "start_time": "2023-01-16T15:33:48.353Z"
   },
   {
    "duration": 7,
    "start_time": "2023-01-16T15:33:48.373Z"
   },
   {
    "duration": 8,
    "start_time": "2023-01-16T15:33:48.382Z"
   },
   {
    "duration": 23,
    "start_time": "2023-01-16T15:33:48.413Z"
   },
   {
    "duration": 5,
    "start_time": "2023-01-16T15:33:48.438Z"
   },
   {
    "duration": 13,
    "start_time": "2023-01-16T15:33:48.445Z"
   },
   {
    "duration": 4,
    "start_time": "2023-01-16T15:33:48.460Z"
   },
   {
    "duration": 9,
    "start_time": "2023-01-16T15:33:48.466Z"
   },
   {
    "duration": 8,
    "start_time": "2023-01-16T15:33:48.477Z"
   },
   {
    "duration": 30,
    "start_time": "2023-01-16T15:33:48.486Z"
   },
   {
    "duration": 11,
    "start_time": "2023-01-16T15:33:48.518Z"
   },
   {
    "duration": 11,
    "start_time": "2023-01-16T15:33:48.533Z"
   },
   {
    "duration": 7,
    "start_time": "2023-01-16T15:33:48.545Z"
   },
   {
    "duration": 19,
    "start_time": "2023-01-16T15:33:48.554Z"
   },
   {
    "duration": 50,
    "start_time": "2023-01-16T15:33:48.575Z"
   },
   {
    "duration": 17,
    "start_time": "2023-01-16T15:33:48.627Z"
   },
   {
    "duration": 790,
    "start_time": "2023-01-16T15:33:48.646Z"
   },
   {
    "duration": 279,
    "start_time": "2023-01-16T15:33:49.438Z"
   },
   {
    "duration": 107,
    "start_time": "2023-01-16T15:33:49.719Z"
   },
   {
    "duration": 5,
    "start_time": "2023-01-16T15:33:49.913Z"
   },
   {
    "duration": 5,
    "start_time": "2023-01-16T15:33:49.920Z"
   },
   {
    "duration": 5,
    "start_time": "2023-01-16T15:33:49.927Z"
   },
   {
    "duration": 6,
    "start_time": "2023-01-16T15:33:49.934Z"
   },
   {
    "duration": 4,
    "start_time": "2023-01-16T15:33:49.941Z"
   },
   {
    "duration": 14,
    "start_time": "2023-01-16T15:33:49.947Z"
   },
   {
    "duration": 9,
    "start_time": "2023-01-16T15:33:49.962Z"
   },
   {
    "duration": 10,
    "start_time": "2023-01-16T15:33:50.012Z"
   },
   {
    "duration": 12,
    "start_time": "2023-01-16T15:33:50.024Z"
   },
   {
    "duration": 1176,
    "start_time": "2023-01-16T15:33:50.038Z"
   },
   {
    "duration": 902,
    "start_time": "2023-01-16T15:33:51.215Z"
   },
   {
    "duration": 10305,
    "start_time": "2023-01-16T15:33:52.120Z"
   },
   {
    "duration": 8954,
    "start_time": "2023-01-16T15:34:02.427Z"
   },
   {
    "duration": 755,
    "start_time": "2023-01-16T15:34:11.382Z"
   },
   {
    "duration": 177,
    "start_time": "2023-01-16T15:34:12.139Z"
   },
   {
    "duration": 10,
    "start_time": "2023-01-16T15:34:12.318Z"
   },
   {
    "duration": 5,
    "start_time": "2023-01-16T15:34:19.544Z"
   },
   {
    "duration": 830,
    "start_time": "2023-01-16T15:36:04.705Z"
   },
   {
    "duration": 1523,
    "start_time": "2023-01-17T16:12:34.124Z"
   },
   {
    "duration": 103,
    "start_time": "2023-01-17T16:12:35.649Z"
   },
   {
    "duration": 20,
    "start_time": "2023-01-17T16:12:35.754Z"
   },
   {
    "duration": 13,
    "start_time": "2023-01-17T16:12:35.775Z"
   },
   {
    "duration": 22,
    "start_time": "2023-01-17T16:12:35.790Z"
   },
   {
    "duration": 49,
    "start_time": "2023-01-17T16:12:35.814Z"
   },
   {
    "duration": 13,
    "start_time": "2023-01-17T16:12:35.864Z"
   },
   {
    "duration": 38,
    "start_time": "2023-01-17T16:12:35.878Z"
   },
   {
    "duration": 77,
    "start_time": "2023-01-17T16:12:39.750Z"
   },
   {
    "duration": 3,
    "start_time": "2023-01-17T16:12:43.902Z"
   },
   {
    "duration": 72,
    "start_time": "2023-01-17T16:13:55.639Z"
   },
   {
    "duration": 7,
    "start_time": "2023-01-17T16:13:58.692Z"
   },
   {
    "duration": 3,
    "start_time": "2023-01-17T16:16:28.494Z"
   },
   {
    "duration": 87,
    "start_time": "2023-01-17T16:16:35.106Z"
   },
   {
    "duration": 7,
    "start_time": "2023-01-17T16:18:48.448Z"
   },
   {
    "duration": 8,
    "start_time": "2023-01-17T16:19:01.621Z"
   },
   {
    "duration": 9,
    "start_time": "2023-01-17T16:31:24.107Z"
   },
   {
    "duration": 69,
    "start_time": "2023-01-17T16:33:13.038Z"
   },
   {
    "duration": 4,
    "start_time": "2023-01-17T16:34:33.040Z"
   },
   {
    "duration": 4,
    "start_time": "2023-01-17T16:34:35.304Z"
   },
   {
    "duration": 6,
    "start_time": "2023-01-17T16:34:38.503Z"
   },
   {
    "duration": 4,
    "start_time": "2023-01-17T16:34:40.140Z"
   },
   {
    "duration": 4,
    "start_time": "2023-01-17T16:51:02.825Z"
   },
   {
    "duration": 58,
    "start_time": "2023-01-17T16:51:02.831Z"
   },
   {
    "duration": 18,
    "start_time": "2023-01-17T16:51:02.891Z"
   },
   {
    "duration": 6,
    "start_time": "2023-01-17T16:51:02.910Z"
   },
   {
    "duration": 11,
    "start_time": "2023-01-17T16:51:02.918Z"
   },
   {
    "duration": 21,
    "start_time": "2023-01-17T16:51:02.931Z"
   },
   {
    "duration": 8,
    "start_time": "2023-01-17T16:51:02.954Z"
   },
   {
    "duration": 17,
    "start_time": "2023-01-17T16:51:02.963Z"
   },
   {
    "duration": 24,
    "start_time": "2023-01-17T16:51:02.982Z"
   },
   {
    "duration": 8,
    "start_time": "2023-01-17T16:51:03.008Z"
   },
   {
    "duration": 8,
    "start_time": "2023-01-17T16:51:03.017Z"
   },
   {
    "duration": 8,
    "start_time": "2023-01-17T16:51:03.026Z"
   },
   {
    "duration": 14,
    "start_time": "2023-01-17T16:51:03.036Z"
   },
   {
    "duration": 17,
    "start_time": "2023-01-17T16:51:03.053Z"
   },
   {
    "duration": 19,
    "start_time": "2023-01-17T16:51:03.071Z"
   },
   {
    "duration": 29,
    "start_time": "2023-01-17T16:51:03.092Z"
   },
   {
    "duration": 18,
    "start_time": "2023-01-17T16:51:03.123Z"
   },
   {
    "duration": 17,
    "start_time": "2023-01-17T16:51:03.142Z"
   },
   {
    "duration": 761,
    "start_time": "2023-01-17T16:51:03.160Z"
   },
   {
    "duration": 302,
    "start_time": "2023-01-17T16:51:03.924Z"
   },
   {
    "duration": 77,
    "start_time": "2023-01-17T16:51:04.228Z"
   },
   {
    "duration": 95,
    "start_time": "2023-01-17T16:51:04.311Z"
   },
   {
    "duration": 100,
    "start_time": "2023-01-17T16:51:04.408Z"
   },
   {
    "duration": 8,
    "start_time": "2023-01-17T16:51:04.510Z"
   },
   {
    "duration": 7,
    "start_time": "2023-01-17T16:51:04.519Z"
   },
   {
    "duration": 5,
    "start_time": "2023-01-17T16:51:04.527Z"
   },
   {
    "duration": 10,
    "start_time": "2023-01-17T16:51:04.534Z"
   },
   {
    "duration": 9,
    "start_time": "2023-01-17T16:51:04.545Z"
   },
   {
    "duration": 9,
    "start_time": "2023-01-17T16:51:04.556Z"
   },
   {
    "duration": 12,
    "start_time": "2023-01-17T16:51:04.567Z"
   },
   {
    "duration": 1030,
    "start_time": "2023-01-17T16:51:04.581Z"
   },
   {
    "duration": 892,
    "start_time": "2023-01-17T16:51:05.614Z"
   },
   {
    "duration": 9612,
    "start_time": "2023-01-17T16:51:06.508Z"
   },
   {
    "duration": 8490,
    "start_time": "2023-01-17T16:51:16.122Z"
   },
   {
    "duration": 753,
    "start_time": "2023-01-17T16:51:24.614Z"
   },
   {
    "duration": 224,
    "start_time": "2023-01-17T16:51:25.369Z"
   },
   {
    "duration": 6,
    "start_time": "2023-01-17T16:51:25.594Z"
   },
   {
    "duration": 4,
    "start_time": "2023-01-17T17:06:43.060Z"
   },
   {
    "duration": 106,
    "start_time": "2023-01-17T17:06:43.066Z"
   },
   {
    "duration": 17,
    "start_time": "2023-01-17T17:06:43.174Z"
   },
   {
    "duration": 24,
    "start_time": "2023-01-17T17:06:43.193Z"
   },
   {
    "duration": 35,
    "start_time": "2023-01-17T17:06:43.219Z"
   },
   {
    "duration": 46,
    "start_time": "2023-01-17T17:06:43.256Z"
   },
   {
    "duration": 11,
    "start_time": "2023-01-17T17:06:43.304Z"
   },
   {
    "duration": 51,
    "start_time": "2023-01-17T17:06:43.317Z"
   },
   {
    "duration": 13,
    "start_time": "2023-01-17T17:06:43.371Z"
   },
   {
    "duration": 96,
    "start_time": "2023-01-17T17:06:43.385Z"
   },
   {
    "duration": 9,
    "start_time": "2023-01-17T17:06:43.483Z"
   },
   {
    "duration": 10,
    "start_time": "2023-01-17T17:06:43.494Z"
   },
   {
    "duration": 22,
    "start_time": "2023-01-17T17:06:43.505Z"
   },
   {
    "duration": 11,
    "start_time": "2023-01-17T17:06:43.529Z"
   },
   {
    "duration": 6,
    "start_time": "2023-01-17T17:06:43.542Z"
   },
   {
    "duration": 27,
    "start_time": "2023-01-17T17:06:43.549Z"
   },
   {
    "duration": 29,
    "start_time": "2023-01-17T17:06:43.578Z"
   },
   {
    "duration": 17,
    "start_time": "2023-01-17T17:06:43.608Z"
   },
   {
    "duration": 784,
    "start_time": "2023-01-17T17:06:43.627Z"
   },
   {
    "duration": 289,
    "start_time": "2023-01-17T17:06:44.416Z"
   },
   {
    "duration": 101,
    "start_time": "2023-01-17T17:06:44.706Z"
   },
   {
    "duration": 7,
    "start_time": "2023-01-17T17:06:44.810Z"
   },
   {
    "duration": 23,
    "start_time": "2023-01-17T17:06:44.904Z"
   },
   {
    "duration": 18,
    "start_time": "2023-01-17T17:06:44.930Z"
   },
   {
    "duration": 28,
    "start_time": "2023-01-17T17:06:44.950Z"
   },
   {
    "duration": 29,
    "start_time": "2023-01-17T17:06:44.980Z"
   },
   {
    "duration": 65,
    "start_time": "2023-01-17T17:06:45.010Z"
   },
   {
    "duration": 50,
    "start_time": "2023-01-17T17:06:45.077Z"
   },
   {
    "duration": 30,
    "start_time": "2023-01-17T17:06:45.129Z"
   },
   {
    "duration": 26,
    "start_time": "2023-01-17T17:06:45.161Z"
   },
   {
    "duration": 1217,
    "start_time": "2023-01-17T17:06:45.189Z"
   },
   {
    "duration": 906,
    "start_time": "2023-01-17T17:06:46.409Z"
   },
   {
    "duration": 140,
    "start_time": "2023-01-17T17:06:47.317Z"
   },
   {
    "duration": 9871,
    "start_time": "2023-01-17T17:06:55.628Z"
   },
   {
    "duration": 795,
    "start_time": "2023-01-17T17:13:12.977Z"
   },
   {
    "duration": 71,
    "start_time": "2023-01-17T17:21:17.331Z"
   },
   {
    "duration": 113,
    "start_time": "2023-01-17T17:21:21.646Z"
   },
   {
    "duration": 8,
    "start_time": "2023-01-17T17:23:44.194Z"
   },
   {
    "duration": 3,
    "start_time": "2023-01-17T17:24:51.526Z"
   },
   {
    "duration": 67,
    "start_time": "2023-01-17T17:24:51.531Z"
   },
   {
    "duration": 20,
    "start_time": "2023-01-17T17:24:51.600Z"
   },
   {
    "duration": 6,
    "start_time": "2023-01-17T17:24:51.622Z"
   },
   {
    "duration": 21,
    "start_time": "2023-01-17T17:24:51.630Z"
   },
   {
    "duration": 23,
    "start_time": "2023-01-17T17:24:51.652Z"
   },
   {
    "duration": 5,
    "start_time": "2023-01-17T17:24:51.676Z"
   },
   {
    "duration": 29,
    "start_time": "2023-01-17T17:24:51.682Z"
   },
   {
    "duration": 3,
    "start_time": "2023-01-17T17:24:51.712Z"
   },
   {
    "duration": 30,
    "start_time": "2023-01-17T17:24:51.716Z"
   },
   {
    "duration": 35,
    "start_time": "2023-01-17T17:24:51.749Z"
   },
   {
    "duration": 9,
    "start_time": "2023-01-17T17:24:51.785Z"
   },
   {
    "duration": 13,
    "start_time": "2023-01-17T17:24:51.795Z"
   },
   {
    "duration": 11,
    "start_time": "2023-01-17T17:24:51.810Z"
   },
   {
    "duration": 6,
    "start_time": "2023-01-17T17:24:51.822Z"
   },
   {
    "duration": 48,
    "start_time": "2023-01-17T17:24:51.829Z"
   },
   {
    "duration": 19,
    "start_time": "2023-01-17T17:24:51.879Z"
   },
   {
    "duration": 16,
    "start_time": "2023-01-17T17:24:51.899Z"
   },
   {
    "duration": 789,
    "start_time": "2023-01-17T17:24:51.917Z"
   },
   {
    "duration": 299,
    "start_time": "2023-01-17T17:24:52.708Z"
   },
   {
    "duration": 98,
    "start_time": "2023-01-17T17:24:53.009Z"
   },
   {
    "duration": 97,
    "start_time": "2023-01-17T17:24:53.109Z"
   },
   {
    "duration": 23,
    "start_time": "2023-01-17T17:24:53.208Z"
   },
   {
    "duration": 72,
    "start_time": "2023-01-17T17:24:53.233Z"
   },
   {
    "duration": 5,
    "start_time": "2023-01-17T17:24:53.307Z"
   },
   {
    "duration": 6,
    "start_time": "2023-01-17T17:24:53.313Z"
   },
   {
    "duration": 10,
    "start_time": "2023-01-17T17:24:53.320Z"
   },
   {
    "duration": 13,
    "start_time": "2023-01-17T17:24:53.332Z"
   },
   {
    "duration": 7,
    "start_time": "2023-01-17T17:24:53.348Z"
   },
   {
    "duration": 10,
    "start_time": "2023-01-17T17:24:53.356Z"
   },
   {
    "duration": 1136,
    "start_time": "2023-01-17T17:24:53.368Z"
   },
   {
    "duration": 904,
    "start_time": "2023-01-17T17:24:54.506Z"
   },
   {
    "duration": 9753,
    "start_time": "2023-01-17T17:24:55.413Z"
   },
   {
    "duration": 8500,
    "start_time": "2023-01-17T17:25:05.168Z"
   },
   {
    "duration": 819,
    "start_time": "2023-01-17T17:25:13.670Z"
   },
   {
    "duration": 13,
    "start_time": "2023-01-17T17:25:14.491Z"
   },
   {
    "duration": 163,
    "start_time": "2023-01-17T17:25:14.506Z"
   },
   {
    "duration": 7,
    "start_time": "2023-01-17T17:25:14.670Z"
   },
   {
    "duration": 764,
    "start_time": "2023-01-17T17:26:18.616Z"
   },
   {
    "duration": 8,
    "start_time": "2023-01-17T17:26:24.580Z"
   },
   {
    "duration": 9,
    "start_time": "2023-01-17T17:27:15.715Z"
   },
   {
    "duration": 829,
    "start_time": "2023-01-17T17:27:41.754Z"
   },
   {
    "duration": 9,
    "start_time": "2023-01-17T17:27:43.628Z"
   },
   {
    "duration": 1785,
    "start_time": "2023-01-23T10:17:13.043Z"
   },
   {
    "duration": 202,
    "start_time": "2023-01-23T10:17:14.830Z"
   },
   {
    "duration": 24,
    "start_time": "2023-01-23T10:17:15.033Z"
   },
   {
    "duration": 7,
    "start_time": "2023-01-23T10:17:15.059Z"
   },
   {
    "duration": 38,
    "start_time": "2023-01-23T10:17:15.067Z"
   },
   {
    "duration": 29,
    "start_time": "2023-01-23T10:17:15.106Z"
   },
   {
    "duration": 12,
    "start_time": "2023-01-23T10:17:15.136Z"
   },
   {
    "duration": 39,
    "start_time": "2023-01-23T10:17:15.150Z"
   },
   {
    "duration": 7,
    "start_time": "2023-01-23T10:17:15.191Z"
   },
   {
    "duration": 51,
    "start_time": "2023-01-23T10:17:15.201Z"
   },
   {
    "duration": 13,
    "start_time": "2023-01-23T10:17:15.254Z"
   },
   {
    "duration": 26,
    "start_time": "2023-01-23T10:17:15.269Z"
   },
   {
    "duration": 23,
    "start_time": "2023-01-23T10:17:15.297Z"
   },
   {
    "duration": 38,
    "start_time": "2023-01-23T10:17:15.322Z"
   },
   {
    "duration": 18,
    "start_time": "2023-01-23T10:17:15.361Z"
   },
   {
    "duration": 47,
    "start_time": "2023-01-23T10:17:15.381Z"
   },
   {
    "duration": 32,
    "start_time": "2023-01-23T10:17:15.430Z"
   },
   {
    "duration": 23,
    "start_time": "2023-01-23T10:17:15.464Z"
   },
   {
    "duration": 868,
    "start_time": "2023-01-23T10:17:15.489Z"
   },
   {
    "duration": 300,
    "start_time": "2023-01-23T10:17:16.359Z"
   },
   {
    "duration": 80,
    "start_time": "2023-01-23T10:17:16.661Z"
   },
   {
    "duration": 5,
    "start_time": "2023-01-23T10:17:16.743Z"
   },
   {
    "duration": 92,
    "start_time": "2023-01-23T10:17:16.751Z"
   },
   {
    "duration": 27,
    "start_time": "2023-01-23T10:17:16.845Z"
   },
   {
    "duration": 5,
    "start_time": "2023-01-23T10:17:16.874Z"
   },
   {
    "duration": 9,
    "start_time": "2023-01-23T10:17:16.881Z"
   },
   {
    "duration": 55,
    "start_time": "2023-01-23T10:17:16.891Z"
   },
   {
    "duration": 10,
    "start_time": "2023-01-23T10:17:16.950Z"
   },
   {
    "duration": 9,
    "start_time": "2023-01-23T10:17:16.961Z"
   },
   {
    "duration": 13,
    "start_time": "2023-01-23T10:17:16.972Z"
   },
   {
    "duration": 1168,
    "start_time": "2023-01-23T10:17:16.986Z"
   },
   {
    "duration": 992,
    "start_time": "2023-01-23T10:17:18.156Z"
   },
   {
    "duration": 10692,
    "start_time": "2023-01-23T10:17:19.158Z"
   },
   {
    "duration": 9804,
    "start_time": "2023-01-23T10:17:29.852Z"
   },
   {
    "duration": 896,
    "start_time": "2023-01-23T10:17:39.658Z"
   },
   {
    "duration": 10,
    "start_time": "2023-01-23T10:17:40.556Z"
   },
   {
    "duration": 207,
    "start_time": "2023-01-23T10:17:40.567Z"
   },
   {
    "duration": 8,
    "start_time": "2023-01-23T10:17:40.776Z"
   },
   {
    "duration": 183,
    "start_time": "2023-01-23T10:53:50.632Z"
   },
   {
    "duration": 9497,
    "start_time": "2023-01-23T10:54:12.552Z"
   },
   {
    "duration": 54,
    "start_time": "2023-01-23T10:55:11.548Z"
   },
   {
    "duration": 1549,
    "start_time": "2023-01-23T10:56:54.379Z"
   },
   {
    "duration": 67,
    "start_time": "2023-01-23T10:56:55.930Z"
   },
   {
    "duration": 20,
    "start_time": "2023-01-23T10:56:55.998Z"
   },
   {
    "duration": 8,
    "start_time": "2023-01-23T10:56:56.020Z"
   },
   {
    "duration": 17,
    "start_time": "2023-01-23T10:56:56.030Z"
   },
   {
    "duration": 26,
    "start_time": "2023-01-23T10:56:56.049Z"
   },
   {
    "duration": 5,
    "start_time": "2023-01-23T10:56:56.077Z"
   },
   {
    "duration": 15,
    "start_time": "2023-01-23T10:56:56.083Z"
   },
   {
    "duration": 3,
    "start_time": "2023-01-23T10:56:56.099Z"
   },
   {
    "duration": 12,
    "start_time": "2023-01-23T10:56:56.105Z"
   },
   {
    "duration": 30,
    "start_time": "2023-01-23T10:56:56.118Z"
   },
   {
    "duration": 15,
    "start_time": "2023-01-23T10:56:56.150Z"
   },
   {
    "duration": 17,
    "start_time": "2023-01-23T10:56:56.167Z"
   },
   {
    "duration": 14,
    "start_time": "2023-01-23T10:56:56.186Z"
   },
   {
    "duration": 6,
    "start_time": "2023-01-23T10:56:56.202Z"
   },
   {
    "duration": 21,
    "start_time": "2023-01-23T10:56:56.210Z"
   },
   {
    "duration": 18,
    "start_time": "2023-01-23T10:56:56.247Z"
   },
   {
    "duration": 17,
    "start_time": "2023-01-23T10:56:56.267Z"
   },
   {
    "duration": 861,
    "start_time": "2023-01-23T10:56:56.286Z"
   },
   {
    "duration": 248,
    "start_time": "2023-01-23T10:56:57.149Z"
   },
   {
    "duration": 77,
    "start_time": "2023-01-23T10:56:57.399Z"
   },
   {
    "duration": 7,
    "start_time": "2023-01-23T10:56:57.549Z"
   },
   {
    "duration": 103,
    "start_time": "2023-01-23T10:56:57.559Z"
   },
   {
    "duration": 10,
    "start_time": "2023-01-23T10:56:57.664Z"
   },
   {
    "duration": 10,
    "start_time": "2023-01-23T10:56:57.676Z"
   },
   {
    "duration": 6,
    "start_time": "2023-01-23T10:56:57.687Z"
   },
   {
    "duration": 15,
    "start_time": "2023-01-23T10:56:57.694Z"
   },
   {
    "duration": 9,
    "start_time": "2023-01-23T10:56:57.713Z"
   },
   {
    "duration": 9,
    "start_time": "2023-01-23T10:56:57.724Z"
   },
   {
    "duration": 13,
    "start_time": "2023-01-23T10:56:57.747Z"
   },
   {
    "duration": 1289,
    "start_time": "2023-01-23T10:56:57.761Z"
   },
   {
    "duration": 999,
    "start_time": "2023-01-23T10:56:59.055Z"
   },
   {
    "duration": 166,
    "start_time": "2023-01-23T10:57:00.057Z"
   },
   {
    "duration": 0,
    "start_time": "2023-01-23T10:57:00.224Z"
   },
   {
    "duration": 1,
    "start_time": "2023-01-23T10:57:00.225Z"
   },
   {
    "duration": 0,
    "start_time": "2023-01-23T10:57:00.226Z"
   },
   {
    "duration": 0,
    "start_time": "2023-01-23T10:57:00.246Z"
   },
   {
    "duration": 0,
    "start_time": "2023-01-23T10:57:00.248Z"
   },
   {
    "duration": 0,
    "start_time": "2023-01-23T10:57:00.249Z"
   },
   {
    "duration": 879,
    "start_time": "2023-01-23T10:57:27.148Z"
   },
   {
    "duration": 1115,
    "start_time": "2023-01-23T10:57:59.033Z"
   },
   {
    "duration": 4,
    "start_time": "2023-01-23T10:58:16.967Z"
   },
   {
    "duration": 67,
    "start_time": "2023-01-23T10:58:16.973Z"
   },
   {
    "duration": 26,
    "start_time": "2023-01-23T10:58:17.042Z"
   },
   {
    "duration": 6,
    "start_time": "2023-01-23T10:58:17.070Z"
   },
   {
    "duration": 13,
    "start_time": "2023-01-23T10:58:17.078Z"
   },
   {
    "duration": 59,
    "start_time": "2023-01-23T10:58:17.093Z"
   },
   {
    "duration": 6,
    "start_time": "2023-01-23T10:58:17.154Z"
   },
   {
    "duration": 16,
    "start_time": "2023-01-23T10:58:17.162Z"
   },
   {
    "duration": 4,
    "start_time": "2023-01-23T10:58:17.181Z"
   },
   {
    "duration": 8,
    "start_time": "2023-01-23T10:58:17.187Z"
   },
   {
    "duration": 8,
    "start_time": "2023-01-23T10:58:17.197Z"
   },
   {
    "duration": 7,
    "start_time": "2023-01-23T10:58:17.239Z"
   },
   {
    "duration": 21,
    "start_time": "2023-01-23T10:58:17.248Z"
   },
   {
    "duration": 14,
    "start_time": "2023-01-23T10:58:17.270Z"
   },
   {
    "duration": 8,
    "start_time": "2023-01-23T10:58:17.285Z"
   },
   {
    "duration": 31,
    "start_time": "2023-01-23T10:58:17.295Z"
   },
   {
    "duration": 24,
    "start_time": "2023-01-23T10:58:17.339Z"
   },
   {
    "duration": 19,
    "start_time": "2023-01-23T10:58:17.365Z"
   },
   {
    "duration": 813,
    "start_time": "2023-01-23T10:58:17.385Z"
   },
   {
    "duration": 206,
    "start_time": "2023-01-23T10:58:18.241Z"
   },
   {
    "duration": 97,
    "start_time": "2023-01-23T10:58:18.449Z"
   },
   {
    "duration": 5,
    "start_time": "2023-01-23T10:58:18.549Z"
   },
   {
    "duration": 85,
    "start_time": "2023-01-23T10:58:18.557Z"
   },
   {
    "duration": 35,
    "start_time": "2023-01-23T10:58:18.647Z"
   },
   {
    "duration": 16,
    "start_time": "2023-01-23T10:58:18.684Z"
   },
   {
    "duration": 24,
    "start_time": "2023-01-23T10:58:18.702Z"
   },
   {
    "duration": 24,
    "start_time": "2023-01-23T10:58:18.728Z"
   },
   {
    "duration": 27,
    "start_time": "2023-01-23T10:58:18.754Z"
   },
   {
    "duration": 29,
    "start_time": "2023-01-23T10:58:18.782Z"
   },
   {
    "duration": 56,
    "start_time": "2023-01-23T10:58:18.813Z"
   },
   {
    "duration": 1177,
    "start_time": "2023-01-23T10:58:18.870Z"
   },
   {
    "duration": 924,
    "start_time": "2023-01-23T10:58:20.049Z"
   },
   {
    "duration": 1124,
    "start_time": "2023-01-23T10:58:21.043Z"
   },
   {
    "duration": 10640,
    "start_time": "2023-01-23T10:58:22.169Z"
   },
   {
    "duration": 9204,
    "start_time": "2023-01-23T10:58:32.811Z"
   },
   {
    "duration": 811,
    "start_time": "2023-01-23T10:58:42.017Z"
   },
   {
    "duration": 12,
    "start_time": "2023-01-23T10:58:42.830Z"
   },
   {
    "duration": 193,
    "start_time": "2023-01-23T10:58:42.843Z"
   },
   {
    "duration": 7,
    "start_time": "2023-01-23T10:58:43.038Z"
   },
   {
    "duration": 192,
    "start_time": "2023-01-23T10:59:01.333Z"
   },
   {
    "duration": 13,
    "start_time": "2023-01-23T12:11:40.507Z"
   },
   {
    "duration": 19,
    "start_time": "2023-01-23T12:12:37.930Z"
   },
   {
    "duration": 13,
    "start_time": "2023-01-23T12:13:03.661Z"
   },
   {
    "duration": 5,
    "start_time": "2023-01-23T12:22:19.879Z"
   },
   {
    "duration": 69,
    "start_time": "2023-01-23T12:22:19.885Z"
   },
   {
    "duration": 20,
    "start_time": "2023-01-23T12:22:19.955Z"
   },
   {
    "duration": 6,
    "start_time": "2023-01-23T12:22:19.977Z"
   },
   {
    "duration": 18,
    "start_time": "2023-01-23T12:22:19.985Z"
   },
   {
    "duration": 40,
    "start_time": "2023-01-23T12:22:20.004Z"
   },
   {
    "duration": 7,
    "start_time": "2023-01-23T12:22:20.046Z"
   },
   {
    "duration": 33,
    "start_time": "2023-01-23T12:22:20.055Z"
   },
   {
    "duration": 4,
    "start_time": "2023-01-23T12:22:20.091Z"
   },
   {
    "duration": 14,
    "start_time": "2023-01-23T12:22:20.097Z"
   },
   {
    "duration": 9,
    "start_time": "2023-01-23T12:22:20.113Z"
   },
   {
    "duration": 21,
    "start_time": "2023-01-23T12:22:20.124Z"
   },
   {
    "duration": 17,
    "start_time": "2023-01-23T12:22:20.147Z"
   },
   {
    "duration": 16,
    "start_time": "2023-01-23T12:22:20.167Z"
   },
   {
    "duration": 8,
    "start_time": "2023-01-23T12:22:20.185Z"
   },
   {
    "duration": 52,
    "start_time": "2023-01-23T12:22:20.195Z"
   },
   {
    "duration": 19,
    "start_time": "2023-01-23T12:22:20.253Z"
   },
   {
    "duration": 19,
    "start_time": "2023-01-23T12:22:20.273Z"
   },
   {
    "duration": 830,
    "start_time": "2023-01-23T12:22:22.114Z"
   },
   {
    "duration": 88,
    "start_time": "2023-01-23T12:23:37.660Z"
   },
   {
    "duration": 112,
    "start_time": "2023-01-23T13:14:22.960Z"
   },
   {
    "duration": 128,
    "start_time": "2023-01-23T13:15:35.722Z"
   },
   {
    "duration": 12,
    "start_time": "2023-01-23T13:15:53.987Z"
   },
   {
    "duration": 1287,
    "start_time": "2023-01-23T13:15:57.755Z"
   },
   {
    "duration": 897,
    "start_time": "2023-01-23T13:16:01.553Z"
   },
   {
    "duration": 9439,
    "start_time": "2023-01-23T13:20:37.084Z"
   },
   {
    "duration": 9676,
    "start_time": "2023-01-23T13:21:07.574Z"
   },
   {
    "duration": 1036,
    "start_time": "2023-01-23T13:21:54.594Z"
   },
   {
    "duration": 1524,
    "start_time": "2023-01-23T13:22:04.998Z"
   },
   {
    "duration": 70,
    "start_time": "2023-01-23T13:22:06.524Z"
   },
   {
    "duration": 20,
    "start_time": "2023-01-23T13:22:06.596Z"
   },
   {
    "duration": 6,
    "start_time": "2023-01-23T13:22:06.618Z"
   },
   {
    "duration": 21,
    "start_time": "2023-01-23T13:22:06.626Z"
   },
   {
    "duration": 32,
    "start_time": "2023-01-23T13:22:06.649Z"
   },
   {
    "duration": 4,
    "start_time": "2023-01-23T13:22:06.683Z"
   },
   {
    "duration": 21,
    "start_time": "2023-01-23T13:22:06.688Z"
   },
   {
    "duration": 4,
    "start_time": "2023-01-23T13:22:06.711Z"
   },
   {
    "duration": 29,
    "start_time": "2023-01-23T13:22:06.718Z"
   },
   {
    "duration": 8,
    "start_time": "2023-01-23T13:22:06.751Z"
   },
   {
    "duration": 13,
    "start_time": "2023-01-23T13:22:06.761Z"
   },
   {
    "duration": 34,
    "start_time": "2023-01-23T13:22:06.776Z"
   },
   {
    "duration": 35,
    "start_time": "2023-01-23T13:22:06.812Z"
   },
   {
    "duration": 8,
    "start_time": "2023-01-23T13:22:06.849Z"
   },
   {
    "duration": 39,
    "start_time": "2023-01-23T13:22:06.859Z"
   },
   {
    "duration": 24,
    "start_time": "2023-01-23T13:22:06.900Z"
   },
   {
    "duration": 26,
    "start_time": "2023-01-23T13:22:06.926Z"
   },
   {
    "duration": 804,
    "start_time": "2023-01-23T13:22:06.954Z"
   },
   {
    "duration": 228,
    "start_time": "2023-01-23T13:22:07.836Z"
   },
   {
    "duration": 175,
    "start_time": "2023-01-23T13:22:08.065Z"
   },
   {
    "duration": 12,
    "start_time": "2023-01-23T13:22:08.243Z"
   },
   {
    "duration": 92,
    "start_time": "2023-01-23T13:22:08.258Z"
   },
   {
    "duration": 66,
    "start_time": "2023-01-23T13:22:08.352Z"
   },
   {
    "duration": 34,
    "start_time": "2023-01-23T13:22:08.420Z"
   },
   {
    "duration": 32,
    "start_time": "2023-01-23T13:22:08.457Z"
   },
   {
    "duration": 40,
    "start_time": "2023-01-23T13:22:08.492Z"
   },
   {
    "duration": 41,
    "start_time": "2023-01-23T13:22:08.536Z"
   },
   {
    "duration": 23,
    "start_time": "2023-01-23T13:22:08.580Z"
   },
   {
    "duration": 42,
    "start_time": "2023-01-23T13:22:08.605Z"
   },
   {
    "duration": 1192,
    "start_time": "2023-01-23T13:22:08.649Z"
   },
   {
    "duration": 920,
    "start_time": "2023-01-23T13:22:09.843Z"
   },
   {
    "duration": 209,
    "start_time": "2023-01-23T13:22:10.838Z"
   },
   {
    "duration": 1101,
    "start_time": "2023-01-23T13:22:11.049Z"
   },
   {
    "duration": 10664,
    "start_time": "2023-01-23T13:22:12.152Z"
   },
   {
    "duration": 9793,
    "start_time": "2023-01-23T13:22:22.818Z"
   },
   {
    "duration": 874,
    "start_time": "2023-01-23T13:22:32.614Z"
   },
   {
    "duration": 11,
    "start_time": "2023-01-23T13:22:33.490Z"
   },
   {
    "duration": 294,
    "start_time": "2023-01-23T13:22:33.503Z"
   },
   {
    "duration": 7,
    "start_time": "2023-01-23T13:22:33.799Z"
   },
   {
    "duration": 9403,
    "start_time": "2023-01-23T13:25:51.868Z"
   },
   {
    "duration": 1476,
    "start_time": "2023-01-24T09:33:55.248Z"
   },
   {
    "duration": 96,
    "start_time": "2023-01-24T09:33:56.726Z"
   },
   {
    "duration": 18,
    "start_time": "2023-01-24T09:33:56.823Z"
   },
   {
    "duration": 5,
    "start_time": "2023-01-24T09:33:56.843Z"
   },
   {
    "duration": 9,
    "start_time": "2023-01-24T09:33:56.850Z"
   },
   {
    "duration": 34,
    "start_time": "2023-01-24T09:33:56.860Z"
   },
   {
    "duration": 4,
    "start_time": "2023-01-24T09:33:56.896Z"
   },
   {
    "duration": 15,
    "start_time": "2023-01-24T09:33:56.901Z"
   },
   {
    "duration": 4,
    "start_time": "2023-01-24T09:33:56.917Z"
   },
   {
    "duration": 6,
    "start_time": "2023-01-24T09:33:56.923Z"
   },
   {
    "duration": 9,
    "start_time": "2023-01-24T09:33:56.931Z"
   },
   {
    "duration": 8,
    "start_time": "2023-01-24T09:33:56.941Z"
   },
   {
    "duration": 11,
    "start_time": "2023-01-24T09:33:56.951Z"
   },
   {
    "duration": 37,
    "start_time": "2023-01-24T09:33:56.964Z"
   },
   {
    "duration": 6,
    "start_time": "2023-01-24T09:33:57.002Z"
   },
   {
    "duration": 20,
    "start_time": "2023-01-24T09:33:57.009Z"
   },
   {
    "duration": 14,
    "start_time": "2023-01-24T09:33:57.031Z"
   },
   {
    "duration": 14,
    "start_time": "2023-01-24T09:33:57.047Z"
   },
   {
    "duration": 732,
    "start_time": "2023-01-24T09:33:57.062Z"
   },
   {
    "duration": 283,
    "start_time": "2023-01-24T09:33:57.796Z"
   },
   {
    "duration": 115,
    "start_time": "2023-01-24T09:33:58.080Z"
   },
   {
    "duration": 98,
    "start_time": "2023-01-24T09:33:58.197Z"
   },
   {
    "duration": 12,
    "start_time": "2023-01-24T09:33:58.297Z"
   },
   {
    "duration": 7,
    "start_time": "2023-01-24T09:33:58.310Z"
   },
   {
    "duration": 7,
    "start_time": "2023-01-24T09:33:58.319Z"
   },
   {
    "duration": 5,
    "start_time": "2023-01-24T09:33:58.327Z"
   },
   {
    "duration": 10,
    "start_time": "2023-01-24T09:33:58.334Z"
   },
   {
    "duration": 7,
    "start_time": "2023-01-24T09:33:58.347Z"
   },
   {
    "duration": 38,
    "start_time": "2023-01-24T09:33:58.356Z"
   },
   {
    "duration": 11,
    "start_time": "2023-01-24T09:33:58.395Z"
   },
   {
    "duration": 994,
    "start_time": "2023-01-24T09:33:58.407Z"
   },
   {
    "duration": 891,
    "start_time": "2023-01-24T09:33:59.403Z"
   },
   {
    "duration": 182,
    "start_time": "2023-01-24T09:34:00.297Z"
   },
   {
    "duration": 8992,
    "start_time": "2023-01-24T09:34:00.494Z"
   },
   {
    "duration": 8096,
    "start_time": "2023-01-24T09:34:09.487Z"
   },
   {
    "duration": 901,
    "start_time": "2023-01-24T09:34:17.585Z"
   },
   {
    "duration": 749,
    "start_time": "2023-01-24T09:34:18.487Z"
   },
   {
    "duration": 9,
    "start_time": "2023-01-24T09:34:19.238Z"
   },
   {
    "duration": 241,
    "start_time": "2023-01-24T09:34:19.249Z"
   },
   {
    "duration": 5,
    "start_time": "2023-01-24T09:34:19.493Z"
   },
   {
    "duration": 1387,
    "start_time": "2023-01-24T09:35:15.183Z"
   },
   {
    "duration": 61,
    "start_time": "2023-01-24T09:35:16.572Z"
   },
   {
    "duration": 19,
    "start_time": "2023-01-24T09:35:16.635Z"
   },
   {
    "duration": 6,
    "start_time": "2023-01-24T09:35:16.655Z"
   },
   {
    "duration": 19,
    "start_time": "2023-01-24T09:35:16.663Z"
   },
   {
    "duration": 27,
    "start_time": "2023-01-24T09:35:16.684Z"
   },
   {
    "duration": 4,
    "start_time": "2023-01-24T09:35:16.712Z"
   },
   {
    "duration": 14,
    "start_time": "2023-01-24T09:35:16.718Z"
   },
   {
    "duration": 3,
    "start_time": "2023-01-24T09:35:16.734Z"
   },
   {
    "duration": 9,
    "start_time": "2023-01-24T09:35:16.738Z"
   },
   {
    "duration": 14,
    "start_time": "2023-01-24T09:35:16.748Z"
   },
   {
    "duration": 11,
    "start_time": "2023-01-24T09:35:16.764Z"
   },
   {
    "duration": 24,
    "start_time": "2023-01-24T09:35:16.777Z"
   },
   {
    "duration": 11,
    "start_time": "2023-01-24T09:35:16.804Z"
   },
   {
    "duration": 11,
    "start_time": "2023-01-24T09:35:16.816Z"
   },
   {
    "duration": 23,
    "start_time": "2023-01-24T09:35:16.828Z"
   },
   {
    "duration": 15,
    "start_time": "2023-01-24T09:35:16.853Z"
   },
   {
    "duration": 33,
    "start_time": "2023-01-24T09:35:16.869Z"
   },
   {
    "duration": 706,
    "start_time": "2023-01-24T09:35:16.903Z"
   },
   {
    "duration": 300,
    "start_time": "2023-01-24T09:35:17.611Z"
   },
   {
    "duration": 85,
    "start_time": "2023-01-24T09:35:17.912Z"
   },
   {
    "duration": 98,
    "start_time": "2023-01-24T09:35:18.001Z"
   },
   {
    "duration": 11,
    "start_time": "2023-01-24T09:35:18.100Z"
   },
   {
    "duration": 5,
    "start_time": "2023-01-24T09:35:18.113Z"
   },
   {
    "duration": 6,
    "start_time": "2023-01-24T09:35:18.120Z"
   },
   {
    "duration": 3,
    "start_time": "2023-01-24T09:35:18.127Z"
   },
   {
    "duration": 68,
    "start_time": "2023-01-24T09:35:18.132Z"
   },
   {
    "duration": 8,
    "start_time": "2023-01-24T09:35:18.201Z"
   },
   {
    "duration": 8,
    "start_time": "2023-01-24T09:35:18.211Z"
   },
   {
    "duration": 11,
    "start_time": "2023-01-24T09:35:18.220Z"
   },
   {
    "duration": 976,
    "start_time": "2023-01-24T09:35:18.232Z"
   },
   {
    "duration": 799,
    "start_time": "2023-01-24T09:35:19.296Z"
   },
   {
    "duration": 274,
    "start_time": "2023-01-24T09:35:20.102Z"
   },
   {
    "duration": 9126,
    "start_time": "2023-01-24T09:35:20.377Z"
   },
   {
    "duration": 8053,
    "start_time": "2023-01-24T09:35:29.505Z"
   },
   {
    "duration": 875,
    "start_time": "2023-01-24T09:35:37.559Z"
   },
   {
    "duration": 743,
    "start_time": "2023-01-24T09:35:38.436Z"
   },
   {
    "duration": 14,
    "start_time": "2023-01-24T09:35:39.180Z"
   },
   {
    "duration": 228,
    "start_time": "2023-01-24T09:35:39.195Z"
   },
   {
    "duration": 5,
    "start_time": "2023-01-24T09:35:39.425Z"
   },
   {
    "duration": 125,
    "start_time": "2023-01-24T09:57:44.148Z"
   },
   {
    "duration": 4,
    "start_time": "2023-01-24T09:57:53.499Z"
   },
   {
    "duration": 79,
    "start_time": "2023-01-24T09:57:53.504Z"
   },
   {
    "duration": 16,
    "start_time": "2023-01-24T09:57:53.585Z"
   },
   {
    "duration": 9,
    "start_time": "2023-01-24T09:57:53.603Z"
   },
   {
    "duration": 27,
    "start_time": "2023-01-24T09:57:53.613Z"
   },
   {
    "duration": 31,
    "start_time": "2023-01-24T09:57:53.642Z"
   },
   {
    "duration": 10,
    "start_time": "2023-01-24T09:57:53.676Z"
   },
   {
    "duration": 37,
    "start_time": "2023-01-24T09:57:53.688Z"
   },
   {
    "duration": 9,
    "start_time": "2023-01-24T09:57:53.727Z"
   },
   {
    "duration": 28,
    "start_time": "2023-01-24T09:57:53.738Z"
   },
   {
    "duration": 25,
    "start_time": "2023-01-24T09:57:53.767Z"
   },
   {
    "duration": 25,
    "start_time": "2023-01-24T09:57:53.793Z"
   },
   {
    "duration": 26,
    "start_time": "2023-01-24T09:57:53.820Z"
   },
   {
    "duration": 11,
    "start_time": "2023-01-24T09:57:53.848Z"
   },
   {
    "duration": 7,
    "start_time": "2023-01-24T09:57:53.861Z"
   },
   {
    "duration": 33,
    "start_time": "2023-01-24T09:57:53.870Z"
   },
   {
    "duration": 18,
    "start_time": "2023-01-24T09:57:53.905Z"
   },
   {
    "duration": 21,
    "start_time": "2023-01-24T09:57:53.925Z"
   },
   {
    "duration": 800,
    "start_time": "2023-01-24T09:57:53.948Z"
   },
   {
    "duration": 248,
    "start_time": "2023-01-24T09:57:54.751Z"
   },
   {
    "duration": 96,
    "start_time": "2023-01-24T09:57:55.000Z"
   },
   {
    "duration": 96,
    "start_time": "2023-01-24T09:57:55.099Z"
   },
   {
    "duration": 7,
    "start_time": "2023-01-24T09:57:55.197Z"
   },
   {
    "duration": 6,
    "start_time": "2023-01-24T09:57:55.207Z"
   },
   {
    "duration": 5,
    "start_time": "2023-01-24T09:57:55.214Z"
   },
   {
    "duration": 4,
    "start_time": "2023-01-24T09:57:55.221Z"
   },
   {
    "duration": 12,
    "start_time": "2023-01-24T09:57:55.226Z"
   },
   {
    "duration": 7,
    "start_time": "2023-01-24T09:57:55.240Z"
   },
   {
    "duration": 7,
    "start_time": "2023-01-24T09:57:55.248Z"
   },
   {
    "duration": 45,
    "start_time": "2023-01-24T09:57:55.256Z"
   },
   {
    "duration": 999,
    "start_time": "2023-01-24T09:57:55.302Z"
   },
   {
    "duration": 900,
    "start_time": "2023-01-24T09:57:56.303Z"
   },
   {
    "duration": 181,
    "start_time": "2023-01-24T09:57:57.295Z"
   },
   {
    "duration": 9292,
    "start_time": "2023-01-24T09:57:57.492Z"
   },
   {
    "duration": 8359,
    "start_time": "2023-01-24T09:58:06.786Z"
   },
   {
    "duration": 900,
    "start_time": "2023-01-24T09:58:15.147Z"
   },
   {
    "duration": 5,
    "start_time": "2023-01-24T09:58:16.049Z"
   },
   {
    "duration": 776,
    "start_time": "2023-01-24T09:58:16.055Z"
   },
   {
    "duration": 8,
    "start_time": "2023-01-24T09:58:16.833Z"
   },
   {
    "duration": 159,
    "start_time": "2023-01-24T09:58:16.843Z"
   },
   {
    "duration": 5,
    "start_time": "2023-01-24T09:58:17.004Z"
   },
   {
    "duration": 909,
    "start_time": "2023-01-24T09:59:45.420Z"
   },
   {
    "duration": 929,
    "start_time": "2023-01-24T09:59:55.597Z"
   },
   {
    "duration": 54,
    "start_time": "2023-01-24T10:09:45.978Z"
   },
   {
    "duration": 972,
    "start_time": "2023-01-24T10:09:53.182Z"
   },
   {
    "duration": 1542,
    "start_time": "2023-01-24T20:24:21.815Z"
   },
   {
    "duration": 191,
    "start_time": "2023-01-24T20:24:23.359Z"
   },
   {
    "duration": 20,
    "start_time": "2023-01-24T20:24:23.552Z"
   },
   {
    "duration": 6,
    "start_time": "2023-01-24T20:24:23.575Z"
   },
   {
    "duration": 11,
    "start_time": "2023-01-24T20:24:23.583Z"
   },
   {
    "duration": 27,
    "start_time": "2023-01-24T20:24:23.596Z"
   },
   {
    "duration": 5,
    "start_time": "2023-01-24T20:24:23.625Z"
   },
   {
    "duration": 21,
    "start_time": "2023-01-24T20:24:23.631Z"
   },
   {
    "duration": 3,
    "start_time": "2023-01-24T20:24:23.654Z"
   },
   {
    "duration": 7,
    "start_time": "2023-01-24T20:24:23.659Z"
   },
   {
    "duration": 6,
    "start_time": "2023-01-24T20:24:23.668Z"
   },
   {
    "duration": 5,
    "start_time": "2023-01-24T20:24:23.693Z"
   },
   {
    "duration": 13,
    "start_time": "2023-01-24T20:24:23.699Z"
   },
   {
    "duration": 15,
    "start_time": "2023-01-24T20:24:23.714Z"
   },
   {
    "duration": 7,
    "start_time": "2023-01-24T20:24:23.730Z"
   },
   {
    "duration": 22,
    "start_time": "2023-01-24T20:24:23.739Z"
   },
   {
    "duration": 41,
    "start_time": "2023-01-24T20:24:23.763Z"
   },
   {
    "duration": 16,
    "start_time": "2023-01-24T20:24:23.805Z"
   },
   {
    "duration": 771,
    "start_time": "2023-01-24T20:24:23.822Z"
   },
   {
    "duration": 217,
    "start_time": "2023-01-24T20:24:24.594Z"
   },
   {
    "duration": 81,
    "start_time": "2023-01-24T20:24:24.812Z"
   },
   {
    "duration": 7,
    "start_time": "2023-01-24T20:24:24.895Z"
   },
   {
    "duration": 14,
    "start_time": "2023-01-24T20:24:24.994Z"
   },
   {
    "duration": 7,
    "start_time": "2023-01-24T20:24:25.010Z"
   },
   {
    "duration": 75,
    "start_time": "2023-01-24T20:24:25.019Z"
   },
   {
    "duration": 3,
    "start_time": "2023-01-24T20:24:25.096Z"
   },
   {
    "duration": 13,
    "start_time": "2023-01-24T20:24:25.101Z"
   },
   {
    "duration": 8,
    "start_time": "2023-01-24T20:24:25.117Z"
   },
   {
    "duration": 8,
    "start_time": "2023-01-24T20:24:25.126Z"
   },
   {
    "duration": 10,
    "start_time": "2023-01-24T20:24:25.136Z"
   },
   {
    "duration": 1053,
    "start_time": "2023-01-24T20:24:25.148Z"
   },
   {
    "duration": 891,
    "start_time": "2023-01-24T20:24:26.203Z"
   },
   {
    "duration": 202,
    "start_time": "2023-01-24T20:24:27.098Z"
   },
   {
    "duration": 9595,
    "start_time": "2023-01-24T20:24:27.302Z"
   },
   {
    "duration": 8471,
    "start_time": "2023-01-24T20:24:36.899Z"
   },
   {
    "duration": 963,
    "start_time": "2023-01-24T20:24:45.371Z"
   },
   {
    "duration": 5,
    "start_time": "2023-01-24T20:24:46.336Z"
   },
   {
    "duration": 859,
    "start_time": "2023-01-24T20:24:46.343Z"
   },
   {
    "duration": 10,
    "start_time": "2023-01-24T20:24:47.204Z"
   },
   {
    "duration": 177,
    "start_time": "2023-01-24T20:24:47.215Z"
   },
   {
    "duration": 6,
    "start_time": "2023-01-24T20:24:47.393Z"
   },
   {
    "duration": 118,
    "start_time": "2023-01-24T20:36:42.238Z"
   },
   {
    "duration": 102,
    "start_time": "2023-01-24T20:36:55.336Z"
   },
   {
    "duration": 131,
    "start_time": "2023-01-24T20:37:07.952Z"
   },
   {
    "duration": 117,
    "start_time": "2023-01-24T20:37:19.125Z"
   },
   {
    "duration": 117,
    "start_time": "2023-01-24T20:37:35.096Z"
   },
   {
    "duration": 108,
    "start_time": "2023-01-24T20:37:46.084Z"
   },
   {
    "duration": 171,
    "start_time": "2023-01-24T20:41:00.852Z"
   },
   {
    "duration": 170,
    "start_time": "2023-01-24T20:41:21.290Z"
   },
   {
    "duration": 1412,
    "start_time": "2023-01-24T20:42:14.358Z"
   },
   {
    "duration": 61,
    "start_time": "2023-01-24T20:42:15.772Z"
   },
   {
    "duration": 20,
    "start_time": "2023-01-24T20:42:15.834Z"
   },
   {
    "duration": 5,
    "start_time": "2023-01-24T20:42:15.856Z"
   },
   {
    "duration": 8,
    "start_time": "2023-01-24T20:42:15.863Z"
   },
   {
    "duration": 39,
    "start_time": "2023-01-24T20:42:15.873Z"
   },
   {
    "duration": 4,
    "start_time": "2023-01-24T20:42:15.914Z"
   },
   {
    "duration": 16,
    "start_time": "2023-01-24T20:42:15.920Z"
   },
   {
    "duration": 5,
    "start_time": "2023-01-24T20:42:15.938Z"
   },
   {
    "duration": 15,
    "start_time": "2023-01-24T20:42:15.946Z"
   },
   {
    "duration": 6,
    "start_time": "2023-01-24T20:42:15.963Z"
   },
   {
    "duration": 6,
    "start_time": "2023-01-24T20:42:15.991Z"
   },
   {
    "duration": 17,
    "start_time": "2023-01-24T20:42:15.998Z"
   },
   {
    "duration": 46,
    "start_time": "2023-01-24T20:42:16.025Z"
   },
   {
    "duration": 36,
    "start_time": "2023-01-24T20:42:16.073Z"
   },
   {
    "duration": 26,
    "start_time": "2023-01-24T20:42:16.112Z"
   },
   {
    "duration": 22,
    "start_time": "2023-01-24T20:42:16.140Z"
   },
   {
    "duration": 135,
    "start_time": "2023-01-24T20:42:16.164Z"
   },
   {
    "duration": 756,
    "start_time": "2023-01-24T20:42:16.301Z"
   },
   {
    "duration": 228,
    "start_time": "2023-01-24T20:42:17.094Z"
   },
   {
    "duration": 81,
    "start_time": "2023-01-24T20:42:17.324Z"
   },
   {
    "duration": 87,
    "start_time": "2023-01-24T20:42:17.407Z"
   },
   {
    "duration": 101,
    "start_time": "2023-01-24T20:42:17.496Z"
   },
   {
    "duration": 6,
    "start_time": "2023-01-24T20:42:17.599Z"
   },
   {
    "duration": 8,
    "start_time": "2023-01-24T20:42:17.607Z"
   },
   {
    "duration": 4,
    "start_time": "2023-01-24T20:42:17.617Z"
   },
   {
    "duration": 13,
    "start_time": "2023-01-24T20:42:17.623Z"
   },
   {
    "duration": 8,
    "start_time": "2023-01-24T20:42:17.639Z"
   },
   {
    "duration": 15,
    "start_time": "2023-01-24T20:42:17.648Z"
   },
   {
    "duration": 39,
    "start_time": "2023-01-24T20:42:17.664Z"
   },
   {
    "duration": 1088,
    "start_time": "2023-01-24T20:42:17.705Z"
   },
   {
    "duration": 849,
    "start_time": "2023-01-24T20:42:18.795Z"
   },
   {
    "duration": 206,
    "start_time": "2023-01-24T20:42:19.692Z"
   },
   {
    "duration": 9468,
    "start_time": "2023-01-24T20:42:19.900Z"
   },
   {
    "duration": 8540,
    "start_time": "2023-01-24T20:42:29.370Z"
   },
   {
    "duration": 929,
    "start_time": "2023-01-24T20:42:37.912Z"
   },
   {
    "duration": 5,
    "start_time": "2023-01-24T20:42:38.843Z"
   },
   {
    "duration": 877,
    "start_time": "2023-01-24T20:42:38.850Z"
   },
   {
    "duration": 10,
    "start_time": "2023-01-24T20:42:39.729Z"
   },
   {
    "duration": 199,
    "start_time": "2023-01-24T20:42:39.741Z"
   },
   {
    "duration": 2092,
    "start_time": "2023-01-25T17:28:30.557Z"
   },
   {
    "duration": 0,
    "start_time": "2023-01-25T17:28:32.651Z"
   },
   {
    "duration": 84,
    "start_time": "2023-01-25T17:30:18.443Z"
   },
   {
    "duration": 12,
    "start_time": "2023-01-25T17:32:09.332Z"
   },
   {
    "duration": 4,
    "start_time": "2023-01-25T17:35:09.247Z"
   },
   {
    "duration": 10,
    "start_time": "2023-01-25T17:44:23.917Z"
   },
   {
    "duration": 11,
    "start_time": "2023-01-25T17:44:34.438Z"
   },
   {
    "duration": 4,
    "start_time": "2023-01-25T17:44:39.597Z"
   },
   {
    "duration": 212,
    "start_time": "2023-01-25T17:44:39.604Z"
   },
   {
    "duration": 20,
    "start_time": "2023-01-25T17:44:39.818Z"
   },
   {
    "duration": 7,
    "start_time": "2023-01-25T17:44:39.840Z"
   },
   {
    "duration": 18,
    "start_time": "2023-01-25T17:44:39.849Z"
   },
   {
    "duration": 33,
    "start_time": "2023-01-25T17:44:39.869Z"
   },
   {
    "duration": 16,
    "start_time": "2023-01-25T17:44:42.705Z"
   },
   {
    "duration": 10,
    "start_time": "2023-01-25T17:44:56.748Z"
   },
   {
    "duration": 19,
    "start_time": "2023-01-25T17:45:04.537Z"
   },
   {
    "duration": 18,
    "start_time": "2023-01-25T17:45:15.805Z"
   },
   {
    "duration": 1198,
    "start_time": "2023-01-25T17:45:54.269Z"
   },
   {
    "duration": 19,
    "start_time": "2023-01-25T17:46:23.566Z"
   },
   {
    "duration": 1146,
    "start_time": "2023-01-25T17:46:37.775Z"
   },
   {
    "duration": 17,
    "start_time": "2023-01-25T17:47:04.135Z"
   },
   {
    "duration": 9,
    "start_time": "2023-01-25T17:47:54.050Z"
   },
   {
    "duration": 96,
    "start_time": "2023-01-25T18:06:30.654Z"
   },
   {
    "duration": 14,
    "start_time": "2023-01-25T18:16:55.867Z"
   },
   {
    "duration": 4,
    "start_time": "2023-01-25T18:16:59.824Z"
   },
   {
    "duration": 79,
    "start_time": "2023-01-25T18:16:59.832Z"
   },
   {
    "duration": 21,
    "start_time": "2023-01-25T18:16:59.913Z"
   },
   {
    "duration": 8,
    "start_time": "2023-01-25T18:16:59.936Z"
   },
   {
    "duration": 17,
    "start_time": "2023-01-25T18:16:59.947Z"
   },
   {
    "duration": 32,
    "start_time": "2023-01-25T18:16:59.966Z"
   },
   {
    "duration": 14,
    "start_time": "2023-01-25T18:17:00.001Z"
   },
   {
    "duration": 40,
    "start_time": "2023-01-25T18:17:00.038Z"
   },
   {
    "duration": 10,
    "start_time": "2023-01-25T18:17:00.080Z"
   },
   {
    "duration": 15,
    "start_time": "2023-01-25T18:17:00.092Z"
   },
   {
    "duration": 12,
    "start_time": "2023-01-25T18:17:00.111Z"
   },
   {
    "duration": 42,
    "start_time": "2023-01-25T18:17:00.126Z"
   },
   {
    "duration": 33,
    "start_time": "2023-01-25T18:17:00.170Z"
   },
   {
    "duration": 23,
    "start_time": "2023-01-25T18:17:00.205Z"
   },
   {
    "duration": 34,
    "start_time": "2023-01-25T18:17:00.230Z"
   },
   {
    "duration": 44,
    "start_time": "2023-01-25T18:17:00.266Z"
   },
   {
    "duration": 33,
    "start_time": "2023-01-25T18:17:00.312Z"
   },
   {
    "duration": 31,
    "start_time": "2023-01-25T18:17:00.347Z"
   },
   {
    "duration": 38,
    "start_time": "2023-01-25T18:17:03.026Z"
   },
   {
    "duration": 741,
    "start_time": "2023-01-25T18:17:10.566Z"
   },
   {
    "duration": 27,
    "start_time": "2023-01-25T18:17:14.949Z"
   },
   {
    "duration": 13,
    "start_time": "2023-01-25T18:30:52.151Z"
   },
   {
    "duration": 78,
    "start_time": "2023-01-25T18:31:23.828Z"
   },
   {
    "duration": 23,
    "start_time": "2023-01-25T18:39:52.716Z"
   },
   {
    "duration": 31,
    "start_time": "2023-01-25T18:40:10.196Z"
   },
   {
    "duration": 30,
    "start_time": "2023-01-25T18:41:09.685Z"
   },
   {
    "duration": 308,
    "start_time": "2023-01-25T18:41:28.939Z"
   },
   {
    "duration": 315,
    "start_time": "2023-01-25T18:41:52.784Z"
   },
   {
    "duration": 89394,
    "start_time": "2023-01-25T18:47:10.188Z"
   },
   {
    "duration": 90608,
    "start_time": "2023-01-25T18:49:16.405Z"
   },
   {
    "duration": 84160,
    "start_time": "2023-01-25T18:51:49.002Z"
   },
   {
    "duration": 81788,
    "start_time": "2023-01-25T18:54:08.745Z"
   },
   {
    "duration": 140884,
    "start_time": "2023-01-25T18:57:01.891Z"
   },
   {
    "duration": 137207,
    "start_time": "2023-01-25T19:06:02.000Z"
   },
   {
    "duration": 325,
    "start_time": "2023-01-25T19:11:09.803Z"
   },
   {
    "duration": 138285,
    "start_time": "2023-01-25T19:11:13.189Z"
   },
   {
    "duration": 30,
    "start_time": "2023-01-25T19:13:36.852Z"
   },
   {
    "duration": 24,
    "start_time": "2023-01-25T19:14:03.351Z"
   },
   {
    "duration": 21,
    "start_time": "2023-01-25T19:14:20.576Z"
   },
   {
    "duration": 324,
    "start_time": "2023-01-25T19:15:01.039Z"
   },
   {
    "duration": 138227,
    "start_time": "2023-01-25T19:15:04.288Z"
   },
   {
    "duration": 11,
    "start_time": "2023-01-25T19:19:31.129Z"
   },
   {
    "duration": 13,
    "start_time": "2023-01-25T19:20:48.600Z"
   },
   {
    "duration": 263,
    "start_time": "2023-01-25T19:21:05.274Z"
   },
   {
    "duration": 32,
    "start_time": "2023-01-25T19:21:35.715Z"
   },
   {
    "duration": 158,
    "start_time": "2023-01-25T19:21:40.281Z"
   },
   {
    "duration": 92,
    "start_time": "2023-01-25T19:22:05.673Z"
   },
   {
    "duration": 172,
    "start_time": "2023-01-25T19:22:14.565Z"
   },
   {
    "duration": 5,
    "start_time": "2023-01-25T19:28:23.360Z"
   },
   {
    "duration": 215,
    "start_time": "2023-01-25T19:29:50.641Z"
   },
   {
    "duration": 5,
    "start_time": "2023-01-25T19:30:12.852Z"
   },
   {
    "duration": 211,
    "start_time": "2023-01-25T19:30:14.772Z"
   },
   {
    "duration": 5,
    "start_time": "2023-01-25T19:30:31.398Z"
   },
   {
    "duration": 88,
    "start_time": "2023-01-25T19:30:31.405Z"
   },
   {
    "duration": 29,
    "start_time": "2023-01-25T19:30:31.496Z"
   },
   {
    "duration": 9,
    "start_time": "2023-01-25T19:30:31.537Z"
   },
   {
    "duration": 21,
    "start_time": "2023-01-25T19:30:31.548Z"
   },
   {
    "duration": 25,
    "start_time": "2023-01-25T19:30:31.571Z"
   },
   {
    "duration": 10,
    "start_time": "2023-01-25T19:30:31.597Z"
   },
   {
    "duration": 35,
    "start_time": "2023-01-25T19:30:31.609Z"
   },
   {
    "duration": 4,
    "start_time": "2023-01-25T19:30:31.646Z"
   },
   {
    "duration": 10,
    "start_time": "2023-01-25T19:30:31.652Z"
   },
   {
    "duration": 7,
    "start_time": "2023-01-25T19:30:31.664Z"
   },
   {
    "duration": 8,
    "start_time": "2023-01-25T19:30:31.673Z"
   },
   {
    "duration": 12,
    "start_time": "2023-01-25T19:30:31.683Z"
   },
   {
    "duration": 13,
    "start_time": "2023-01-25T19:30:31.736Z"
   },
   {
    "duration": 29,
    "start_time": "2023-01-25T19:30:31.751Z"
   },
   {
    "duration": 37,
    "start_time": "2023-01-25T19:30:31.782Z"
   },
   {
    "duration": 31,
    "start_time": "2023-01-25T19:30:31.821Z"
   },
   {
    "duration": 40,
    "start_time": "2023-01-25T19:30:31.854Z"
   },
   {
    "duration": 310,
    "start_time": "2023-01-25T19:30:31.897Z"
   },
   {
    "duration": 139131,
    "start_time": "2023-01-25T19:30:32.209Z"
   },
   {
    "duration": 208,
    "start_time": "2023-01-25T19:32:51.344Z"
   },
   {
    "duration": 408,
    "start_time": "2023-01-25T19:32:51.554Z"
   },
   {
    "duration": 5,
    "start_time": "2023-01-25T19:33:02.200Z"
   },
   {
    "duration": 202,
    "start_time": "2023-01-25T19:33:04.525Z"
   },
   {
    "duration": 136,
    "start_time": "2023-01-25T19:33:20.141Z"
   },
   {
    "duration": 28,
    "start_time": "2023-01-25T19:34:12.696Z"
   },
   {
    "duration": 414,
    "start_time": "2023-01-25T19:34:47.321Z"
   },
   {
    "duration": 162,
    "start_time": "2023-01-25T19:35:11.796Z"
   },
   {
    "duration": 283,
    "start_time": "2023-01-25T19:35:29.391Z"
   },
   {
    "duration": 6,
    "start_time": "2023-01-25T19:39:53.100Z"
   },
   {
    "duration": 6,
    "start_time": "2023-01-25T19:39:57.262Z"
   },
   {
    "duration": 278,
    "start_time": "2023-01-25T19:42:08.565Z"
   },
   {
    "duration": 4,
    "start_time": "2023-01-25T19:42:17.566Z"
   },
   {
    "duration": 73,
    "start_time": "2023-01-25T19:42:17.572Z"
   },
   {
    "duration": 18,
    "start_time": "2023-01-25T19:42:17.647Z"
   },
   {
    "duration": 10,
    "start_time": "2023-01-25T19:42:17.667Z"
   },
   {
    "duration": 25,
    "start_time": "2023-01-25T19:42:17.679Z"
   },
   {
    "duration": 37,
    "start_time": "2023-01-25T19:42:17.706Z"
   },
   {
    "duration": 10,
    "start_time": "2023-01-25T19:42:17.745Z"
   },
   {
    "duration": 15,
    "start_time": "2023-01-25T19:42:17.757Z"
   },
   {
    "duration": 34,
    "start_time": "2023-01-25T19:42:17.774Z"
   },
   {
    "duration": 28,
    "start_time": "2023-01-25T19:42:17.810Z"
   },
   {
    "duration": 21,
    "start_time": "2023-01-25T19:42:17.839Z"
   },
   {
    "duration": 29,
    "start_time": "2023-01-25T19:42:17.862Z"
   },
   {
    "duration": 16,
    "start_time": "2023-01-25T19:42:17.893Z"
   },
   {
    "duration": 31,
    "start_time": "2023-01-25T19:42:17.912Z"
   },
   {
    "duration": 11,
    "start_time": "2023-01-25T19:42:17.945Z"
   },
   {
    "duration": 39,
    "start_time": "2023-01-25T19:42:17.957Z"
   },
   {
    "duration": 37,
    "start_time": "2023-01-25T19:42:17.998Z"
   },
   {
    "duration": 27,
    "start_time": "2023-01-25T19:42:18.036Z"
   },
   {
    "duration": 327,
    "start_time": "2023-01-25T19:42:18.065Z"
   },
   {
    "duration": 136729,
    "start_time": "2023-01-25T19:42:18.394Z"
   },
   {
    "duration": 326,
    "start_time": "2023-01-25T19:44:35.125Z"
   },
   {
    "duration": 402,
    "start_time": "2023-01-25T19:44:35.452Z"
   },
   {
    "duration": 90,
    "start_time": "2023-01-25T19:44:35.855Z"
   },
   {
    "duration": 157,
    "start_time": "2023-01-25T19:44:35.947Z"
   },
   {
    "duration": 192,
    "start_time": "2023-01-25T19:44:36.106Z"
   },
   {
    "duration": 258,
    "start_time": "2023-01-25T19:44:36.300Z"
   },
   {
    "duration": 132,
    "start_time": "2023-01-25T19:44:36.560Z"
   },
   {
    "duration": 10,
    "start_time": "2023-01-25T19:49:05.724Z"
   },
   {
    "duration": 72,
    "start_time": "2023-01-25T19:49:08.079Z"
   },
   {
    "duration": 14,
    "start_time": "2023-01-25T19:49:10.098Z"
   },
   {
    "duration": 4,
    "start_time": "2023-01-25T19:50:31.484Z"
   },
   {
    "duration": 3,
    "start_time": "2023-01-25T19:51:02.169Z"
   },
   {
    "duration": 17,
    "start_time": "2023-01-25T19:51:04.227Z"
   },
   {
    "duration": 80,
    "start_time": "2023-01-25T19:51:06.488Z"
   },
   {
    "duration": 30,
    "start_time": "2023-01-25T19:51:10.118Z"
   },
   {
    "duration": 61,
    "start_time": "2023-01-26T12:34:47.601Z"
   },
   {
    "duration": 43,
    "start_time": "2023-01-26T12:37:51.500Z"
   },
   {
    "duration": 45,
    "start_time": "2023-01-26T12:38:52.018Z"
   },
   {
    "duration": 65,
    "start_time": "2023-01-26T12:38:57.429Z"
   },
   {
    "duration": 9,
    "start_time": "2023-01-26T12:39:17.202Z"
   },
   {
    "duration": 1771,
    "start_time": "2023-01-26T12:39:21.618Z"
   },
   {
    "duration": 130,
    "start_time": "2023-01-26T12:39:23.398Z"
   },
   {
    "duration": 22,
    "start_time": "2023-01-26T12:39:23.530Z"
   },
   {
    "duration": 9,
    "start_time": "2023-01-26T12:39:23.555Z"
   },
   {
    "duration": 24,
    "start_time": "2023-01-26T12:39:23.566Z"
   },
   {
    "duration": 39,
    "start_time": "2023-01-26T12:39:23.594Z"
   },
   {
    "duration": 12,
    "start_time": "2023-01-26T12:39:23.635Z"
   },
   {
    "duration": 14,
    "start_time": "2023-01-26T12:39:23.649Z"
   },
   {
    "duration": 4,
    "start_time": "2023-01-26T12:39:23.665Z"
   },
   {
    "duration": 20,
    "start_time": "2023-01-26T12:39:23.671Z"
   },
   {
    "duration": 18,
    "start_time": "2023-01-26T12:39:23.693Z"
   },
   {
    "duration": 8,
    "start_time": "2023-01-26T12:39:23.713Z"
   },
   {
    "duration": 15,
    "start_time": "2023-01-26T12:39:23.723Z"
   },
   {
    "duration": 13,
    "start_time": "2023-01-26T12:39:23.740Z"
   },
   {
    "duration": 38,
    "start_time": "2023-01-26T12:39:23.755Z"
   },
   {
    "duration": 28,
    "start_time": "2023-01-26T12:39:23.799Z"
   },
   {
    "duration": 22,
    "start_time": "2023-01-26T12:39:23.829Z"
   },
   {
    "duration": 41,
    "start_time": "2023-01-26T12:39:23.853Z"
   },
   {
    "duration": 359,
    "start_time": "2023-01-26T12:39:23.898Z"
   },
   {
    "duration": 160256,
    "start_time": "2023-01-26T12:39:24.258Z"
   },
   {
    "duration": 117,
    "start_time": "2023-01-26T12:42:04.516Z"
   },
   {
    "duration": 0,
    "start_time": "2023-01-26T12:42:04.635Z"
   },
   {
    "duration": 0,
    "start_time": "2023-01-26T12:42:04.637Z"
   },
   {
    "duration": 0,
    "start_time": "2023-01-26T12:42:04.638Z"
   },
   {
    "duration": 0,
    "start_time": "2023-01-26T12:42:04.639Z"
   },
   {
    "duration": 0,
    "start_time": "2023-01-26T12:42:04.641Z"
   },
   {
    "duration": 0,
    "start_time": "2023-01-26T12:42:04.642Z"
   },
   {
    "duration": 0,
    "start_time": "2023-01-26T12:42:04.643Z"
   },
   {
    "duration": 0,
    "start_time": "2023-01-26T12:42:04.644Z"
   },
   {
    "duration": 0,
    "start_time": "2023-01-26T12:42:04.645Z"
   },
   {
    "duration": 1,
    "start_time": "2023-01-26T12:42:04.646Z"
   },
   {
    "duration": 0,
    "start_time": "2023-01-26T12:42:04.648Z"
   },
   {
    "duration": 0,
    "start_time": "2023-01-26T12:42:04.649Z"
   },
   {
    "duration": 0,
    "start_time": "2023-01-26T12:42:04.651Z"
   },
   {
    "duration": 0,
    "start_time": "2023-01-26T12:42:04.653Z"
   },
   {
    "duration": 0,
    "start_time": "2023-01-26T12:42:04.688Z"
   },
   {
    "duration": 0,
    "start_time": "2023-01-26T12:42:04.689Z"
   },
   {
    "duration": 0,
    "start_time": "2023-01-26T12:42:04.690Z"
   },
   {
    "duration": 0,
    "start_time": "2023-01-26T12:42:04.693Z"
   },
   {
    "duration": 0,
    "start_time": "2023-01-26T12:42:04.694Z"
   },
   {
    "duration": 0,
    "start_time": "2023-01-26T12:42:04.694Z"
   },
   {
    "duration": 0,
    "start_time": "2023-01-26T12:42:04.695Z"
   },
   {
    "duration": 0,
    "start_time": "2023-01-26T12:42:04.695Z"
   },
   {
    "duration": 0,
    "start_time": "2023-01-26T12:42:04.696Z"
   },
   {
    "duration": 0,
    "start_time": "2023-01-26T12:42:04.697Z"
   },
   {
    "duration": 0,
    "start_time": "2023-01-26T12:42:04.697Z"
   },
   {
    "duration": 0,
    "start_time": "2023-01-26T12:42:04.698Z"
   },
   {
    "duration": 0,
    "start_time": "2023-01-26T12:42:04.699Z"
   },
   {
    "duration": 55,
    "start_time": "2023-01-26T12:43:43.340Z"
   },
   {
    "duration": 46,
    "start_time": "2023-01-26T12:43:54.954Z"
   },
   {
    "duration": 35,
    "start_time": "2023-01-26T12:44:21.954Z"
   },
   {
    "duration": 122,
    "start_time": "2023-01-26T12:45:37.993Z"
   },
   {
    "duration": 6,
    "start_time": "2023-01-26T12:46:02.664Z"
   },
   {
    "duration": 260,
    "start_time": "2023-01-26T12:46:02.672Z"
   },
   {
    "duration": 227,
    "start_time": "2023-01-26T12:46:02.934Z"
   },
   {
    "duration": 300,
    "start_time": "2023-01-26T12:46:03.165Z"
   },
   {
    "duration": 168,
    "start_time": "2023-01-26T12:46:03.468Z"
   },
   {
    "duration": 173,
    "start_time": "2023-01-26T12:46:03.638Z"
   },
   {
    "duration": 13,
    "start_time": "2023-01-26T12:46:03.883Z"
   },
   {
    "duration": 31,
    "start_time": "2023-01-26T12:46:03.898Z"
   },
   {
    "duration": 100,
    "start_time": "2023-01-26T12:46:03.931Z"
   },
   {
    "duration": 67,
    "start_time": "2023-01-26T12:46:04.033Z"
   },
   {
    "duration": 101,
    "start_time": "2023-01-26T12:46:04.103Z"
   },
   {
    "duration": 18,
    "start_time": "2023-01-26T12:46:04.207Z"
   },
   {
    "duration": 86,
    "start_time": "2023-01-26T12:46:04.227Z"
   },
   {
    "duration": 78,
    "start_time": "2023-01-26T12:46:04.315Z"
   },
   {
    "duration": 123,
    "start_time": "2023-01-26T12:46:04.399Z"
   },
   {
    "duration": 144,
    "start_time": "2023-01-26T12:46:04.524Z"
   },
   {
    "duration": 1123,
    "start_time": "2023-01-26T12:46:04.671Z"
   },
   {
    "duration": 1081,
    "start_time": "2023-01-26T12:46:05.809Z"
   },
   {
    "duration": 4,
    "start_time": "2023-01-26T12:46:06.893Z"
   },
   {
    "duration": 11272,
    "start_time": "2023-01-26T12:46:06.899Z"
   },
   {
    "duration": 10368,
    "start_time": "2023-01-26T12:46:18.178Z"
   },
   {
    "duration": 1195,
    "start_time": "2023-01-26T12:46:28.548Z"
   },
   {
    "duration": 8,
    "start_time": "2023-01-26T12:46:29.746Z"
   },
   {
    "duration": 990,
    "start_time": "2023-01-26T12:46:29.756Z"
   },
   {
    "duration": 11,
    "start_time": "2023-01-26T12:46:30.747Z"
   },
   {
    "duration": 284,
    "start_time": "2023-01-26T12:46:30.760Z"
   },
   {
    "duration": 464,
    "start_time": "2023-01-26T12:54:51.312Z"
   },
   {
    "duration": 8,
    "start_time": "2023-01-26T12:55:00.113Z"
   },
   {
    "duration": 124,
    "start_time": "2023-01-26T12:55:00.124Z"
   },
   {
    "duration": 45,
    "start_time": "2023-01-26T12:55:00.251Z"
   },
   {
    "duration": 11,
    "start_time": "2023-01-26T12:55:00.304Z"
   },
   {
    "duration": 45,
    "start_time": "2023-01-26T12:55:00.319Z"
   },
   {
    "duration": 57,
    "start_time": "2023-01-26T12:55:00.367Z"
   },
   {
    "duration": 36,
    "start_time": "2023-01-26T12:55:00.428Z"
   },
   {
    "duration": 38,
    "start_time": "2023-01-26T12:55:00.466Z"
   },
   {
    "duration": 47,
    "start_time": "2023-01-26T12:55:00.506Z"
   },
   {
    "duration": 67,
    "start_time": "2023-01-26T12:55:00.556Z"
   },
   {
    "duration": 29,
    "start_time": "2023-01-26T12:55:00.626Z"
   },
   {
    "duration": 48,
    "start_time": "2023-01-26T12:55:00.658Z"
   },
   {
    "duration": 34,
    "start_time": "2023-01-26T12:55:00.709Z"
   },
   {
    "duration": 34,
    "start_time": "2023-01-26T12:55:00.747Z"
   },
   {
    "duration": 39,
    "start_time": "2023-01-26T12:55:00.783Z"
   },
   {
    "duration": 50,
    "start_time": "2023-01-26T12:55:00.825Z"
   },
   {
    "duration": 39,
    "start_time": "2023-01-26T12:55:00.878Z"
   },
   {
    "duration": 51,
    "start_time": "2023-01-26T12:55:00.919Z"
   },
   {
    "duration": 395,
    "start_time": "2023-01-26T12:55:00.971Z"
   },
   {
    "duration": 164474,
    "start_time": "2023-01-26T12:55:01.368Z"
   },
   {
    "duration": 146,
    "start_time": "2023-01-26T12:57:45.844Z"
   },
   {
    "duration": 503,
    "start_time": "2023-01-26T12:57:45.992Z"
   },
   {
    "duration": 83,
    "start_time": "2023-01-26T12:57:46.503Z"
   },
   {
    "duration": 172,
    "start_time": "2023-01-26T12:57:46.592Z"
   },
   {
    "duration": 234,
    "start_time": "2023-01-26T12:57:46.766Z"
   },
   {
    "duration": 352,
    "start_time": "2023-01-26T12:57:47.004Z"
   },
   {
    "duration": 150,
    "start_time": "2023-01-26T12:57:47.358Z"
   },
   {
    "duration": 113,
    "start_time": "2023-01-26T12:57:47.510Z"
   },
   {
    "duration": 5,
    "start_time": "2023-01-26T12:57:47.685Z"
   },
   {
    "duration": 117,
    "start_time": "2023-01-26T12:57:47.692Z"
   },
   {
    "duration": 99,
    "start_time": "2023-01-26T12:57:47.811Z"
   },
   {
    "duration": 15,
    "start_time": "2023-01-26T12:57:47.913Z"
   },
   {
    "duration": 102,
    "start_time": "2023-01-26T12:57:47.985Z"
   },
   {
    "duration": 25,
    "start_time": "2023-01-26T12:57:48.091Z"
   },
   {
    "duration": 85,
    "start_time": "2023-01-26T12:57:48.118Z"
   },
   {
    "duration": 86,
    "start_time": "2023-01-26T12:57:48.206Z"
   },
   {
    "duration": 90,
    "start_time": "2023-01-26T12:57:48.300Z"
   },
   {
    "duration": 147,
    "start_time": "2023-01-26T12:57:48.395Z"
   },
   {
    "duration": 1251,
    "start_time": "2023-01-26T12:57:48.544Z"
   },
   {
    "duration": 229332,
    "start_time": "2023-01-26T13:14:35.373Z"
   },
   {
    "duration": 132,
    "start_time": "2023-01-26T13:24:16.970Z"
   },
   {
    "duration": 55,
    "start_time": "2023-01-26T13:25:52.968Z"
   },
   {
    "duration": 542,
    "start_time": "2023-01-26T13:29:16.015Z"
   },
   {
    "duration": 17,
    "start_time": "2023-01-26T13:29:48.526Z"
   },
   {
    "duration": 131,
    "start_time": "2023-01-26T13:29:48.546Z"
   },
   {
    "duration": 1321,
    "start_time": "2023-01-26T13:29:48.679Z"
   },
   {
    "duration": 657,
    "start_time": "2023-01-26T13:29:50.003Z"
   },
   {
    "duration": 99,
    "start_time": "2023-01-26T13:29:50.664Z"
   },
   {
    "duration": 0,
    "start_time": "2023-01-26T13:29:50.766Z"
   },
   {
    "duration": 0,
    "start_time": "2023-01-26T13:29:50.768Z"
   },
   {
    "duration": 0,
    "start_time": "2023-01-26T13:29:50.770Z"
   },
   {
    "duration": 0,
    "start_time": "2023-01-26T13:29:50.773Z"
   },
   {
    "duration": 0,
    "start_time": "2023-01-26T13:29:50.775Z"
   },
   {
    "duration": 0,
    "start_time": "2023-01-26T13:29:50.777Z"
   },
   {
    "duration": 0,
    "start_time": "2023-01-26T13:29:50.778Z"
   },
   {
    "duration": 0,
    "start_time": "2023-01-26T13:29:50.779Z"
   },
   {
    "duration": 0,
    "start_time": "2023-01-26T13:29:50.781Z"
   },
   {
    "duration": 0,
    "start_time": "2023-01-26T13:29:50.782Z"
   },
   {
    "duration": 502,
    "start_time": "2023-01-26T13:33:27.342Z"
   },
   {
    "duration": 217143,
    "start_time": "2023-01-26T13:34:13.217Z"
   },
   {
    "duration": 44,
    "start_time": "2023-01-26T13:39:16.841Z"
   },
   {
    "duration": 72,
    "start_time": "2023-01-26T13:39:20.914Z"
   },
   {
    "duration": 60,
    "start_time": "2023-01-26T13:43:18.436Z"
   },
   {
    "duration": 381,
    "start_time": "2023-01-26T13:48:10.554Z"
   },
   {
    "duration": 421,
    "start_time": "2023-01-26T13:48:35.155Z"
   },
   {
    "duration": 46,
    "start_time": "2023-01-26T13:51:12.740Z"
   },
   {
    "duration": 4,
    "start_time": "2023-01-26T13:56:44.474Z"
   },
   {
    "duration": 110,
    "start_time": "2023-01-26T13:56:44.482Z"
   },
   {
    "duration": 37,
    "start_time": "2023-01-26T13:56:44.594Z"
   },
   {
    "duration": 9,
    "start_time": "2023-01-26T13:56:44.633Z"
   },
   {
    "duration": 11,
    "start_time": "2023-01-26T13:56:44.645Z"
   },
   {
    "duration": 70,
    "start_time": "2023-01-26T13:56:44.657Z"
   },
   {
    "duration": 13,
    "start_time": "2023-01-26T13:56:44.729Z"
   },
   {
    "duration": 10,
    "start_time": "2023-01-26T13:56:44.744Z"
   },
   {
    "duration": 8,
    "start_time": "2023-01-26T13:56:44.755Z"
   },
   {
    "duration": 12,
    "start_time": "2023-01-26T13:56:44.765Z"
   },
   {
    "duration": 53,
    "start_time": "2023-01-26T13:56:44.779Z"
   },
   {
    "duration": 9,
    "start_time": "2023-01-26T13:56:44.834Z"
   },
   {
    "duration": 26,
    "start_time": "2023-01-26T13:56:44.844Z"
   },
   {
    "duration": 22,
    "start_time": "2023-01-26T13:56:44.872Z"
   },
   {
    "duration": 42,
    "start_time": "2023-01-26T13:56:44.896Z"
   },
   {
    "duration": 40,
    "start_time": "2023-01-26T13:56:44.940Z"
   },
   {
    "duration": 46,
    "start_time": "2023-01-26T13:56:44.982Z"
   },
   {
    "duration": 46,
    "start_time": "2023-01-26T13:56:45.030Z"
   },
   {
    "duration": 446,
    "start_time": "2023-01-26T13:56:45.078Z"
   },
   {
    "duration": 171027,
    "start_time": "2023-01-26T13:56:45.526Z"
   },
   {
    "duration": 56,
    "start_time": "2023-01-26T13:59:36.555Z"
   },
   {
    "duration": 595,
    "start_time": "2023-01-26T13:59:36.616Z"
   },
   {
    "duration": 69,
    "start_time": "2023-01-26T13:59:37.220Z"
   },
   {
    "duration": 226,
    "start_time": "2023-01-26T13:59:37.296Z"
   },
   {
    "duration": 250,
    "start_time": "2023-01-26T13:59:37.524Z"
   },
   {
    "duration": 340,
    "start_time": "2023-01-26T13:59:37.784Z"
   },
   {
    "duration": 146,
    "start_time": "2023-01-26T13:59:38.126Z"
   },
   {
    "duration": 116,
    "start_time": "2023-01-26T13:59:38.273Z"
   },
   {
    "duration": 13,
    "start_time": "2023-01-26T13:59:38.397Z"
   },
   {
    "duration": 111,
    "start_time": "2023-01-26T13:59:38.412Z"
   },
   {
    "duration": 99,
    "start_time": "2023-01-26T13:59:38.525Z"
   },
   {
    "duration": 65,
    "start_time": "2023-01-26T13:59:38.626Z"
   },
   {
    "duration": 124,
    "start_time": "2023-01-26T13:59:38.694Z"
   },
   {
    "duration": 17,
    "start_time": "2023-01-26T13:59:38.820Z"
   },
   {
    "duration": 89,
    "start_time": "2023-01-26T13:59:38.838Z"
   },
   {
    "duration": 99,
    "start_time": "2023-01-26T13:59:38.928Z"
   },
   {
    "duration": 184,
    "start_time": "2023-01-26T13:59:39.029Z"
   },
   {
    "duration": 160,
    "start_time": "2023-01-26T13:59:39.215Z"
   },
   {
    "duration": 468,
    "start_time": "2023-01-26T13:59:39.385Z"
   },
   {
    "duration": 227781,
    "start_time": "2023-01-26T13:59:39.855Z"
   },
   {
    "duration": 62,
    "start_time": "2023-01-26T14:03:27.638Z"
   },
   {
    "duration": 442,
    "start_time": "2023-01-26T14:03:27.703Z"
   },
   {
    "duration": 165812,
    "start_time": "2023-01-26T14:03:28.146Z"
   },
   {
    "duration": 38,
    "start_time": "2023-01-26T14:06:13.960Z"
   },
   {
    "duration": 97,
    "start_time": "2023-01-26T14:06:14.001Z"
   },
   {
    "duration": 12079,
    "start_time": "2023-01-26T14:06:14.100Z"
   },
   {
    "duration": 10622,
    "start_time": "2023-01-26T14:06:26.186Z"
   },
   {
    "duration": 1091,
    "start_time": "2023-01-26T14:06:36.813Z"
   },
   {
    "duration": 12,
    "start_time": "2023-01-26T14:06:37.906Z"
   },
   {
    "duration": 906,
    "start_time": "2023-01-26T14:06:37.919Z"
   },
   {
    "duration": 9,
    "start_time": "2023-01-26T14:06:38.827Z"
   },
   {
    "duration": 315,
    "start_time": "2023-01-26T14:06:38.838Z"
   },
   {
    "duration": 5,
    "start_time": "2023-01-26T14:21:31.428Z"
   },
   {
    "duration": 139,
    "start_time": "2023-01-26T14:21:31.435Z"
   },
   {
    "duration": 32,
    "start_time": "2023-01-26T14:21:31.577Z"
   },
   {
    "duration": 42,
    "start_time": "2023-01-26T14:21:31.618Z"
   },
   {
    "duration": 70,
    "start_time": "2023-01-26T14:21:31.662Z"
   },
   {
    "duration": 28,
    "start_time": "2023-01-26T14:21:31.733Z"
   },
   {
    "duration": 11,
    "start_time": "2023-01-26T14:21:31.763Z"
   },
   {
    "duration": 20,
    "start_time": "2023-01-26T14:21:31.776Z"
   },
   {
    "duration": 45,
    "start_time": "2023-01-26T14:21:31.798Z"
   },
   {
    "duration": 11,
    "start_time": "2023-01-26T14:21:31.845Z"
   },
   {
    "duration": 13,
    "start_time": "2023-01-26T14:21:31.858Z"
   },
   {
    "duration": 50,
    "start_time": "2023-01-26T14:21:31.873Z"
   },
   {
    "duration": 31,
    "start_time": "2023-01-26T14:21:31.927Z"
   },
   {
    "duration": 15,
    "start_time": "2023-01-26T14:21:31.960Z"
   },
   {
    "duration": 45,
    "start_time": "2023-01-26T14:21:31.977Z"
   },
   {
    "duration": 32,
    "start_time": "2023-01-26T14:21:32.026Z"
   },
   {
    "duration": 20,
    "start_time": "2023-01-26T14:21:32.060Z"
   },
   {
    "duration": 29,
    "start_time": "2023-01-26T14:21:32.082Z"
   },
   {
    "duration": 377,
    "start_time": "2023-01-26T14:21:32.113Z"
   },
   {
    "duration": 167902,
    "start_time": "2023-01-26T14:21:32.492Z"
   },
   {
    "duration": 39,
    "start_time": "2023-01-26T14:24:20.402Z"
   },
   {
    "duration": 544,
    "start_time": "2023-01-26T14:24:20.443Z"
   },
   {
    "duration": 9,
    "start_time": "2023-01-26T14:24:20.993Z"
   },
   {
    "duration": 304,
    "start_time": "2023-01-26T14:24:21.010Z"
   },
   {
    "duration": 228,
    "start_time": "2023-01-26T14:24:21.320Z"
   },
   {
    "duration": 284,
    "start_time": "2023-01-26T14:24:21.550Z"
   },
   {
    "duration": 135,
    "start_time": "2023-01-26T14:24:21.836Z"
   },
   {
    "duration": 131,
    "start_time": "2023-01-26T14:24:21.973Z"
   },
   {
    "duration": 96,
    "start_time": "2023-01-26T14:24:22.107Z"
   },
   {
    "duration": 43,
    "start_time": "2023-01-26T14:24:22.206Z"
   },
   {
    "duration": 107,
    "start_time": "2023-01-26T14:24:22.250Z"
   },
   {
    "duration": 48,
    "start_time": "2023-01-26T14:24:22.358Z"
   },
   {
    "duration": 119,
    "start_time": "2023-01-26T14:24:22.409Z"
   },
   {
    "duration": 27,
    "start_time": "2023-01-26T14:24:22.530Z"
   },
   {
    "duration": 87,
    "start_time": "2023-01-26T14:24:22.558Z"
   },
   {
    "duration": 60,
    "start_time": "2023-01-26T14:24:22.647Z"
   },
   {
    "duration": 59,
    "start_time": "2023-01-26T14:24:22.784Z"
   },
   {
    "duration": 124,
    "start_time": "2023-01-26T14:24:22.846Z"
   },
   {
    "duration": 617,
    "start_time": "2023-01-26T14:24:22.973Z"
   },
   {
    "duration": 217853,
    "start_time": "2023-01-26T14:24:23.593Z"
   },
   {
    "duration": 476,
    "start_time": "2023-01-26T14:28:01.449Z"
   },
   {
    "duration": 618,
    "start_time": "2023-01-26T14:28:01.927Z"
   },
   {
    "duration": 159114,
    "start_time": "2023-01-26T14:28:02.546Z"
   },
   {
    "duration": 480,
    "start_time": "2023-01-26T14:30:41.663Z"
   },
   {
    "duration": 3,
    "start_time": "2023-01-26T14:30:42.145Z"
   },
   {
    "duration": 11222,
    "start_time": "2023-01-26T14:30:42.150Z"
   },
   {
    "duration": 10364,
    "start_time": "2023-01-26T14:30:53.374Z"
   },
   {
    "duration": 1091,
    "start_time": "2023-01-26T14:31:03.740Z"
   },
   {
    "duration": 6,
    "start_time": "2023-01-26T14:31:04.832Z"
   },
   {
    "duration": 988,
    "start_time": "2023-01-26T14:31:04.840Z"
   },
   {
    "duration": 10,
    "start_time": "2023-01-26T14:31:05.830Z"
   },
   {
    "duration": 232,
    "start_time": "2023-01-26T14:31:05.842Z"
   },
   {
    "duration": 5,
    "start_time": "2023-01-26T15:00:53.125Z"
   },
   {
    "duration": 110,
    "start_time": "2023-01-26T15:00:53.132Z"
   },
   {
    "duration": 22,
    "start_time": "2023-01-26T15:00:53.243Z"
   },
   {
    "duration": 36,
    "start_time": "2023-01-26T15:00:53.268Z"
   },
   {
    "duration": 27,
    "start_time": "2023-01-26T15:00:53.307Z"
   },
   {
    "duration": 61,
    "start_time": "2023-01-26T15:00:53.336Z"
   },
   {
    "duration": 13,
    "start_time": "2023-01-26T15:00:53.400Z"
   },
   {
    "duration": 15,
    "start_time": "2023-01-26T15:00:53.415Z"
   },
   {
    "duration": 6,
    "start_time": "2023-01-26T15:00:53.434Z"
   },
   {
    "duration": 11,
    "start_time": "2023-01-26T15:00:53.442Z"
   },
   {
    "duration": 6,
    "start_time": "2023-01-26T15:00:53.487Z"
   },
   {
    "duration": 16,
    "start_time": "2023-01-26T15:00:53.497Z"
   },
   {
    "duration": 14,
    "start_time": "2023-01-26T15:00:53.515Z"
   },
   {
    "duration": 16,
    "start_time": "2023-01-26T15:00:53.532Z"
   },
   {
    "duration": 55,
    "start_time": "2023-01-26T15:00:53.550Z"
   },
   {
    "duration": 48,
    "start_time": "2023-01-26T15:00:53.607Z"
   },
   {
    "duration": 31,
    "start_time": "2023-01-26T15:00:53.657Z"
   },
   {
    "duration": 35,
    "start_time": "2023-01-26T15:00:53.690Z"
   },
   {
    "duration": 361,
    "start_time": "2023-01-26T15:00:53.727Z"
   },
   {
    "duration": 155667,
    "start_time": "2023-01-26T15:00:54.094Z"
   },
   {
    "duration": 53,
    "start_time": "2023-01-26T15:03:29.763Z"
   },
   {
    "duration": 515,
    "start_time": "2023-01-26T15:03:29.887Z"
   },
   {
    "duration": 82,
    "start_time": "2023-01-26T15:03:30.404Z"
   },
   {
    "duration": 225,
    "start_time": "2023-01-26T15:03:30.494Z"
   },
   {
    "duration": 220,
    "start_time": "2023-01-26T15:03:30.721Z"
   },
   {
    "duration": 277,
    "start_time": "2023-01-26T15:03:30.943Z"
   },
   {
    "duration": 165,
    "start_time": "2023-01-26T15:03:31.222Z"
   },
   {
    "duration": 119,
    "start_time": "2023-01-26T15:03:31.389Z"
   },
   {
    "duration": 22,
    "start_time": "2023-01-26T15:03:31.585Z"
   },
   {
    "duration": 25,
    "start_time": "2023-01-26T15:03:31.609Z"
   },
   {
    "duration": 116,
    "start_time": "2023-01-26T15:03:31.636Z"
   },
   {
    "duration": 43,
    "start_time": "2023-01-26T15:03:31.754Z"
   },
   {
    "duration": 112,
    "start_time": "2023-01-26T15:03:31.800Z"
   },
   {
    "duration": 36,
    "start_time": "2023-01-26T15:03:31.914Z"
   },
   {
    "duration": 197,
    "start_time": "2023-01-26T15:03:31.952Z"
   },
   {
    "duration": 42,
    "start_time": "2023-01-26T15:03:32.151Z"
   },
   {
    "duration": 113,
    "start_time": "2023-01-26T15:03:32.196Z"
   },
   {
    "duration": 116,
    "start_time": "2023-01-26T15:03:32.311Z"
   },
   {
    "duration": 571,
    "start_time": "2023-01-26T15:03:32.429Z"
   },
   {
    "duration": 202717,
    "start_time": "2023-01-26T15:03:33.002Z"
   },
   {
    "duration": 382,
    "start_time": "2023-01-26T15:06:55.721Z"
   },
   {
    "duration": 514,
    "start_time": "2023-01-26T15:06:56.105Z"
   },
   {
    "duration": 156703,
    "start_time": "2023-01-26T15:06:56.622Z"
   },
   {
    "duration": 409,
    "start_time": "2023-01-26T15:09:33.327Z"
   },
   {
    "duration": 3,
    "start_time": "2023-01-26T15:09:33.741Z"
   },
   {
    "duration": 11160,
    "start_time": "2023-01-26T15:09:33.748Z"
   },
   {
    "duration": 10055,
    "start_time": "2023-01-26T15:09:44.913Z"
   },
   {
    "duration": 1330,
    "start_time": "2023-01-26T15:09:54.970Z"
   },
   {
    "duration": 15,
    "start_time": "2023-01-26T15:09:56.302Z"
   },
   {
    "duration": 946,
    "start_time": "2023-01-26T15:09:56.318Z"
   },
   {
    "duration": 8,
    "start_time": "2023-01-26T15:09:57.266Z"
   },
   {
    "duration": 225,
    "start_time": "2023-01-26T15:09:57.284Z"
   },
   {
    "duration": 4,
    "start_time": "2023-01-26T15:25:12.810Z"
   },
   {
    "duration": 11,
    "start_time": "2023-01-26T15:25:17.313Z"
   },
   {
    "duration": 65,
    "start_time": "2023-01-26T15:25:21.162Z"
   },
   {
    "duration": 45,
    "start_time": "2023-01-26T15:25:25.953Z"
   },
   {
    "duration": 1330,
    "start_time": "2023-01-26T15:25:50.841Z"
   },
   {
    "duration": 942,
    "start_time": "2023-01-26T15:27:21.816Z"
   },
   {
    "duration": 13,
    "start_time": "2023-01-26T15:27:25.920Z"
   },
   {
    "duration": 1237,
    "start_time": "2023-01-26T15:27:54.975Z"
   },
   {
    "duration": 12,
    "start_time": "2023-01-26T15:27:58.649Z"
   },
   {
    "duration": 1119,
    "start_time": "2023-01-26T15:29:02.238Z"
   },
   {
    "duration": 1658,
    "start_time": "2023-01-26T15:31:38.106Z"
   },
   {
    "duration": 966,
    "start_time": "2023-01-26T15:32:27.129Z"
   },
   {
    "duration": 13,
    "start_time": "2023-01-26T15:32:30.251Z"
   },
   {
    "duration": 1382,
    "start_time": "2023-01-26T15:32:57.445Z"
   },
   {
    "duration": 12,
    "start_time": "2023-01-26T15:33:01.232Z"
   },
   {
    "duration": 212,
    "start_time": "2023-01-26T15:34:03.851Z"
   },
   {
    "duration": 1401,
    "start_time": "2023-01-26T15:39:35.062Z"
   },
   {
    "duration": 898,
    "start_time": "2023-01-26T15:40:51.565Z"
   },
   {
    "duration": 13,
    "start_time": "2023-01-26T15:40:53.342Z"
   },
   {
    "duration": 1109,
    "start_time": "2023-01-26T15:41:36.625Z"
   },
   {
    "duration": 12,
    "start_time": "2023-01-26T15:41:39.013Z"
   },
   {
    "duration": 1055,
    "start_time": "2023-01-26T15:52:27.572Z"
   },
   {
    "duration": 1226,
    "start_time": "2023-01-26T15:53:32.681Z"
   },
   {
    "duration": 952,
    "start_time": "2023-01-26T15:54:18.538Z"
   },
   {
    "duration": 14,
    "start_time": "2023-01-26T15:54:27.035Z"
   },
   {
    "duration": 217,
    "start_time": "2023-01-26T15:54:43.319Z"
   },
   {
    "duration": 1408,
    "start_time": "2023-01-26T16:07:20.047Z"
   },
   {
    "duration": 17,
    "start_time": "2023-01-26T16:07:31.374Z"
   },
   {
    "duration": 1106,
    "start_time": "2023-01-26T16:09:26.153Z"
   },
   {
    "duration": 12,
    "start_time": "2023-01-26T16:09:28.542Z"
   },
   {
    "duration": 1632,
    "start_time": "2023-01-26T16:10:33.073Z"
   },
   {
    "duration": 66,
    "start_time": "2023-01-26T16:10:34.708Z"
   },
   {
    "duration": 28,
    "start_time": "2023-01-26T16:10:34.776Z"
   },
   {
    "duration": 21,
    "start_time": "2023-01-26T16:10:34.807Z"
   },
   {
    "duration": 38,
    "start_time": "2023-01-26T16:10:34.830Z"
   },
   {
    "duration": 40,
    "start_time": "2023-01-26T16:10:34.870Z"
   },
   {
    "duration": 44,
    "start_time": "2023-01-26T16:10:34.912Z"
   },
   {
    "duration": 25,
    "start_time": "2023-01-26T16:10:34.958Z"
   },
   {
    "duration": 33,
    "start_time": "2023-01-26T16:10:34.987Z"
   },
   {
    "duration": 37,
    "start_time": "2023-01-26T16:10:35.024Z"
   },
   {
    "duration": 16,
    "start_time": "2023-01-26T16:10:35.063Z"
   },
   {
    "duration": 37,
    "start_time": "2023-01-26T16:10:35.081Z"
   },
   {
    "duration": 16,
    "start_time": "2023-01-26T16:10:35.120Z"
   },
   {
    "duration": 26,
    "start_time": "2023-01-26T16:10:35.138Z"
   },
   {
    "duration": 61,
    "start_time": "2023-01-26T16:10:35.166Z"
   },
   {
    "duration": 42,
    "start_time": "2023-01-26T16:10:35.229Z"
   },
   {
    "duration": 31,
    "start_time": "2023-01-26T16:10:35.273Z"
   },
   {
    "duration": 36,
    "start_time": "2023-01-26T16:10:35.306Z"
   },
   {
    "duration": 332,
    "start_time": "2023-01-26T16:10:35.344Z"
   },
   {
    "duration": 154595,
    "start_time": "2023-01-26T16:10:35.678Z"
   },
   {
    "duration": 122,
    "start_time": "2023-01-26T16:13:10.275Z"
   },
   {
    "duration": 905,
    "start_time": "2023-01-26T16:13:10.406Z"
   },
   {
    "duration": 13,
    "start_time": "2023-01-26T16:13:11.389Z"
   },
   {
    "duration": 207,
    "start_time": "2023-01-26T16:13:11.405Z"
   },
   {
    "duration": 203,
    "start_time": "2023-01-26T16:13:11.614Z"
   },
   {
    "duration": 284,
    "start_time": "2023-01-26T16:13:11.820Z"
   },
   {
    "duration": 159,
    "start_time": "2023-01-26T16:13:12.107Z"
   },
   {
    "duration": 127,
    "start_time": "2023-01-26T16:13:12.271Z"
   },
   {
    "duration": 99,
    "start_time": "2023-01-26T16:13:12.400Z"
   },
   {
    "duration": 90,
    "start_time": "2023-01-26T16:13:12.502Z"
   },
   {
    "duration": 70,
    "start_time": "2023-01-26T16:13:12.594Z"
   },
   {
    "duration": 40,
    "start_time": "2023-01-26T16:13:12.667Z"
   },
   {
    "duration": 111,
    "start_time": "2023-01-26T16:13:12.785Z"
   },
   {
    "duration": 20,
    "start_time": "2023-01-26T16:13:12.899Z"
   },
   {
    "duration": 83,
    "start_time": "2023-01-26T16:13:12.921Z"
   },
   {
    "duration": 86,
    "start_time": "2023-01-26T16:13:13.006Z"
   },
   {
    "duration": 120,
    "start_time": "2023-01-26T16:13:13.094Z"
   },
   {
    "duration": 107,
    "start_time": "2023-01-26T16:13:13.216Z"
   },
   {
    "duration": 545,
    "start_time": "2023-01-26T16:13:13.325Z"
   },
   {
    "duration": 205447,
    "start_time": "2023-01-26T16:13:13.872Z"
   },
   {
    "duration": 419,
    "start_time": "2023-01-26T16:16:39.320Z"
   },
   {
    "duration": 601,
    "start_time": "2023-01-26T16:16:39.742Z"
   },
   {
    "duration": 157022,
    "start_time": "2023-01-26T16:16:40.345Z"
   },
   {
    "duration": 369,
    "start_time": "2023-01-26T16:19:17.369Z"
   },
   {
    "duration": 3,
    "start_time": "2023-01-26T16:19:17.740Z"
   },
   {
    "duration": 1112,
    "start_time": "2023-01-26T16:19:17.745Z"
   },
   {
    "duration": 11,
    "start_time": "2023-01-26T16:19:18.861Z"
   },
   {
    "duration": 1239,
    "start_time": "2023-01-26T16:19:18.889Z"
   },
   {
    "duration": 14,
    "start_time": "2023-01-26T16:19:20.131Z"
   },
   {
    "duration": 323,
    "start_time": "2023-01-26T16:19:20.147Z"
   },
   {
    "duration": 234534,
    "start_time": "2023-01-26T16:27:31.243Z"
   },
   {
    "duration": 87,
    "start_time": "2023-01-26T16:32:42.481Z"
   },
   {
    "duration": 12,
    "start_time": "2023-01-26T16:32:53.269Z"
   },
   {
    "duration": 166,
    "start_time": "2023-01-26T16:33:00.862Z"
   },
   {
    "duration": 166441,
    "start_time": "2023-01-26T16:33:27.902Z"
   },
   {
    "duration": 45,
    "start_time": "2023-01-26T18:21:42.302Z"
   },
   {
    "duration": 1657,
    "start_time": "2023-01-26T18:21:51.039Z"
   },
   {
    "duration": 205,
    "start_time": "2023-01-26T18:21:52.698Z"
   },
   {
    "duration": 21,
    "start_time": "2023-01-26T18:21:52.904Z"
   },
   {
    "duration": 8,
    "start_time": "2023-01-26T18:21:52.927Z"
   },
   {
    "duration": 19,
    "start_time": "2023-01-26T18:21:52.937Z"
   },
   {
    "duration": 32,
    "start_time": "2023-01-26T18:21:52.958Z"
   },
   {
    "duration": 10,
    "start_time": "2023-01-26T18:21:52.992Z"
   },
   {
    "duration": 10,
    "start_time": "2023-01-26T18:21:53.004Z"
   },
   {
    "duration": 4,
    "start_time": "2023-01-26T18:21:53.016Z"
   },
   {
    "duration": 30,
    "start_time": "2023-01-26T18:21:53.023Z"
   },
   {
    "duration": 7,
    "start_time": "2023-01-26T18:21:53.054Z"
   },
   {
    "duration": 9,
    "start_time": "2023-01-26T18:21:53.063Z"
   },
   {
    "duration": 18,
    "start_time": "2023-01-26T18:21:53.074Z"
   },
   {
    "duration": 14,
    "start_time": "2023-01-26T18:21:53.094Z"
   },
   {
    "duration": 15,
    "start_time": "2023-01-26T18:21:53.110Z"
   },
   {
    "duration": 44,
    "start_time": "2023-01-26T18:21:53.126Z"
   },
   {
    "duration": 16,
    "start_time": "2023-01-26T18:21:53.172Z"
   },
   {
    "duration": 18,
    "start_time": "2023-01-26T18:21:53.190Z"
   },
   {
    "duration": 305,
    "start_time": "2023-01-26T18:21:53.209Z"
   },
   {
    "duration": 123720,
    "start_time": "2023-01-26T18:21:53.516Z"
   },
   {
    "duration": 111,
    "start_time": "2023-01-26T18:23:57.238Z"
   },
   {
    "duration": 299,
    "start_time": "2023-01-26T18:23:57.351Z"
   },
   {
    "duration": 96,
    "start_time": "2023-01-26T18:23:57.653Z"
   },
   {
    "duration": 131,
    "start_time": "2023-01-26T18:23:57.751Z"
   },
   {
    "duration": 174,
    "start_time": "2023-01-26T18:23:57.884Z"
   },
   {
    "duration": 289,
    "start_time": "2023-01-26T18:23:58.059Z"
   },
   {
    "duration": 121,
    "start_time": "2023-01-26T18:23:58.349Z"
   },
   {
    "duration": 80,
    "start_time": "2023-01-26T18:23:58.473Z"
   },
   {
    "duration": 93,
    "start_time": "2023-01-26T18:23:58.555Z"
   },
   {
    "duration": 99,
    "start_time": "2023-01-26T18:23:58.651Z"
   },
   {
    "duration": 61,
    "start_time": "2023-01-26T18:23:58.752Z"
   },
   {
    "duration": 133,
    "start_time": "2023-01-26T18:23:58.815Z"
   },
   {
    "duration": 4,
    "start_time": "2023-01-26T18:23:58.950Z"
   },
   {
    "duration": 12,
    "start_time": "2023-01-26T18:23:58.955Z"
   },
   {
    "duration": 117,
    "start_time": "2023-01-26T18:23:58.968Z"
   },
   {
    "duration": 71,
    "start_time": "2023-01-26T18:23:59.087Z"
   },
   {
    "duration": 95,
    "start_time": "2023-01-26T18:23:59.161Z"
   },
   {
    "duration": 108,
    "start_time": "2023-01-26T18:23:59.257Z"
   },
   {
    "duration": 445,
    "start_time": "2023-01-26T18:23:59.367Z"
   },
   {
    "duration": 179149,
    "start_time": "2023-01-26T18:23:59.814Z"
   },
   {
    "duration": 469,
    "start_time": "2023-01-26T18:26:58.965Z"
   },
   {
    "duration": 471,
    "start_time": "2023-01-26T18:26:59.435Z"
   },
   {
    "duration": 133801,
    "start_time": "2023-01-26T18:26:59.908Z"
   },
   {
    "duration": 427,
    "start_time": "2023-01-26T18:29:13.711Z"
   },
   {
    "duration": 3,
    "start_time": "2023-01-26T18:29:14.148Z"
   },
   {
    "duration": 138,
    "start_time": "2023-01-26T18:29:14.152Z"
   },
   {
    "duration": 0,
    "start_time": "2023-01-26T18:29:14.292Z"
   },
   {
    "duration": 0,
    "start_time": "2023-01-26T18:29:14.293Z"
   },
   {
    "duration": 0,
    "start_time": "2023-01-26T18:29:14.294Z"
   },
   {
    "duration": 12,
    "start_time": "2023-01-26T18:32:33.177Z"
   },
   {
    "duration": 63,
    "start_time": "2023-01-26T18:33:59.070Z"
   },
   {
    "duration": 9,
    "start_time": "2023-01-26T18:33:59.135Z"
   },
   {
    "duration": 123,
    "start_time": "2023-01-26T18:33:59.145Z"
   },
   {
    "duration": 1322,
    "start_time": "2023-01-26T18:40:18.196Z"
   },
   {
    "duration": 59,
    "start_time": "2023-01-26T18:40:19.520Z"
   },
   {
    "duration": 20,
    "start_time": "2023-01-26T18:40:19.580Z"
   },
   {
    "duration": 5,
    "start_time": "2023-01-26T18:40:19.602Z"
   },
   {
    "duration": 13,
    "start_time": "2023-01-26T18:40:19.609Z"
   },
   {
    "duration": 38,
    "start_time": "2023-01-26T18:40:19.624Z"
   },
   {
    "duration": 9,
    "start_time": "2023-01-26T18:40:19.664Z"
   },
   {
    "duration": 10,
    "start_time": "2023-01-26T18:40:19.675Z"
   },
   {
    "duration": 3,
    "start_time": "2023-01-26T18:40:19.687Z"
   },
   {
    "duration": 7,
    "start_time": "2023-01-26T18:40:19.693Z"
   },
   {
    "duration": 10,
    "start_time": "2023-01-26T18:40:19.701Z"
   },
   {
    "duration": 35,
    "start_time": "2023-01-26T18:40:19.713Z"
   },
   {
    "duration": 11,
    "start_time": "2023-01-26T18:40:19.750Z"
   },
   {
    "duration": 10,
    "start_time": "2023-01-26T18:40:19.763Z"
   },
   {
    "duration": 6,
    "start_time": "2023-01-26T18:40:19.774Z"
   },
   {
    "duration": 22,
    "start_time": "2023-01-26T18:40:19.782Z"
   },
   {
    "duration": 44,
    "start_time": "2023-01-26T18:40:19.805Z"
   },
   {
    "duration": 17,
    "start_time": "2023-01-26T18:40:19.851Z"
   },
   {
    "duration": 307,
    "start_time": "2023-01-26T18:40:19.869Z"
   },
   {
    "duration": 124519,
    "start_time": "2023-01-26T18:40:20.178Z"
   },
   {
    "duration": 52,
    "start_time": "2023-01-26T18:42:24.699Z"
   },
   {
    "duration": 301,
    "start_time": "2023-01-26T18:42:24.754Z"
   },
   {
    "duration": 93,
    "start_time": "2023-01-26T18:42:25.057Z"
   },
   {
    "duration": 272,
    "start_time": "2023-01-26T18:42:25.152Z"
   },
   {
    "duration": 180,
    "start_time": "2023-01-26T18:42:25.426Z"
   },
   {
    "duration": 275,
    "start_time": "2023-01-26T18:42:25.608Z"
   },
   {
    "duration": 114,
    "start_time": "2023-01-26T18:42:25.885Z"
   },
   {
    "duration": 147,
    "start_time": "2023-01-26T18:42:26.002Z"
   },
   {
    "duration": 6,
    "start_time": "2023-01-26T18:42:26.151Z"
   },
   {
    "duration": 103,
    "start_time": "2023-01-26T18:42:26.160Z"
   },
   {
    "duration": 68,
    "start_time": "2023-01-26T18:42:26.265Z"
   },
   {
    "duration": 21,
    "start_time": "2023-01-26T18:42:26.335Z"
   },
   {
    "duration": 97,
    "start_time": "2023-01-26T18:42:26.359Z"
   },
   {
    "duration": 103,
    "start_time": "2023-01-26T18:42:26.458Z"
   },
   {
    "duration": 61,
    "start_time": "2023-01-26T18:42:26.562Z"
   },
   {
    "duration": 32,
    "start_time": "2023-01-26T18:42:26.624Z"
   },
   {
    "duration": 106,
    "start_time": "2023-01-26T18:42:26.657Z"
   },
   {
    "duration": 147,
    "start_time": "2023-01-26T18:42:26.765Z"
   },
   {
    "duration": 455,
    "start_time": "2023-01-26T18:42:26.913Z"
   },
   {
    "duration": 179473,
    "start_time": "2023-01-26T18:42:27.370Z"
   },
   {
    "duration": 308,
    "start_time": "2023-01-26T18:45:26.847Z"
   },
   {
    "duration": 491,
    "start_time": "2023-01-26T18:45:27.157Z"
   },
   {
    "duration": 134872,
    "start_time": "2023-01-26T18:45:27.649Z"
   },
   {
    "duration": 314,
    "start_time": "2023-01-26T18:47:42.523Z"
   },
   {
    "duration": 11,
    "start_time": "2023-01-26T18:47:42.848Z"
   },
   {
    "duration": 30,
    "start_time": "2023-01-26T18:47:42.864Z"
   },
   {
    "duration": 75,
    "start_time": "2023-01-26T18:47:42.896Z"
   },
   {
    "duration": 8,
    "start_time": "2023-01-26T18:47:42.973Z"
   },
   {
    "duration": 130,
    "start_time": "2023-01-26T18:47:42.983Z"
   },
   {
    "duration": 12,
    "start_time": "2023-01-26T18:48:33.114Z"
   }
  ],
  "kernelspec": {
   "display_name": "Python 3 (ipykernel)",
   "language": "python",
   "name": "python3"
  },
  "language_info": {
   "codemirror_mode": {
    "name": "ipython",
    "version": 3
   },
   "file_extension": ".py",
   "mimetype": "text/x-python",
   "name": "python",
   "nbconvert_exporter": "python",
   "pygments_lexer": "ipython3",
   "version": "3.9.16"
  },
  "toc": {
   "base_numbering": 1,
   "nav_menu": {},
   "number_sections": true,
   "sideBar": true,
   "skip_h1_title": true,
   "title_cell": "Содержание",
   "title_sidebar": "Contents",
   "toc_cell": true,
   "toc_position": {
    "height": "calc(100% - 180px)",
    "left": "10px",
    "top": "150px",
    "width": "267.333px"
   },
   "toc_section_display": true,
   "toc_window_display": true
  }
 },
 "nbformat": 4,
 "nbformat_minor": 2
}
